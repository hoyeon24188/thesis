{
 "cells": [
  {
   "cell_type": "code",
   "execution_count": 1,
   "id": "98bf25b3",
   "metadata": {},
   "outputs": [],
   "source": [
    "import pandas as pd"
   ]
  },
  {
   "cell_type": "code",
   "execution_count": 2,
   "id": "1e03e51b",
   "metadata": {},
   "outputs": [],
   "source": [
    "#https://jalynne-kim.medium.com/%EB%8D%B0%EC%9D%B4%ED%84%B0-%EC%82%AC%EC%9D%B4%EC%96%B8%EC%8A%A4-%EC%A3%BC%EC%84%B1%EB%B6%84-%EB%B6%84%EC%84%9D-pca-principal-component-analysis-%EA%B3%BC-biplot-%EA%B0%9C%EB%85%90%EA%B3%BC-%EC%82%AC%EB%A1%80-%EB%A0%88%EB%93%9C%EC%99%80%EC%9D%B8-%EB%8D%B0%EC%9D%B4%ED%84%B0-437283592031\n",
    "#pda 분석 주성분 해석방법"
   ]
  },
  {
   "cell_type": "code",
   "execution_count": 3,
   "id": "f5f9a984",
   "metadata": {
    "scrolled": true
   },
   "outputs": [],
   "source": [
    "spd= pd.read_excel('C:\\\\Users\\\\ajou\\\\Desktop\\\\Data\\\\dongtan\\\\speed_not0.xlsx')\n",
    "spd_ratio= pd.read_excel('C:\\\\Users\\\\ajou\\\\Desktop\\\\Data\\\\dongtan\\\\speed_ratio.xlsx')\n",
    "\n",
    "incident=pd.read_excel('C:\\\\Users\\\\ajou\\\\Desktop\\\\Data\\\\dongtan\\\\incident_new.xlsx')\n",
    "\n",
    "TTI_1=pd.read_excel('C:\\\\Users\\\\ajou\\\\Desktop\\\\Data\\\\dongtan\\\\link_char.xlsx',sheet_name='travel time index')\n",
    "TTI_2=pd.read_excel('C:\\\\Users\\\\ajou\\\\Desktop\\\\Data\\\\dongtan\\\\link_char.xlsx',sheet_name='travel time index_2')\n",
    "#travel time index_1: 최고속도(95%)기준 통과시간-현재속도 기준 통과시간(speed_not0 파일 기준으로 계산)\n",
    "#travel time index_2: 최고속도(95%)/현재속도(speed_not0 파일 기준으로 계산)\n",
    "\n",
    "#green_volume_ratio=pd.read...\n",
    "#green=\n",
    "#queue_ratio=\n",
    "#queue=\n",
    "\n",
    "weather_temp=pd.read_excel('C:\\\\Users\\\\ajou\\\\Desktop\\\\Data\\\\dongtan\\\\weather_temp.xlsx')\n",
    "weather_rain=pd.read_excel('C:\\\\Users\\\\ajou\\\\Desktop\\\\Data\\\\dongtan\\\\weather_rain.xlsx')\n",
    "weather_wind=pd.read_excel('C:\\\\Users\\\\ajou\\\\Desktop\\\\Data\\\\dongtan\\\\weather_wind.xlsx')\n",
    "weather_humi=pd.read_excel('C:\\\\Users\\\\ajou\\\\Desktop\\\\Data\\\\dongtan\\\\weather_humi.xlsx')\n",
    "\n",
    "link_char=pd.read_excel('C:\\\\Users\\\\ajou\\\\Desktop\\\\Data\\\\dongtan\\\\link_char.xlsx')\n",
    "\n",
    "vol_total=pd.read_excel('C:\\\\Users\\\\ajou\\\\Desktop\\\\Data\\\\dongtan\\\\volume_not0.xlsx',sheet_name='vol_total')\n",
    "vol_thr=pd.read_excel('C:\\\\Users\\\\ajou\\\\Desktop\\\\Data\\\\dongtan\\\\volume_not0.xlsx',sheet_name='vol_thr')\n",
    "vol_left=pd.read_excel('C:\\\\Users\\\\ajou\\\\Desktop\\\\Data\\\\dongtan\\\\volume_not0.xlsx',sheet_name='vol_left')\n",
    "vol_right=pd.read_excel('C:\\\\Users\\\\ajou\\\\Desktop\\\\Data\\\\dongtan\\\\volume_not0.xlsx',sheet_name='vol_right')\n",
    "vol_uturn=pd.read_excel('C:\\\\Users\\\\ajou\\\\Desktop\\\\Data\\\\dongtan\\\\volume_not0.xlsx',sheet_name='vol_uturn')\n",
    "vol_veh=pd.read_excel('C:\\\\Users\\\\ajou\\\\Desktop\\\\Data\\\\dongtan\\\\volume_not0.xlsx',sheet_name='vol_veh')\n",
    "vol_bus_s=pd.read_excel('C:\\\\Users\\\\ajou\\\\Desktop\\\\Data\\\\dongtan\\\\volume_not0.xlsx',sheet_name='vol_bus_s')\n",
    "vol_bus_b=pd.read_excel('C:\\\\Users\\\\ajou\\\\Desktop\\\\Data\\\\dongtan\\\\volume_not0.xlsx',sheet_name='vol_bus_b')\n",
    "vol_truck_s=pd.read_excel('C:\\\\Users\\\\ajou\\\\Desktop\\\\Data\\\\dongtan\\\\volume_not0.xlsx',sheet_name='vol_truck_s')\n",
    "vol_truck_b=pd.read_excel('C:\\\\Users\\\\ajou\\\\Desktop\\\\Data\\\\dongtan\\\\volume_not0.xlsx',sheet_name='vol_truck_b')\n",
    "vol_motor=pd.read_excel('C:\\\\Users\\\\ajou\\\\Desktop\\\\Data\\\\dongtan\\\\volume_not0.xlsx',sheet_name='vol_motor')\n",
    "vol_ratio=pd.read_excel('C:\\\\Users\\\\ajou\\\\Desktop\\\\Data\\\\dongtan\\\\volume_not0.xlsx',sheet_name='vol_ratio')\n",
    "# vol_total에서 교통량을 lane으로 나눠줌\n",
    "# 40352 공사중인데 교통량 있어서 lane 수 1로 가정\n"
   ]
  },
  {
   "cell_type": "markdown",
   "id": "b81a8b55",
   "metadata": {},
   "source": [
    "# 결측치 처리&확인"
   ]
  },
  {
   "cell_type": "code",
   "execution_count": 4,
   "id": "e6040ca7",
   "metadata": {},
   "outputs": [],
   "source": [
    "#speed는 결측된 시간에서 교통량이 0이라는 것을 확인하여 최고속도(95%)로 대치, 교통량은 빈 셀을 0으로 대치"
   ]
  },
  {
   "cell_type": "code",
   "execution_count": 5,
   "id": "73c1a43a",
   "metadata": {},
   "outputs": [
    {
     "data": {
      "text/html": [
       "<div>\n",
       "<style scoped>\n",
       "    .dataframe tbody tr th:only-of-type {\n",
       "        vertical-align: middle;\n",
       "    }\n",
       "\n",
       "    .dataframe tbody tr th {\n",
       "        vertical-align: top;\n",
       "    }\n",
       "\n",
       "    .dataframe thead th {\n",
       "        text-align: right;\n",
       "    }\n",
       "</style>\n",
       "<table border=\"1\" class=\"dataframe\">\n",
       "  <thead>\n",
       "    <tr style=\"text-align: right;\">\n",
       "      <th></th>\n",
       "      <th>time</th>\n",
       "      <th>40221</th>\n",
       "      <th>40222</th>\n",
       "      <th>40223</th>\n",
       "      <th>40224</th>\n",
       "      <th>40231</th>\n",
       "      <th>40232</th>\n",
       "      <th>40233</th>\n",
       "      <th>40234</th>\n",
       "      <th>40241</th>\n",
       "      <th>...</th>\n",
       "      <th>40373</th>\n",
       "      <th>40374</th>\n",
       "      <th>40381</th>\n",
       "      <th>40382</th>\n",
       "      <th>40383</th>\n",
       "      <th>40384</th>\n",
       "      <th>40391</th>\n",
       "      <th>40392</th>\n",
       "      <th>40393</th>\n",
       "      <th>40394</th>\n",
       "    </tr>\n",
       "  </thead>\n",
       "  <tbody>\n",
       "  </tbody>\n",
       "</table>\n",
       "<p>0 rows × 45 columns</p>\n",
       "</div>"
      ],
      "text/plain": [
       "Empty DataFrame\n",
       "Columns: [time, 40221, 40222, 40223, 40224, 40231, 40232, 40233, 40234, 40241, 40242, 40243, 40244, 40311, 40312, 40313, 40314, 40321, 40322, 40323, 40324, 40331, 40332, 40333, 40334, 40341, 40342, 40343, 40344, 40351, 40352, 40353, 40354, 40371, 40372, 40373, 40374, 40381, 40382, 40383, 40384, 40391, 40392, 40393, 40394]\n",
       "Index: []\n",
       "\n",
       "[0 rows x 45 columns]"
      ]
     },
     "execution_count": 5,
     "metadata": {},
     "output_type": "execute_result"
    }
   ],
   "source": [
    "spd[spd.isnull().any(axis=1)]"
   ]
  },
  {
   "cell_type": "code",
   "execution_count": 6,
   "id": "ce7341f3",
   "metadata": {},
   "outputs": [
    {
     "data": {
      "text/html": [
       "<div>\n",
       "<style scoped>\n",
       "    .dataframe tbody tr th:only-of-type {\n",
       "        vertical-align: middle;\n",
       "    }\n",
       "\n",
       "    .dataframe tbody tr th {\n",
       "        vertical-align: top;\n",
       "    }\n",
       "\n",
       "    .dataframe thead th {\n",
       "        text-align: right;\n",
       "    }\n",
       "</style>\n",
       "<table border=\"1\" class=\"dataframe\">\n",
       "  <thead>\n",
       "    <tr style=\"text-align: right;\">\n",
       "      <th></th>\n",
       "      <th>time</th>\n",
       "      <th>40221</th>\n",
       "      <th>40222</th>\n",
       "      <th>40223</th>\n",
       "      <th>40224</th>\n",
       "      <th>40231</th>\n",
       "      <th>40232</th>\n",
       "      <th>40233</th>\n",
       "      <th>40234</th>\n",
       "      <th>40241</th>\n",
       "      <th>...</th>\n",
       "      <th>40373</th>\n",
       "      <th>40374</th>\n",
       "      <th>40381</th>\n",
       "      <th>40382</th>\n",
       "      <th>40383</th>\n",
       "      <th>40384</th>\n",
       "      <th>40391</th>\n",
       "      <th>40392</th>\n",
       "      <th>40393</th>\n",
       "      <th>40394</th>\n",
       "    </tr>\n",
       "  </thead>\n",
       "  <tbody>\n",
       "  </tbody>\n",
       "</table>\n",
       "<p>0 rows × 45 columns</p>\n",
       "</div>"
      ],
      "text/plain": [
       "Empty DataFrame\n",
       "Columns: [time, 40221, 40222, 40223, 40224, 40231, 40232, 40233, 40234, 40241, 40242, 40243, 40244, 40311, 40312, 40313, 40314, 40321, 40322, 40323, 40324, 40331, 40332, 40333, 40334, 40341, 40342, 40343, 40344, 40351, 40352, 40353, 40354, 40371, 40372, 40373, 40374, 40381, 40382, 40383, 40384, 40391, 40392, 40393, 40394]\n",
       "Index: []\n",
       "\n",
       "[0 rows x 45 columns]"
      ]
     },
     "execution_count": 6,
     "metadata": {},
     "output_type": "execute_result"
    }
   ],
   "source": [
    "spd_ratio[spd_ratio.isnull().any(axis=1)]"
   ]
  },
  {
   "cell_type": "code",
   "execution_count": 7,
   "id": "08ef0eef",
   "metadata": {},
   "outputs": [
    {
     "data": {
      "text/html": [
       "<div>\n",
       "<style scoped>\n",
       "    .dataframe tbody tr th:only-of-type {\n",
       "        vertical-align: middle;\n",
       "    }\n",
       "\n",
       "    .dataframe tbody tr th {\n",
       "        vertical-align: top;\n",
       "    }\n",
       "\n",
       "    .dataframe thead th {\n",
       "        text-align: right;\n",
       "    }\n",
       "</style>\n",
       "<table border=\"1\" class=\"dataframe\">\n",
       "  <thead>\n",
       "    <tr style=\"text-align: right;\">\n",
       "      <th></th>\n",
       "      <th>time</th>\n",
       "      <th>40221</th>\n",
       "      <th>40222</th>\n",
       "      <th>40223</th>\n",
       "      <th>40224</th>\n",
       "      <th>40231</th>\n",
       "      <th>40232</th>\n",
       "      <th>40233</th>\n",
       "      <th>40234</th>\n",
       "      <th>40241</th>\n",
       "      <th>...</th>\n",
       "      <th>40373</th>\n",
       "      <th>40374</th>\n",
       "      <th>40381</th>\n",
       "      <th>40382</th>\n",
       "      <th>40383</th>\n",
       "      <th>40384</th>\n",
       "      <th>40391</th>\n",
       "      <th>40392</th>\n",
       "      <th>40393</th>\n",
       "      <th>40394</th>\n",
       "    </tr>\n",
       "  </thead>\n",
       "  <tbody>\n",
       "  </tbody>\n",
       "</table>\n",
       "<p>0 rows × 45 columns</p>\n",
       "</div>"
      ],
      "text/plain": [
       "Empty DataFrame\n",
       "Columns: [time, 40221, 40222, 40223, 40224, 40231, 40232, 40233, 40234, 40241, 40242, 40243, 40244, 40311, 40312, 40313, 40314, 40321, 40322, 40323, 40324, 40331, 40332, 40333, 40334, 40341, 40342, 40343, 40344, 40351, 40352, 40353, 40354, 40371, 40372, 40373, 40374, 40381, 40382, 40383, 40384, 40391, 40392, 40393, 40394]\n",
       "Index: []\n",
       "\n",
       "[0 rows x 45 columns]"
      ]
     },
     "execution_count": 7,
     "metadata": {},
     "output_type": "execute_result"
    }
   ],
   "source": [
    "incident[incident.isnull().any(axis=1)]"
   ]
  },
  {
   "cell_type": "code",
   "execution_count": 8,
   "id": "cfd715ea",
   "metadata": {},
   "outputs": [
    {
     "data": {
      "text/html": [
       "<div>\n",
       "<style scoped>\n",
       "    .dataframe tbody tr th:only-of-type {\n",
       "        vertical-align: middle;\n",
       "    }\n",
       "\n",
       "    .dataframe tbody tr th {\n",
       "        vertical-align: top;\n",
       "    }\n",
       "\n",
       "    .dataframe thead th {\n",
       "        text-align: right;\n",
       "    }\n",
       "</style>\n",
       "<table border=\"1\" class=\"dataframe\">\n",
       "  <thead>\n",
       "    <tr style=\"text-align: right;\">\n",
       "      <th></th>\n",
       "      <th>time</th>\n",
       "      <th>40221</th>\n",
       "      <th>40222</th>\n",
       "      <th>40223</th>\n",
       "      <th>40224</th>\n",
       "      <th>40231</th>\n",
       "      <th>40232</th>\n",
       "      <th>40233</th>\n",
       "      <th>40234</th>\n",
       "      <th>40241</th>\n",
       "      <th>...</th>\n",
       "      <th>40373</th>\n",
       "      <th>40374</th>\n",
       "      <th>40381</th>\n",
       "      <th>40382</th>\n",
       "      <th>40383</th>\n",
       "      <th>40384</th>\n",
       "      <th>40391</th>\n",
       "      <th>40392</th>\n",
       "      <th>40393</th>\n",
       "      <th>40394</th>\n",
       "    </tr>\n",
       "  </thead>\n",
       "  <tbody>\n",
       "  </tbody>\n",
       "</table>\n",
       "<p>0 rows × 45 columns</p>\n",
       "</div>"
      ],
      "text/plain": [
       "Empty DataFrame\n",
       "Columns: [time, 40221, 40222, 40223, 40224, 40231, 40232, 40233, 40234, 40241, 40242, 40243, 40244, 40311, 40312, 40313, 40314, 40321, 40322, 40323, 40324, 40331, 40332, 40333, 40334, 40341, 40342, 40343, 40344, 40351, 40352, 40353, 40354, 40371, 40372, 40373, 40374, 40381, 40382, 40383, 40384, 40391, 40392, 40393, 40394]\n",
       "Index: []\n",
       "\n",
       "[0 rows x 45 columns]"
      ]
     },
     "execution_count": 8,
     "metadata": {},
     "output_type": "execute_result"
    }
   ],
   "source": [
    "TTI_1[TTI_1.isnull().any(axis=1)]"
   ]
  },
  {
   "cell_type": "code",
   "execution_count": 9,
   "id": "932ccb66",
   "metadata": {},
   "outputs": [
    {
     "data": {
      "text/html": [
       "<div>\n",
       "<style scoped>\n",
       "    .dataframe tbody tr th:only-of-type {\n",
       "        vertical-align: middle;\n",
       "    }\n",
       "\n",
       "    .dataframe tbody tr th {\n",
       "        vertical-align: top;\n",
       "    }\n",
       "\n",
       "    .dataframe thead th {\n",
       "        text-align: right;\n",
       "    }\n",
       "</style>\n",
       "<table border=\"1\" class=\"dataframe\">\n",
       "  <thead>\n",
       "    <tr style=\"text-align: right;\">\n",
       "      <th></th>\n",
       "      <th>time</th>\n",
       "      <th>40221</th>\n",
       "      <th>40222</th>\n",
       "      <th>40223</th>\n",
       "      <th>40224</th>\n",
       "      <th>40231</th>\n",
       "      <th>40232</th>\n",
       "      <th>40233</th>\n",
       "      <th>40234</th>\n",
       "      <th>40241</th>\n",
       "      <th>...</th>\n",
       "      <th>40373</th>\n",
       "      <th>40374</th>\n",
       "      <th>40381</th>\n",
       "      <th>40382</th>\n",
       "      <th>40383</th>\n",
       "      <th>40384</th>\n",
       "      <th>40391</th>\n",
       "      <th>40392</th>\n",
       "      <th>40393</th>\n",
       "      <th>40394</th>\n",
       "    </tr>\n",
       "  </thead>\n",
       "  <tbody>\n",
       "  </tbody>\n",
       "</table>\n",
       "<p>0 rows × 45 columns</p>\n",
       "</div>"
      ],
      "text/plain": [
       "Empty DataFrame\n",
       "Columns: [time, 40221, 40222, 40223, 40224, 40231, 40232, 40233, 40234, 40241, 40242, 40243, 40244, 40311, 40312, 40313, 40314, 40321, 40322, 40323, 40324, 40331, 40332, 40333, 40334, 40341, 40342, 40343, 40344, 40351, 40352, 40353, 40354, 40371, 40372, 40373, 40374, 40381, 40382, 40383, 40384, 40391, 40392, 40393, 40394]\n",
       "Index: []\n",
       "\n",
       "[0 rows x 45 columns]"
      ]
     },
     "execution_count": 9,
     "metadata": {},
     "output_type": "execute_result"
    }
   ],
   "source": [
    "TTI_2[TTI_2.isnull().any(axis=1)]"
   ]
  },
  {
   "cell_type": "code",
   "execution_count": 10,
   "id": "19d0e4b6",
   "metadata": {},
   "outputs": [
    {
     "data": {
      "text/html": [
       "<div>\n",
       "<style scoped>\n",
       "    .dataframe tbody tr th:only-of-type {\n",
       "        vertical-align: middle;\n",
       "    }\n",
       "\n",
       "    .dataframe tbody tr th {\n",
       "        vertical-align: top;\n",
       "    }\n",
       "\n",
       "    .dataframe thead th {\n",
       "        text-align: right;\n",
       "    }\n",
       "</style>\n",
       "<table border=\"1\" class=\"dataframe\">\n",
       "  <thead>\n",
       "    <tr style=\"text-align: right;\">\n",
       "      <th></th>\n",
       "      <th>time</th>\n",
       "      <th>40221</th>\n",
       "      <th>40222</th>\n",
       "      <th>40223</th>\n",
       "      <th>40224</th>\n",
       "      <th>40231</th>\n",
       "      <th>40232</th>\n",
       "      <th>40233</th>\n",
       "      <th>40234</th>\n",
       "      <th>40241</th>\n",
       "      <th>...</th>\n",
       "      <th>40373</th>\n",
       "      <th>40374</th>\n",
       "      <th>40381</th>\n",
       "      <th>40382</th>\n",
       "      <th>40383</th>\n",
       "      <th>40384</th>\n",
       "      <th>40391</th>\n",
       "      <th>40392</th>\n",
       "      <th>40393</th>\n",
       "      <th>40394</th>\n",
       "    </tr>\n",
       "  </thead>\n",
       "  <tbody>\n",
       "    <tr>\n",
       "      <th>42664</th>\n",
       "      <td>2023-05-29 3:20</td>\n",
       "      <td>NaN</td>\n",
       "      <td>NaN</td>\n",
       "      <td>NaN</td>\n",
       "      <td>NaN</td>\n",
       "      <td>NaN</td>\n",
       "      <td>NaN</td>\n",
       "      <td>NaN</td>\n",
       "      <td>NaN</td>\n",
       "      <td>NaN</td>\n",
       "      <td>...</td>\n",
       "      <td>NaN</td>\n",
       "      <td>NaN</td>\n",
       "      <td>NaN</td>\n",
       "      <td>NaN</td>\n",
       "      <td>NaN</td>\n",
       "      <td>NaN</td>\n",
       "      <td>NaN</td>\n",
       "      <td>NaN</td>\n",
       "      <td>NaN</td>\n",
       "      <td>NaN</td>\n",
       "    </tr>\n",
       "    <tr>\n",
       "      <th>42665</th>\n",
       "      <td>2023-05-29 3:25</td>\n",
       "      <td>NaN</td>\n",
       "      <td>NaN</td>\n",
       "      <td>NaN</td>\n",
       "      <td>NaN</td>\n",
       "      <td>NaN</td>\n",
       "      <td>NaN</td>\n",
       "      <td>NaN</td>\n",
       "      <td>NaN</td>\n",
       "      <td>NaN</td>\n",
       "      <td>...</td>\n",
       "      <td>NaN</td>\n",
       "      <td>NaN</td>\n",
       "      <td>NaN</td>\n",
       "      <td>NaN</td>\n",
       "      <td>NaN</td>\n",
       "      <td>NaN</td>\n",
       "      <td>NaN</td>\n",
       "      <td>NaN</td>\n",
       "      <td>NaN</td>\n",
       "      <td>NaN</td>\n",
       "    </tr>\n",
       "    <tr>\n",
       "      <th>42666</th>\n",
       "      <td>2023-05-29 3:30</td>\n",
       "      <td>NaN</td>\n",
       "      <td>NaN</td>\n",
       "      <td>NaN</td>\n",
       "      <td>NaN</td>\n",
       "      <td>NaN</td>\n",
       "      <td>NaN</td>\n",
       "      <td>NaN</td>\n",
       "      <td>NaN</td>\n",
       "      <td>NaN</td>\n",
       "      <td>...</td>\n",
       "      <td>NaN</td>\n",
       "      <td>NaN</td>\n",
       "      <td>NaN</td>\n",
       "      <td>NaN</td>\n",
       "      <td>NaN</td>\n",
       "      <td>NaN</td>\n",
       "      <td>NaN</td>\n",
       "      <td>NaN</td>\n",
       "      <td>NaN</td>\n",
       "      <td>NaN</td>\n",
       "    </tr>\n",
       "    <tr>\n",
       "      <th>42667</th>\n",
       "      <td>2023-05-29 3:35</td>\n",
       "      <td>NaN</td>\n",
       "      <td>NaN</td>\n",
       "      <td>NaN</td>\n",
       "      <td>NaN</td>\n",
       "      <td>NaN</td>\n",
       "      <td>NaN</td>\n",
       "      <td>NaN</td>\n",
       "      <td>NaN</td>\n",
       "      <td>NaN</td>\n",
       "      <td>...</td>\n",
       "      <td>NaN</td>\n",
       "      <td>NaN</td>\n",
       "      <td>NaN</td>\n",
       "      <td>NaN</td>\n",
       "      <td>NaN</td>\n",
       "      <td>NaN</td>\n",
       "      <td>NaN</td>\n",
       "      <td>NaN</td>\n",
       "      <td>NaN</td>\n",
       "      <td>NaN</td>\n",
       "    </tr>\n",
       "    <tr>\n",
       "      <th>42668</th>\n",
       "      <td>2023-05-29 3:40</td>\n",
       "      <td>NaN</td>\n",
       "      <td>NaN</td>\n",
       "      <td>NaN</td>\n",
       "      <td>NaN</td>\n",
       "      <td>NaN</td>\n",
       "      <td>NaN</td>\n",
       "      <td>NaN</td>\n",
       "      <td>NaN</td>\n",
       "      <td>NaN</td>\n",
       "      <td>...</td>\n",
       "      <td>NaN</td>\n",
       "      <td>NaN</td>\n",
       "      <td>NaN</td>\n",
       "      <td>NaN</td>\n",
       "      <td>NaN</td>\n",
       "      <td>NaN</td>\n",
       "      <td>NaN</td>\n",
       "      <td>NaN</td>\n",
       "      <td>NaN</td>\n",
       "      <td>NaN</td>\n",
       "    </tr>\n",
       "    <tr>\n",
       "      <th>...</th>\n",
       "      <td>...</td>\n",
       "      <td>...</td>\n",
       "      <td>...</td>\n",
       "      <td>...</td>\n",
       "      <td>...</td>\n",
       "      <td>...</td>\n",
       "      <td>...</td>\n",
       "      <td>...</td>\n",
       "      <td>...</td>\n",
       "      <td>...</td>\n",
       "      <td>...</td>\n",
       "      <td>...</td>\n",
       "      <td>...</td>\n",
       "      <td>...</td>\n",
       "      <td>...</td>\n",
       "      <td>...</td>\n",
       "      <td>...</td>\n",
       "      <td>...</td>\n",
       "      <td>...</td>\n",
       "      <td>...</td>\n",
       "      <td>...</td>\n",
       "    </tr>\n",
       "    <tr>\n",
       "      <th>51181</th>\n",
       "      <td>2023-06-27 17:05</td>\n",
       "      <td>NaN</td>\n",
       "      <td>NaN</td>\n",
       "      <td>NaN</td>\n",
       "      <td>NaN</td>\n",
       "      <td>NaN</td>\n",
       "      <td>NaN</td>\n",
       "      <td>NaN</td>\n",
       "      <td>NaN</td>\n",
       "      <td>NaN</td>\n",
       "      <td>...</td>\n",
       "      <td>NaN</td>\n",
       "      <td>NaN</td>\n",
       "      <td>NaN</td>\n",
       "      <td>NaN</td>\n",
       "      <td>NaN</td>\n",
       "      <td>NaN</td>\n",
       "      <td>NaN</td>\n",
       "      <td>NaN</td>\n",
       "      <td>NaN</td>\n",
       "      <td>NaN</td>\n",
       "    </tr>\n",
       "    <tr>\n",
       "      <th>51182</th>\n",
       "      <td>2023-06-27 17:10</td>\n",
       "      <td>NaN</td>\n",
       "      <td>NaN</td>\n",
       "      <td>NaN</td>\n",
       "      <td>NaN</td>\n",
       "      <td>NaN</td>\n",
       "      <td>NaN</td>\n",
       "      <td>NaN</td>\n",
       "      <td>NaN</td>\n",
       "      <td>NaN</td>\n",
       "      <td>...</td>\n",
       "      <td>NaN</td>\n",
       "      <td>NaN</td>\n",
       "      <td>NaN</td>\n",
       "      <td>NaN</td>\n",
       "      <td>NaN</td>\n",
       "      <td>NaN</td>\n",
       "      <td>NaN</td>\n",
       "      <td>NaN</td>\n",
       "      <td>NaN</td>\n",
       "      <td>NaN</td>\n",
       "    </tr>\n",
       "    <tr>\n",
       "      <th>51183</th>\n",
       "      <td>2023-06-27 17:15</td>\n",
       "      <td>NaN</td>\n",
       "      <td>NaN</td>\n",
       "      <td>NaN</td>\n",
       "      <td>NaN</td>\n",
       "      <td>NaN</td>\n",
       "      <td>NaN</td>\n",
       "      <td>NaN</td>\n",
       "      <td>NaN</td>\n",
       "      <td>NaN</td>\n",
       "      <td>...</td>\n",
       "      <td>NaN</td>\n",
       "      <td>NaN</td>\n",
       "      <td>NaN</td>\n",
       "      <td>NaN</td>\n",
       "      <td>NaN</td>\n",
       "      <td>NaN</td>\n",
       "      <td>NaN</td>\n",
       "      <td>NaN</td>\n",
       "      <td>NaN</td>\n",
       "      <td>NaN</td>\n",
       "    </tr>\n",
       "    <tr>\n",
       "      <th>51184</th>\n",
       "      <td>2023-06-27 17:20</td>\n",
       "      <td>NaN</td>\n",
       "      <td>NaN</td>\n",
       "      <td>NaN</td>\n",
       "      <td>NaN</td>\n",
       "      <td>NaN</td>\n",
       "      <td>NaN</td>\n",
       "      <td>NaN</td>\n",
       "      <td>NaN</td>\n",
       "      <td>NaN</td>\n",
       "      <td>...</td>\n",
       "      <td>NaN</td>\n",
       "      <td>NaN</td>\n",
       "      <td>NaN</td>\n",
       "      <td>NaN</td>\n",
       "      <td>NaN</td>\n",
       "      <td>NaN</td>\n",
       "      <td>NaN</td>\n",
       "      <td>NaN</td>\n",
       "      <td>NaN</td>\n",
       "      <td>NaN</td>\n",
       "    </tr>\n",
       "    <tr>\n",
       "      <th>51185</th>\n",
       "      <td>2023-06-27 17:25</td>\n",
       "      <td>NaN</td>\n",
       "      <td>NaN</td>\n",
       "      <td>NaN</td>\n",
       "      <td>NaN</td>\n",
       "      <td>NaN</td>\n",
       "      <td>NaN</td>\n",
       "      <td>NaN</td>\n",
       "      <td>NaN</td>\n",
       "      <td>NaN</td>\n",
       "      <td>...</td>\n",
       "      <td>NaN</td>\n",
       "      <td>NaN</td>\n",
       "      <td>NaN</td>\n",
       "      <td>NaN</td>\n",
       "      <td>NaN</td>\n",
       "      <td>NaN</td>\n",
       "      <td>NaN</td>\n",
       "      <td>NaN</td>\n",
       "      <td>NaN</td>\n",
       "      <td>NaN</td>\n",
       "    </tr>\n",
       "  </tbody>\n",
       "</table>\n",
       "<p>127 rows × 45 columns</p>\n",
       "</div>"
      ],
      "text/plain": [
       "                   time  40221  40222  40223  40224  40231  40232  40233  \\\n",
       "42664   2023-05-29 3:20    NaN    NaN    NaN    NaN    NaN    NaN    NaN   \n",
       "42665   2023-05-29 3:25    NaN    NaN    NaN    NaN    NaN    NaN    NaN   \n",
       "42666   2023-05-29 3:30    NaN    NaN    NaN    NaN    NaN    NaN    NaN   \n",
       "42667   2023-05-29 3:35    NaN    NaN    NaN    NaN    NaN    NaN    NaN   \n",
       "42668   2023-05-29 3:40    NaN    NaN    NaN    NaN    NaN    NaN    NaN   \n",
       "...                 ...    ...    ...    ...    ...    ...    ...    ...   \n",
       "51181  2023-06-27 17:05    NaN    NaN    NaN    NaN    NaN    NaN    NaN   \n",
       "51182  2023-06-27 17:10    NaN    NaN    NaN    NaN    NaN    NaN    NaN   \n",
       "51183  2023-06-27 17:15    NaN    NaN    NaN    NaN    NaN    NaN    NaN   \n",
       "51184  2023-06-27 17:20    NaN    NaN    NaN    NaN    NaN    NaN    NaN   \n",
       "51185  2023-06-27 17:25    NaN    NaN    NaN    NaN    NaN    NaN    NaN   \n",
       "\n",
       "       40234  40241  ...  40373  40374  40381  40382  40383  40384  40391  \\\n",
       "42664    NaN    NaN  ...    NaN    NaN    NaN    NaN    NaN    NaN    NaN   \n",
       "42665    NaN    NaN  ...    NaN    NaN    NaN    NaN    NaN    NaN    NaN   \n",
       "42666    NaN    NaN  ...    NaN    NaN    NaN    NaN    NaN    NaN    NaN   \n",
       "42667    NaN    NaN  ...    NaN    NaN    NaN    NaN    NaN    NaN    NaN   \n",
       "42668    NaN    NaN  ...    NaN    NaN    NaN    NaN    NaN    NaN    NaN   \n",
       "...      ...    ...  ...    ...    ...    ...    ...    ...    ...    ...   \n",
       "51181    NaN    NaN  ...    NaN    NaN    NaN    NaN    NaN    NaN    NaN   \n",
       "51182    NaN    NaN  ...    NaN    NaN    NaN    NaN    NaN    NaN    NaN   \n",
       "51183    NaN    NaN  ...    NaN    NaN    NaN    NaN    NaN    NaN    NaN   \n",
       "51184    NaN    NaN  ...    NaN    NaN    NaN    NaN    NaN    NaN    NaN   \n",
       "51185    NaN    NaN  ...    NaN    NaN    NaN    NaN    NaN    NaN    NaN   \n",
       "\n",
       "       40392  40393  40394  \n",
       "42664    NaN    NaN    NaN  \n",
       "42665    NaN    NaN    NaN  \n",
       "42666    NaN    NaN    NaN  \n",
       "42667    NaN    NaN    NaN  \n",
       "42668    NaN    NaN    NaN  \n",
       "...      ...    ...    ...  \n",
       "51181    NaN    NaN    NaN  \n",
       "51182    NaN    NaN    NaN  \n",
       "51183    NaN    NaN    NaN  \n",
       "51184    NaN    NaN    NaN  \n",
       "51185    NaN    NaN    NaN  \n",
       "\n",
       "[127 rows x 45 columns]"
      ]
     },
     "execution_count": 10,
     "metadata": {},
     "output_type": "execute_result"
    }
   ],
   "source": [
    "weather_temp[weather_temp.isnull().any(axis=1)]"
   ]
  },
  {
   "cell_type": "code",
   "execution_count": 11,
   "id": "5b167d25",
   "metadata": {},
   "outputs": [
    {
     "data": {
      "text/html": [
       "<div>\n",
       "<style scoped>\n",
       "    .dataframe tbody tr th:only-of-type {\n",
       "        vertical-align: middle;\n",
       "    }\n",
       "\n",
       "    .dataframe tbody tr th {\n",
       "        vertical-align: top;\n",
       "    }\n",
       "\n",
       "    .dataframe thead th {\n",
       "        text-align: right;\n",
       "    }\n",
       "</style>\n",
       "<table border=\"1\" class=\"dataframe\">\n",
       "  <thead>\n",
       "    <tr style=\"text-align: right;\">\n",
       "      <th></th>\n",
       "      <th>new avn</th>\n",
       "      <th>40221</th>\n",
       "      <th>40222</th>\n",
       "      <th>40223</th>\n",
       "      <th>40224</th>\n",
       "      <th>40231</th>\n",
       "      <th>40232</th>\n",
       "      <th>40233</th>\n",
       "      <th>40234</th>\n",
       "      <th>40241</th>\n",
       "      <th>...</th>\n",
       "      <th>40373</th>\n",
       "      <th>40374</th>\n",
       "      <th>40381</th>\n",
       "      <th>40382</th>\n",
       "      <th>40383</th>\n",
       "      <th>40384</th>\n",
       "      <th>40391</th>\n",
       "      <th>40392</th>\n",
       "      <th>40393</th>\n",
       "      <th>40394</th>\n",
       "    </tr>\n",
       "  </thead>\n",
       "  <tbody>\n",
       "  </tbody>\n",
       "</table>\n",
       "<p>0 rows × 45 columns</p>\n",
       "</div>"
      ],
      "text/plain": [
       "Empty DataFrame\n",
       "Columns: [new avn, 40221, 40222, 40223, 40224, 40231, 40232, 40233, 40234, 40241, 40242, 40243, 40244, 40311, 40312, 40313, 40314, 40321, 40322, 40323, 40324, 40331, 40332, 40333, 40334, 40341, 40342, 40343, 40344, 40351, 40352, 40353, 40354, 40371, 40372, 40373, 40374, 40381, 40382, 40383, 40384, 40391, 40392, 40393, 40394]\n",
       "Index: []\n",
       "\n",
       "[0 rows x 45 columns]"
      ]
     },
     "execution_count": 11,
     "metadata": {},
     "output_type": "execute_result"
    }
   ],
   "source": [
    "link_char[link_char.isnull().any(axis=1)]"
   ]
  },
  {
   "cell_type": "code",
   "execution_count": 12,
   "id": "b32e1c75",
   "metadata": {},
   "outputs": [
    {
     "data": {
      "text/html": [
       "<div>\n",
       "<style scoped>\n",
       "    .dataframe tbody tr th:only-of-type {\n",
       "        vertical-align: middle;\n",
       "    }\n",
       "\n",
       "    .dataframe tbody tr th {\n",
       "        vertical-align: top;\n",
       "    }\n",
       "\n",
       "    .dataframe thead th {\n",
       "        text-align: right;\n",
       "    }\n",
       "</style>\n",
       "<table border=\"1\" class=\"dataframe\">\n",
       "  <thead>\n",
       "    <tr style=\"text-align: right;\">\n",
       "      <th></th>\n",
       "      <th>time</th>\n",
       "      <th>40221</th>\n",
       "      <th>40222</th>\n",
       "      <th>40223</th>\n",
       "      <th>40224</th>\n",
       "      <th>40231</th>\n",
       "      <th>40232</th>\n",
       "      <th>40233</th>\n",
       "      <th>40234</th>\n",
       "      <th>40241</th>\n",
       "      <th>...</th>\n",
       "      <th>40373</th>\n",
       "      <th>40374</th>\n",
       "      <th>40381</th>\n",
       "      <th>40382</th>\n",
       "      <th>40383</th>\n",
       "      <th>40384</th>\n",
       "      <th>40391</th>\n",
       "      <th>40392</th>\n",
       "      <th>40393</th>\n",
       "      <th>40394</th>\n",
       "    </tr>\n",
       "  </thead>\n",
       "  <tbody>\n",
       "  </tbody>\n",
       "</table>\n",
       "<p>0 rows × 45 columns</p>\n",
       "</div>"
      ],
      "text/plain": [
       "Empty DataFrame\n",
       "Columns: [time, 40221, 40222, 40223, 40224, 40231, 40232, 40233, 40234, 40241, 40242, 40243, 40244, 40311, 40312, 40313, 40314, 40321, 40322, 40323, 40324, 40331, 40332, 40333, 40334, 40341, 40342, 40343, 40344, 40351, 40352, 40353, 40354, 40371, 40372, 40373, 40374, 40381, 40382, 40383, 40384, 40391, 40392, 40393, 40394]\n",
       "Index: []\n",
       "\n",
       "[0 rows x 45 columns]"
      ]
     },
     "execution_count": 12,
     "metadata": {},
     "output_type": "execute_result"
    }
   ],
   "source": [
    "vol_total[vol_total.isnull().any(axis=1)]"
   ]
  },
  {
   "cell_type": "code",
   "execution_count": 13,
   "id": "eafee53f",
   "metadata": {},
   "outputs": [
    {
     "data": {
      "text/html": [
       "<div>\n",
       "<style scoped>\n",
       "    .dataframe tbody tr th:only-of-type {\n",
       "        vertical-align: middle;\n",
       "    }\n",
       "\n",
       "    .dataframe tbody tr th {\n",
       "        vertical-align: top;\n",
       "    }\n",
       "\n",
       "    .dataframe thead th {\n",
       "        text-align: right;\n",
       "    }\n",
       "</style>\n",
       "<table border=\"1\" class=\"dataframe\">\n",
       "  <thead>\n",
       "    <tr style=\"text-align: right;\">\n",
       "      <th></th>\n",
       "      <th>time</th>\n",
       "      <th>40221</th>\n",
       "      <th>40222</th>\n",
       "      <th>40223</th>\n",
       "      <th>40224</th>\n",
       "      <th>40231</th>\n",
       "      <th>40232</th>\n",
       "      <th>40233</th>\n",
       "      <th>40234</th>\n",
       "      <th>40241</th>\n",
       "      <th>...</th>\n",
       "      <th>40373</th>\n",
       "      <th>40374</th>\n",
       "      <th>40381</th>\n",
       "      <th>40382</th>\n",
       "      <th>40383</th>\n",
       "      <th>40384</th>\n",
       "      <th>40391</th>\n",
       "      <th>40392</th>\n",
       "      <th>40393</th>\n",
       "      <th>40394</th>\n",
       "    </tr>\n",
       "  </thead>\n",
       "  <tbody>\n",
       "  </tbody>\n",
       "</table>\n",
       "<p>0 rows × 45 columns</p>\n",
       "</div>"
      ],
      "text/plain": [
       "Empty DataFrame\n",
       "Columns: [time, 40221, 40222, 40223, 40224, 40231, 40232, 40233, 40234, 40241, 40242, 40243, 40244, 40311, 40312, 40313, 40314, 40321, 40322, 40323, 40324, 40331, 40332, 40333, 40334, 40341, 40342, 40343, 40344, 40351, 40352, 40353, 40354, 40371, 40372, 40373, 40374, 40381, 40382, 40383, 40384, 40391, 40392, 40393, 40394]\n",
       "Index: []\n",
       "\n",
       "[0 rows x 45 columns]"
      ]
     },
     "execution_count": 13,
     "metadata": {},
     "output_type": "execute_result"
    }
   ],
   "source": [
    "vol_thr[vol_thr.isnull().any(axis=1)]"
   ]
  },
  {
   "cell_type": "code",
   "execution_count": 14,
   "id": "6d9ee158",
   "metadata": {},
   "outputs": [
    {
     "data": {
      "text/html": [
       "<div>\n",
       "<style scoped>\n",
       "    .dataframe tbody tr th:only-of-type {\n",
       "        vertical-align: middle;\n",
       "    }\n",
       "\n",
       "    .dataframe tbody tr th {\n",
       "        vertical-align: top;\n",
       "    }\n",
       "\n",
       "    .dataframe thead th {\n",
       "        text-align: right;\n",
       "    }\n",
       "</style>\n",
       "<table border=\"1\" class=\"dataframe\">\n",
       "  <thead>\n",
       "    <tr style=\"text-align: right;\">\n",
       "      <th></th>\n",
       "      <th>time</th>\n",
       "      <th>40221</th>\n",
       "      <th>40222</th>\n",
       "      <th>40223</th>\n",
       "      <th>40224</th>\n",
       "      <th>40231</th>\n",
       "      <th>40232</th>\n",
       "      <th>40233</th>\n",
       "      <th>40234</th>\n",
       "      <th>40241</th>\n",
       "      <th>...</th>\n",
       "      <th>40373</th>\n",
       "      <th>40374</th>\n",
       "      <th>40381</th>\n",
       "      <th>40382</th>\n",
       "      <th>40383</th>\n",
       "      <th>40384</th>\n",
       "      <th>40391</th>\n",
       "      <th>40392</th>\n",
       "      <th>40393</th>\n",
       "      <th>40394</th>\n",
       "    </tr>\n",
       "  </thead>\n",
       "  <tbody>\n",
       "  </tbody>\n",
       "</table>\n",
       "<p>0 rows × 45 columns</p>\n",
       "</div>"
      ],
      "text/plain": [
       "Empty DataFrame\n",
       "Columns: [time, 40221, 40222, 40223, 40224, 40231, 40232, 40233, 40234, 40241, 40242, 40243, 40244, 40311, 40312, 40313, 40314, 40321, 40322, 40323, 40324, 40331, 40332, 40333, 40334, 40341, 40342, 40343, 40344, 40351, 40352, 40353, 40354, 40371, 40372, 40373, 40374, 40381, 40382, 40383, 40384, 40391, 40392, 40393, 40394]\n",
       "Index: []\n",
       "\n",
       "[0 rows x 45 columns]"
      ]
     },
     "execution_count": 14,
     "metadata": {},
     "output_type": "execute_result"
    }
   ],
   "source": [
    "vol_left[vol_left.isnull().any(axis=1)]"
   ]
  },
  {
   "cell_type": "code",
   "execution_count": 15,
   "id": "1e260e14",
   "metadata": {},
   "outputs": [
    {
     "data": {
      "text/html": [
       "<div>\n",
       "<style scoped>\n",
       "    .dataframe tbody tr th:only-of-type {\n",
       "        vertical-align: middle;\n",
       "    }\n",
       "\n",
       "    .dataframe tbody tr th {\n",
       "        vertical-align: top;\n",
       "    }\n",
       "\n",
       "    .dataframe thead th {\n",
       "        text-align: right;\n",
       "    }\n",
       "</style>\n",
       "<table border=\"1\" class=\"dataframe\">\n",
       "  <thead>\n",
       "    <tr style=\"text-align: right;\">\n",
       "      <th></th>\n",
       "      <th>time</th>\n",
       "      <th>40221</th>\n",
       "      <th>40222</th>\n",
       "      <th>40223</th>\n",
       "      <th>40224</th>\n",
       "      <th>40231</th>\n",
       "      <th>40232</th>\n",
       "      <th>40233</th>\n",
       "      <th>40234</th>\n",
       "      <th>40241</th>\n",
       "      <th>...</th>\n",
       "      <th>40373</th>\n",
       "      <th>40374</th>\n",
       "      <th>40381</th>\n",
       "      <th>40382</th>\n",
       "      <th>40383</th>\n",
       "      <th>40384</th>\n",
       "      <th>40391</th>\n",
       "      <th>40392</th>\n",
       "      <th>40393</th>\n",
       "      <th>40394</th>\n",
       "    </tr>\n",
       "  </thead>\n",
       "  <tbody>\n",
       "  </tbody>\n",
       "</table>\n",
       "<p>0 rows × 45 columns</p>\n",
       "</div>"
      ],
      "text/plain": [
       "Empty DataFrame\n",
       "Columns: [time, 40221, 40222, 40223, 40224, 40231, 40232, 40233, 40234, 40241, 40242, 40243, 40244, 40311, 40312, 40313, 40314, 40321, 40322, 40323, 40324, 40331, 40332, 40333, 40334, 40341, 40342, 40343, 40344, 40351, 40352, 40353, 40354, 40371, 40372, 40373, 40374, 40381, 40382, 40383, 40384, 40391, 40392, 40393, 40394]\n",
       "Index: []\n",
       "\n",
       "[0 rows x 45 columns]"
      ]
     },
     "execution_count": 15,
     "metadata": {},
     "output_type": "execute_result"
    }
   ],
   "source": [
    "vol_right[vol_right.isnull().any(axis=1)]"
   ]
  },
  {
   "cell_type": "code",
   "execution_count": 16,
   "id": "0859e6c9",
   "metadata": {},
   "outputs": [
    {
     "data": {
      "text/html": [
       "<div>\n",
       "<style scoped>\n",
       "    .dataframe tbody tr th:only-of-type {\n",
       "        vertical-align: middle;\n",
       "    }\n",
       "\n",
       "    .dataframe tbody tr th {\n",
       "        vertical-align: top;\n",
       "    }\n",
       "\n",
       "    .dataframe thead th {\n",
       "        text-align: right;\n",
       "    }\n",
       "</style>\n",
       "<table border=\"1\" class=\"dataframe\">\n",
       "  <thead>\n",
       "    <tr style=\"text-align: right;\">\n",
       "      <th></th>\n",
       "      <th>time</th>\n",
       "      <th>40221</th>\n",
       "      <th>40222</th>\n",
       "      <th>40223</th>\n",
       "      <th>40224</th>\n",
       "      <th>40231</th>\n",
       "      <th>40232</th>\n",
       "      <th>40233</th>\n",
       "      <th>40234</th>\n",
       "      <th>40241</th>\n",
       "      <th>...</th>\n",
       "      <th>40373</th>\n",
       "      <th>40374</th>\n",
       "      <th>40381</th>\n",
       "      <th>40382</th>\n",
       "      <th>40383</th>\n",
       "      <th>40384</th>\n",
       "      <th>40391</th>\n",
       "      <th>40392</th>\n",
       "      <th>40393</th>\n",
       "      <th>40394</th>\n",
       "    </tr>\n",
       "  </thead>\n",
       "  <tbody>\n",
       "  </tbody>\n",
       "</table>\n",
       "<p>0 rows × 45 columns</p>\n",
       "</div>"
      ],
      "text/plain": [
       "Empty DataFrame\n",
       "Columns: [time, 40221, 40222, 40223, 40224, 40231, 40232, 40233, 40234, 40241, 40242, 40243, 40244, 40311, 40312, 40313, 40314, 40321, 40322, 40323, 40324, 40331, 40332, 40333, 40334, 40341, 40342, 40343, 40344, 40351, 40352, 40353, 40354, 40371, 40372, 40373, 40374, 40381, 40382, 40383, 40384, 40391, 40392, 40393, 40394]\n",
       "Index: []\n",
       "\n",
       "[0 rows x 45 columns]"
      ]
     },
     "execution_count": 16,
     "metadata": {},
     "output_type": "execute_result"
    }
   ],
   "source": [
    "vol_uturn[vol_uturn.isnull().any(axis=1)]"
   ]
  },
  {
   "cell_type": "code",
   "execution_count": 17,
   "id": "43227fc9",
   "metadata": {},
   "outputs": [
    {
     "data": {
      "text/html": [
       "<div>\n",
       "<style scoped>\n",
       "    .dataframe tbody tr th:only-of-type {\n",
       "        vertical-align: middle;\n",
       "    }\n",
       "\n",
       "    .dataframe tbody tr th {\n",
       "        vertical-align: top;\n",
       "    }\n",
       "\n",
       "    .dataframe thead th {\n",
       "        text-align: right;\n",
       "    }\n",
       "</style>\n",
       "<table border=\"1\" class=\"dataframe\">\n",
       "  <thead>\n",
       "    <tr style=\"text-align: right;\">\n",
       "      <th></th>\n",
       "      <th>time</th>\n",
       "      <th>40221</th>\n",
       "      <th>40222</th>\n",
       "      <th>40223</th>\n",
       "      <th>40224</th>\n",
       "      <th>40231</th>\n",
       "      <th>40232</th>\n",
       "      <th>40233</th>\n",
       "      <th>40234</th>\n",
       "      <th>40241</th>\n",
       "      <th>...</th>\n",
       "      <th>40373</th>\n",
       "      <th>40374</th>\n",
       "      <th>40381</th>\n",
       "      <th>40382</th>\n",
       "      <th>40383</th>\n",
       "      <th>40384</th>\n",
       "      <th>40391</th>\n",
       "      <th>40392</th>\n",
       "      <th>40393</th>\n",
       "      <th>40394</th>\n",
       "    </tr>\n",
       "  </thead>\n",
       "  <tbody>\n",
       "  </tbody>\n",
       "</table>\n",
       "<p>0 rows × 45 columns</p>\n",
       "</div>"
      ],
      "text/plain": [
       "Empty DataFrame\n",
       "Columns: [time, 40221, 40222, 40223, 40224, 40231, 40232, 40233, 40234, 40241, 40242, 40243, 40244, 40311, 40312, 40313, 40314, 40321, 40322, 40323, 40324, 40331, 40332, 40333, 40334, 40341, 40342, 40343, 40344, 40351, 40352, 40353, 40354, 40371, 40372, 40373, 40374, 40381, 40382, 40383, 40384, 40391, 40392, 40393, 40394]\n",
       "Index: []\n",
       "\n",
       "[0 rows x 45 columns]"
      ]
     },
     "execution_count": 17,
     "metadata": {},
     "output_type": "execute_result"
    }
   ],
   "source": [
    "vol_veh[vol_veh.isnull().any(axis=1)]"
   ]
  },
  {
   "cell_type": "code",
   "execution_count": 18,
   "id": "f91a7b93",
   "metadata": {},
   "outputs": [
    {
     "data": {
      "text/html": [
       "<div>\n",
       "<style scoped>\n",
       "    .dataframe tbody tr th:only-of-type {\n",
       "        vertical-align: middle;\n",
       "    }\n",
       "\n",
       "    .dataframe tbody tr th {\n",
       "        vertical-align: top;\n",
       "    }\n",
       "\n",
       "    .dataframe thead th {\n",
       "        text-align: right;\n",
       "    }\n",
       "</style>\n",
       "<table border=\"1\" class=\"dataframe\">\n",
       "  <thead>\n",
       "    <tr style=\"text-align: right;\">\n",
       "      <th></th>\n",
       "      <th>time</th>\n",
       "      <th>40221</th>\n",
       "      <th>40222</th>\n",
       "      <th>40223</th>\n",
       "      <th>40224</th>\n",
       "      <th>40231</th>\n",
       "      <th>40232</th>\n",
       "      <th>40233</th>\n",
       "      <th>40234</th>\n",
       "      <th>40241</th>\n",
       "      <th>...</th>\n",
       "      <th>40373</th>\n",
       "      <th>40374</th>\n",
       "      <th>40381</th>\n",
       "      <th>40382</th>\n",
       "      <th>40383</th>\n",
       "      <th>40384</th>\n",
       "      <th>40391</th>\n",
       "      <th>40392</th>\n",
       "      <th>40393</th>\n",
       "      <th>40394</th>\n",
       "    </tr>\n",
       "  </thead>\n",
       "  <tbody>\n",
       "  </tbody>\n",
       "</table>\n",
       "<p>0 rows × 45 columns</p>\n",
       "</div>"
      ],
      "text/plain": [
       "Empty DataFrame\n",
       "Columns: [time, 40221, 40222, 40223, 40224, 40231, 40232, 40233, 40234, 40241, 40242, 40243, 40244, 40311, 40312, 40313, 40314, 40321, 40322, 40323, 40324, 40331, 40332, 40333, 40334, 40341, 40342, 40343, 40344, 40351, 40352, 40353, 40354, 40371, 40372, 40373, 40374, 40381, 40382, 40383, 40384, 40391, 40392, 40393, 40394]\n",
       "Index: []\n",
       "\n",
       "[0 rows x 45 columns]"
      ]
     },
     "execution_count": 18,
     "metadata": {},
     "output_type": "execute_result"
    }
   ],
   "source": [
    "vol_bus_s[vol_bus_s.isnull().any(axis=1)]"
   ]
  },
  {
   "cell_type": "code",
   "execution_count": 19,
   "id": "44e2132f",
   "metadata": {},
   "outputs": [
    {
     "data": {
      "text/html": [
       "<div>\n",
       "<style scoped>\n",
       "    .dataframe tbody tr th:only-of-type {\n",
       "        vertical-align: middle;\n",
       "    }\n",
       "\n",
       "    .dataframe tbody tr th {\n",
       "        vertical-align: top;\n",
       "    }\n",
       "\n",
       "    .dataframe thead th {\n",
       "        text-align: right;\n",
       "    }\n",
       "</style>\n",
       "<table border=\"1\" class=\"dataframe\">\n",
       "  <thead>\n",
       "    <tr style=\"text-align: right;\">\n",
       "      <th></th>\n",
       "      <th>time</th>\n",
       "      <th>40221</th>\n",
       "      <th>40222</th>\n",
       "      <th>40223</th>\n",
       "      <th>40224</th>\n",
       "      <th>40231</th>\n",
       "      <th>40232</th>\n",
       "      <th>40233</th>\n",
       "      <th>40234</th>\n",
       "      <th>40241</th>\n",
       "      <th>...</th>\n",
       "      <th>40373</th>\n",
       "      <th>40374</th>\n",
       "      <th>40381</th>\n",
       "      <th>40382</th>\n",
       "      <th>40383</th>\n",
       "      <th>40384</th>\n",
       "      <th>40391</th>\n",
       "      <th>40392</th>\n",
       "      <th>40393</th>\n",
       "      <th>40394</th>\n",
       "    </tr>\n",
       "  </thead>\n",
       "  <tbody>\n",
       "  </tbody>\n",
       "</table>\n",
       "<p>0 rows × 45 columns</p>\n",
       "</div>"
      ],
      "text/plain": [
       "Empty DataFrame\n",
       "Columns: [time, 40221, 40222, 40223, 40224, 40231, 40232, 40233, 40234, 40241, 40242, 40243, 40244, 40311, 40312, 40313, 40314, 40321, 40322, 40323, 40324, 40331, 40332, 40333, 40334, 40341, 40342, 40343, 40344, 40351, 40352, 40353, 40354, 40371, 40372, 40373, 40374, 40381, 40382, 40383, 40384, 40391, 40392, 40393, 40394]\n",
       "Index: []\n",
       "\n",
       "[0 rows x 45 columns]"
      ]
     },
     "execution_count": 19,
     "metadata": {},
     "output_type": "execute_result"
    }
   ],
   "source": [
    "vol_bus_b[vol_bus_b.isnull().any(axis=1)]"
   ]
  },
  {
   "cell_type": "code",
   "execution_count": 20,
   "id": "157a364f",
   "metadata": {},
   "outputs": [
    {
     "data": {
      "text/html": [
       "<div>\n",
       "<style scoped>\n",
       "    .dataframe tbody tr th:only-of-type {\n",
       "        vertical-align: middle;\n",
       "    }\n",
       "\n",
       "    .dataframe tbody tr th {\n",
       "        vertical-align: top;\n",
       "    }\n",
       "\n",
       "    .dataframe thead th {\n",
       "        text-align: right;\n",
       "    }\n",
       "</style>\n",
       "<table border=\"1\" class=\"dataframe\">\n",
       "  <thead>\n",
       "    <tr style=\"text-align: right;\">\n",
       "      <th></th>\n",
       "      <th>time</th>\n",
       "      <th>40221</th>\n",
       "      <th>40222</th>\n",
       "      <th>40223</th>\n",
       "      <th>40224</th>\n",
       "      <th>40231</th>\n",
       "      <th>40232</th>\n",
       "      <th>40233</th>\n",
       "      <th>40234</th>\n",
       "      <th>40241</th>\n",
       "      <th>...</th>\n",
       "      <th>40373</th>\n",
       "      <th>40374</th>\n",
       "      <th>40381</th>\n",
       "      <th>40382</th>\n",
       "      <th>40383</th>\n",
       "      <th>40384</th>\n",
       "      <th>40391</th>\n",
       "      <th>40392</th>\n",
       "      <th>40393</th>\n",
       "      <th>40394</th>\n",
       "    </tr>\n",
       "  </thead>\n",
       "  <tbody>\n",
       "  </tbody>\n",
       "</table>\n",
       "<p>0 rows × 45 columns</p>\n",
       "</div>"
      ],
      "text/plain": [
       "Empty DataFrame\n",
       "Columns: [time, 40221, 40222, 40223, 40224, 40231, 40232, 40233, 40234, 40241, 40242, 40243, 40244, 40311, 40312, 40313, 40314, 40321, 40322, 40323, 40324, 40331, 40332, 40333, 40334, 40341, 40342, 40343, 40344, 40351, 40352, 40353, 40354, 40371, 40372, 40373, 40374, 40381, 40382, 40383, 40384, 40391, 40392, 40393, 40394]\n",
       "Index: []\n",
       "\n",
       "[0 rows x 45 columns]"
      ]
     },
     "execution_count": 20,
     "metadata": {},
     "output_type": "execute_result"
    }
   ],
   "source": [
    "vol_truck_s[vol_truck_s.isnull().any(axis=1)]"
   ]
  },
  {
   "cell_type": "code",
   "execution_count": 21,
   "id": "9868625c",
   "metadata": {
    "scrolled": true
   },
   "outputs": [
    {
     "data": {
      "text/html": [
       "<div>\n",
       "<style scoped>\n",
       "    .dataframe tbody tr th:only-of-type {\n",
       "        vertical-align: middle;\n",
       "    }\n",
       "\n",
       "    .dataframe tbody tr th {\n",
       "        vertical-align: top;\n",
       "    }\n",
       "\n",
       "    .dataframe thead th {\n",
       "        text-align: right;\n",
       "    }\n",
       "</style>\n",
       "<table border=\"1\" class=\"dataframe\">\n",
       "  <thead>\n",
       "    <tr style=\"text-align: right;\">\n",
       "      <th></th>\n",
       "      <th>time</th>\n",
       "      <th>40221</th>\n",
       "      <th>40222</th>\n",
       "      <th>40223</th>\n",
       "      <th>40224</th>\n",
       "      <th>40231</th>\n",
       "      <th>40232</th>\n",
       "      <th>40233</th>\n",
       "      <th>40234</th>\n",
       "      <th>40241</th>\n",
       "      <th>...</th>\n",
       "      <th>40373</th>\n",
       "      <th>40374</th>\n",
       "      <th>40381</th>\n",
       "      <th>40382</th>\n",
       "      <th>40383</th>\n",
       "      <th>40384</th>\n",
       "      <th>40391</th>\n",
       "      <th>40392</th>\n",
       "      <th>40393</th>\n",
       "      <th>40394</th>\n",
       "    </tr>\n",
       "  </thead>\n",
       "  <tbody>\n",
       "  </tbody>\n",
       "</table>\n",
       "<p>0 rows × 45 columns</p>\n",
       "</div>"
      ],
      "text/plain": [
       "Empty DataFrame\n",
       "Columns: [time, 40221, 40222, 40223, 40224, 40231, 40232, 40233, 40234, 40241, 40242, 40243, 40244, 40311, 40312, 40313, 40314, 40321, 40322, 40323, 40324, 40331, 40332, 40333, 40334, 40341, 40342, 40343, 40344, 40351, 40352, 40353, 40354, 40371, 40372, 40373, 40374, 40381, 40382, 40383, 40384, 40391, 40392, 40393, 40394]\n",
       "Index: []\n",
       "\n",
       "[0 rows x 45 columns]"
      ]
     },
     "execution_count": 21,
     "metadata": {},
     "output_type": "execute_result"
    }
   ],
   "source": [
    "vol_truck_b[vol_truck_b.isnull().any(axis=1)]"
   ]
  },
  {
   "cell_type": "code",
   "execution_count": 22,
   "id": "8a146a37",
   "metadata": {},
   "outputs": [
    {
     "data": {
      "text/html": [
       "<div>\n",
       "<style scoped>\n",
       "    .dataframe tbody tr th:only-of-type {\n",
       "        vertical-align: middle;\n",
       "    }\n",
       "\n",
       "    .dataframe tbody tr th {\n",
       "        vertical-align: top;\n",
       "    }\n",
       "\n",
       "    .dataframe thead th {\n",
       "        text-align: right;\n",
       "    }\n",
       "</style>\n",
       "<table border=\"1\" class=\"dataframe\">\n",
       "  <thead>\n",
       "    <tr style=\"text-align: right;\">\n",
       "      <th></th>\n",
       "      <th>time</th>\n",
       "      <th>40221</th>\n",
       "      <th>40222</th>\n",
       "      <th>40223</th>\n",
       "      <th>40224</th>\n",
       "      <th>40231</th>\n",
       "      <th>40232</th>\n",
       "      <th>40233</th>\n",
       "      <th>40234</th>\n",
       "      <th>40241</th>\n",
       "      <th>...</th>\n",
       "      <th>40373</th>\n",
       "      <th>40374</th>\n",
       "      <th>40381</th>\n",
       "      <th>40382</th>\n",
       "      <th>40383</th>\n",
       "      <th>40384</th>\n",
       "      <th>40391</th>\n",
       "      <th>40392</th>\n",
       "      <th>40393</th>\n",
       "      <th>40394</th>\n",
       "    </tr>\n",
       "  </thead>\n",
       "  <tbody>\n",
       "  </tbody>\n",
       "</table>\n",
       "<p>0 rows × 45 columns</p>\n",
       "</div>"
      ],
      "text/plain": [
       "Empty DataFrame\n",
       "Columns: [time, 40221, 40222, 40223, 40224, 40231, 40232, 40233, 40234, 40241, 40242, 40243, 40244, 40311, 40312, 40313, 40314, 40321, 40322, 40323, 40324, 40331, 40332, 40333, 40334, 40341, 40342, 40343, 40344, 40351, 40352, 40353, 40354, 40371, 40372, 40373, 40374, 40381, 40382, 40383, 40384, 40391, 40392, 40393, 40394]\n",
       "Index: []\n",
       "\n",
       "[0 rows x 45 columns]"
      ]
     },
     "execution_count": 22,
     "metadata": {},
     "output_type": "execute_result"
    }
   ],
   "source": [
    "vol_motor[vol_motor.isnull().any(axis=1)]"
   ]
  },
  {
   "cell_type": "code",
   "execution_count": 23,
   "id": "b78bca0e",
   "metadata": {
    "scrolled": true
   },
   "outputs": [
    {
     "data": {
      "text/html": [
       "<div>\n",
       "<style scoped>\n",
       "    .dataframe tbody tr th:only-of-type {\n",
       "        vertical-align: middle;\n",
       "    }\n",
       "\n",
       "    .dataframe tbody tr th {\n",
       "        vertical-align: top;\n",
       "    }\n",
       "\n",
       "    .dataframe thead th {\n",
       "        text-align: right;\n",
       "    }\n",
       "</style>\n",
       "<table border=\"1\" class=\"dataframe\">\n",
       "  <thead>\n",
       "    <tr style=\"text-align: right;\">\n",
       "      <th></th>\n",
       "      <th>time</th>\n",
       "      <th>40221</th>\n",
       "      <th>40222</th>\n",
       "      <th>40223</th>\n",
       "      <th>40224</th>\n",
       "      <th>40231</th>\n",
       "      <th>40232</th>\n",
       "      <th>40233</th>\n",
       "      <th>40234</th>\n",
       "      <th>40241</th>\n",
       "      <th>...</th>\n",
       "      <th>40373</th>\n",
       "      <th>40374</th>\n",
       "      <th>40381</th>\n",
       "      <th>40382</th>\n",
       "      <th>40383</th>\n",
       "      <th>40384</th>\n",
       "      <th>40391</th>\n",
       "      <th>40392</th>\n",
       "      <th>40393</th>\n",
       "      <th>40394</th>\n",
       "    </tr>\n",
       "  </thead>\n",
       "  <tbody>\n",
       "  </tbody>\n",
       "</table>\n",
       "<p>0 rows × 45 columns</p>\n",
       "</div>"
      ],
      "text/plain": [
       "Empty DataFrame\n",
       "Columns: [time, 40221, 40222, 40223, 40224, 40231, 40232, 40233, 40234, 40241, 40242, 40243, 40244, 40311, 40312, 40313, 40314, 40321, 40322, 40323, 40324, 40331, 40332, 40333, 40334, 40341, 40342, 40343, 40344, 40351, 40352, 40353, 40354, 40371, 40372, 40373, 40374, 40381, 40382, 40383, 40384, 40391, 40392, 40393, 40394]\n",
       "Index: []\n",
       "\n",
       "[0 rows x 45 columns]"
      ]
     },
     "execution_count": 23,
     "metadata": {},
     "output_type": "execute_result"
    }
   ],
   "source": [
    "vol_ratio[vol_ratio.isnull().any(axis=1)]"
   ]
  },
  {
   "cell_type": "code",
   "execution_count": 24,
   "id": "38043e82",
   "metadata": {},
   "outputs": [],
   "source": [
    "data=[spd, spd_ratio, incident, TTI_1, TTI_2, weather_temp,weather_wind,weather_rain,weather_humi, vol_total, vol_thr, vol_left, \n",
    "      vol_right, vol_uturn,vol_veh, vol_bus_s, vol_bus_b, vol_truck_s,vol_truck_b,vol_motor,vol_ratio]\n",
    "#link_char는 뺀다."
   ]
  },
  {
   "cell_type": "code",
   "execution_count": 25,
   "id": "ad1bff43",
   "metadata": {
    "scrolled": false
   },
   "outputs": [
    {
     "name": "stdout",
     "output_type": "stream",
     "text": [
      "(51552, 45)\n",
      "(51552, 45)\n",
      "(51552, 45)\n",
      "(51552, 45)\n",
      "(51552, 45)\n",
      "(51552, 45)\n",
      "(51552, 45)\n",
      "(51552, 45)\n",
      "(51552, 45)\n",
      "(51552, 45)\n",
      "(51552, 45)\n",
      "(51552, 45)\n",
      "(51552, 45)\n",
      "(51552, 45)\n",
      "(51552, 45)\n",
      "(51552, 45)\n",
      "(51552, 45)\n",
      "(51552, 45)\n",
      "(51552, 45)\n",
      "(51552, 45)\n",
      "(51552, 45)\n"
     ]
    }
   ],
   "source": [
    "#로우 컬럼 수 확인\n",
    "for df in data:\n",
    "    print(df.shape)  #날씨 데이터 제외 다 맞음"
   ]
  },
  {
   "cell_type": "markdown",
   "id": "fe890205",
   "metadata": {},
   "source": [
    "# 데이터 표준화"
   ]
  },
  {
   "cell_type": "code",
   "execution_count": 26,
   "id": "28ff1cfa",
   "metadata": {},
   "outputs": [],
   "source": [
    "from sklearn.preprocessing import StandardScaler"
   ]
  },
  {
   "cell_type": "code",
   "execution_count": 27,
   "id": "de898b50",
   "metadata": {},
   "outputs": [],
   "source": [
    "data_name={'spd': spd, 'spd_ratio':spd_ratio,'incident':incident,'TTI_1':TTI_1, 'TTI_2':TTI_2, \n",
    "           'weather_temp':weather_temp, 'weather_rain':weather_rain, 'weather_wind':weather_wind, 'weather_humi':weather_humi, \n",
    "           'vol_total':vol_total, 'vol_thr':vol_thr, 'vol_left':vol_left, 'vol_right':vol_right, 'vol_uturn':vol_uturn, \n",
    "           'vol_veh':vol_veh,'vol_bus_s':vol_bus_s,'vol_bus_b':vol_bus_b, 'vol_truck_s':vol_truck_s,'vol_truck_b':vol_truck_b,\n",
    "           'vol_motor':vol_motor,'vol_ratio':vol_ratio}\n",
    "#link_char는 뺀다.\n"
   ]
  },
  {
   "cell_type": "code",
   "execution_count": 28,
   "id": "e846cc5f",
   "metadata": {},
   "outputs": [],
   "source": [
    "scalers = {}  # 스케일러를 저장할 딕셔너리\n",
    "keys=list(data_name.keys())\n",
    "scaled_data={}"
   ]
  },
  {
   "cell_type": "code",
   "execution_count": 29,
   "id": "0848e870",
   "metadata": {},
   "outputs": [
    {
     "name": "stdout",
     "output_type": "stream",
     "text": [
      "spd\n",
      "spd_ratio\n",
      "incident\n",
      "TTI_1\n",
      "TTI_2\n",
      "weather_temp\n",
      "weather_rain\n",
      "weather_wind\n",
      "weather_humi\n",
      "vol_total\n",
      "vol_thr\n",
      "vol_left\n",
      "vol_right\n",
      "vol_uturn\n",
      "vol_veh\n",
      "vol_bus_s\n",
      "vol_bus_b\n",
      "vol_truck_s\n",
      "vol_truck_b\n",
      "vol_motor\n",
      "vol_ratio\n"
     ]
    }
   ],
   "source": [
    "for key in keys:\n",
    "    df=data_name[key]\n",
    "    scaler = StandardScaler()  # StandardScaler 객체 생성\n",
    "    df.columns = df.columns.astype(str)\n",
    "    print(key)\n",
    "    try:\n",
    "        df.set_index('time', inplace=True)\n",
    "        \n",
    "    except KeyError:\n",
    "        print()\n",
    "    \n",
    "    scaled = scaler.fit_transform(df)  # 데이터 표준화\n",
    "    scaled_ = pd.DataFrame(scaled)\n",
    "    scalers[key] = scaler                    # 스케일러를 딕셔너리에 저장\n",
    "    scaled_data[key]= scaled_                 # 스케일링 결과를 딕셔너리에 저장\n",
    "    scaled_data[key].columns=df.columns"
   ]
  },
  {
   "cell_type": "markdown",
   "id": "b51500e4",
   "metadata": {},
   "source": [
    "# 시계열 그래프 데이터 생성"
   ]
  },
  {
   "cell_type": "code",
   "execution_count": 30,
   "id": "14567aff",
   "metadata": {},
   "outputs": [
    {
     "data": {
      "text/plain": [
       "9.0"
      ]
     },
     "execution_count": 30,
     "metadata": {},
     "output_type": "execute_result"
    }
   ],
   "source": [
    "spd['40222'].iloc[1]"
   ]
  },
  {
   "cell_type": "code",
   "execution_count": 31,
   "id": "ff38734c",
   "metadata": {},
   "outputs": [],
   "source": [
    "# 시계열 그래프 데이터 생성\n",
    "# (노드, 엣지, 시간대 정보 등)"
   ]
  },
  {
   "cell_type": "code",
   "execution_count": 32,
   "id": "91a3876d",
   "metadata": {},
   "outputs": [],
   "source": [
    "axis1=['40353','40343','40333','40323','40313']        #연결 축(방향별로 각각 구성) // 엣지 생성 때 필요\n",
    "axis2=['40351','40341','40331','40321','40311']\n",
    "\n",
    "axis3=['40352','40372','40382','40233','40243']\n",
    "axis4=['40354','40374','40384','40231','40241']\n",
    "\n",
    "axis5=['40222','40244','40314']\n",
    "axis6=['40312','40242','40224']\n",
    "\n",
    "axis7=['40332','40391','40371']\n",
    "axis8=['40373','40393','40334']\n",
    "\n",
    "axis9=['40223','40234','40394','40344']\n",
    "axis10=['40392','40232','40221']\n",
    "\n",
    "axes = [axis1, axis2, axis3, axis4, axis5, axis6, axis7, axis8, axis9, axis10]"
   ]
  },
  {
   "cell_type": "code",
   "execution_count": 33,
   "id": "0bcf920b",
   "metadata": {},
   "outputs": [],
   "source": [
    "import networkx as nx"
   ]
  },
  {
   "cell_type": "code",
   "execution_count": 34,
   "id": "0421c128",
   "metadata": {},
   "outputs": [],
   "source": [
    "link_char.columns = link_char.columns.astype(str)"
   ]
  },
  {
   "cell_type": "code",
   "execution_count": 35,
   "id": "f9801472",
   "metadata": {},
   "outputs": [],
   "source": [
    "# 그래프 초기화\n",
    "time_series_graphs = [] #여기에 저장됨\n",
    "\n",
    "time_steps= spd.shape[0]\n",
    "\n",
    "nodes=['40221', '40222', '40223', '40224', '40231', '40232', '40233', '40234',\n",
    "       '40241', '40242', '40243', '40244', '40311', '40312', '40313', '40314',\n",
    "       '40321', '40322', '40323', '40324', '40331', '40332', '40333', '40334',\n",
    "       '40341', '40342', '40343', '40344', '40351', '40352', '40353', '40354',\n",
    "       '40371', '40372', '40373', '40374', '40381', '40382', '40383', '40384',\n",
    "       '40391', '40392', '40393', '40394']\n",
    "\n",
    "\n",
    "for t in range(time_steps):\n",
    "    \n",
    "    G = nx.Graph()\n",
    "    \n",
    "    for node in nodes:\n",
    "        \n",
    "        feature=[]\n",
    "        \n",
    "        for key in keys: \n",
    "            df=scaled_data[key]\n",
    "            feature.append(df[node].iloc[t])\n",
    "       \n",
    "    \n",
    "        G.add_node(node, feature1=feature[0],feature2=feature[1],feature3=feature[2],feature4=feature[3],\n",
    "                   feature5=feature[4],feature6=feature[5],feature7=feature[6],feature8=feature[7],\n",
    "                   feature9=feature[8],feature10=feature[9],feature11=feature[10],feature12=feature[11],\n",
    "                   feature13=feature[12],feature14=feature[13],feature15=feature[14],feature16=feature[15],\n",
    "                   feature17=feature[16],feature18=feature[17],feature19=feature[18],feature20=feature[19],\n",
    "                   feature21=feature[20])\n",
    "        \n",
    "        G.add_edge(node,node)   #Self loop 추가\n",
    "    \n",
    "    # 엣지 추가 \n",
    "    for axis in axes:\n",
    "        for j in range(len(axis)):\n",
    "            try:\n",
    "                G.add_edge(axis[j],axis[j+1], weight=1/(link_char[axis[j+1]].iloc[0]))\n",
    "                #print(axis[j],axis[j+1])           #인접한 검지기만 엣지로 연결\n",
    "                #print(link_char[axis[j+1]].iloc[0]) # 1/링크 거리를 인접행렬의 가중치로(1차 시도.. 향후 edge랑 가중치 다양하게 구성해보기) \n",
    "            \n",
    "            except IndexError:\n",
    "                break\n",
    "                \n",
    "    time_series_graphs.append(G)"
   ]
  },
  {
   "cell_type": "code",
   "execution_count": 36,
   "id": "b86e8821",
   "metadata": {
    "scrolled": true
   },
   "outputs": [],
   "source": [
    "# 시계열 그래프 데이터 확인\n",
    "#for t, G in enumerate(time_series_graphs):\n",
    "#    print(f\"Time step {t+1}\" : Nodes: {G.nodes()}, Edges: {G.edges()})"
   ]
  },
  {
   "cell_type": "code",
   "execution_count": 37,
   "id": "9845f9b6",
   "metadata": {},
   "outputs": [
    {
     "data": {
      "image/png": "[encoded data removed]",
      "text/plain": [
       "<Figure size 640x480 with 1 Axes>"
      ]
     },
     "metadata": {},
     "output_type": "display_data"
    }
   ],
   "source": [
    "import networkx as nx\n",
    "import matplotlib.pyplot as plt\n",
    "\n",
    "\n",
    "G=time_series_graphs[7]\n",
    "# 새로운 그림 생성\n",
    "fig, ax = plt.subplots()\n",
    "\n",
    "# 그래프 시각화\n",
    "pos = nx.spring_layout(G)  # 노드 위치 결정 알고리즘 선택\n",
    "nx.draw(G, pos, with_labels=True, node_size=50, node_color='skyblue', font_size=8, font_color='black', font_weight='bold', ax=ax)\n",
    "plt.title(\"Graph Visualization\")\n",
    "\n",
    "# 그림 표시\n",
    "plt.show()"
   ]
  },
  {
   "cell_type": "code",
   "execution_count": 38,
   "id": "3e53a22b",
   "metadata": {},
   "outputs": [],
   "source": [
    "#인접행렬 생성"
   ]
  },
  {
   "cell_type": "code",
   "execution_count": 39,
   "id": "fd75f287",
   "metadata": {},
   "outputs": [],
   "source": [
    "#nx.write_adjlist(time_series_graphs[0],'graph.adj')"
   ]
  },
  {
   "cell_type": "code",
   "execution_count": 40,
   "id": "bcfb5629",
   "metadata": {},
   "outputs": [],
   "source": [
    "# # 인접리스트에 가중치 정보 추가\n",
    "\n",
    "# G=time_series_graphs[0]\n",
    "# adjlist_with_weights = []\n",
    "\n",
    "# for u, v, data in G.edges(data=True):\n",
    "#     adjlist_with_weights.append(f\"{u} {v} {data.get('weight', 1.0):.6f}\")\n",
    "\n",
    "# # 파일에 저장\n",
    "# with open('graph_with_weights.txt', 'w') as f:\n",
    "#     for line in adjlist_with_weights:\n",
    "#         f.write(line + '\\n')"
   ]
  },
  {
   "cell_type": "code",
   "execution_count": 41,
   "id": "7dfde6d8",
   "metadata": {},
   "outputs": [],
   "source": [
    "import numpy as np\n",
    "import torch\n",
    "import torch.nn as nn\n",
    "import dgl.nn as dglnn\n",
    "import torch.optim as optim\n",
    "from torch.utils.data import DataLoader, TensorDataset\n",
    "from sklearn.model_selection import train_test_split"
   ]
  },
  {
   "cell_type": "code",
   "execution_count": 42,
   "id": "8ce2b6e2",
   "metadata": {},
   "outputs": [],
   "source": [
    "import numpy as np\n",
    "import dgl\n",
    "import dgl.function as fn\n",
    "import torch\n",
    "import torch.nn as nn\n",
    "from dgl.nn import GATConv\n",
    "import networkx as nx\n"
   ]
  },
  {
   "cell_type": "code",
   "execution_count": 43,
   "id": "470f299c",
   "metadata": {},
   "outputs": [],
   "source": [
    "\n",
    "# NX 그래프를 DGL 그래프로 변환하는 함수\n",
    "def nx_to_dgl(nx_graph):\n",
    "    dgl_graph = dgl.from_networkx(nx_graph) \n",
    "    return dgl_graph\n",
    "\n",
    "class GATModel(nn.Module):\n",
    "    def __init__(self, in_feats, hidden_feats, num_heads):\n",
    "        super(GATModel, self).__init__()\n",
    "        self.layers = nn.ModuleList()\n",
    "        self.layers.append(dglnn.GATConv(\n",
    "            in_feats, hidden_feats, num_heads=num_heads, residual=True))\n",
    "        self.layers.append(dglnn.GATConv(\n",
    "            hidden_feats * num_heads, hidden_feats, num_heads=num_heads, residual=True))\n",
    "\n",
    "    def forward(self, g, features):\n",
    "        for layer in self.layers:\n",
    "            features = layer(g, features).flatten(1)\n",
    "        return features\n",
    "\n",
    "def graph_feature(G):\n",
    "    x = torch.stack([torch.Tensor([G.nodes[node][f'feature{i+1}'] for i in range(num_features)]) for node in G.nodes])\n",
    "    return x"
   ]
  },
  {
   "cell_type": "code",
   "execution_count": 44,
   "id": "149e6f79",
   "metadata": {},
   "outputs": [],
   "source": [
    "num_features=21\n",
    "\n",
    "\n",
    "# DGL 그래프 리스트 초기화\n",
    "dgl_graphs = []\n",
    "x_list=[]\n",
    "\n",
    "# NX 그래프를 DGL 그래프로 변환\n",
    "for nx_graph in time_series_graphs:\n",
    "    dgl_graph = nx_to_dgl(nx_graph)\n",
    "    dgl_graphs.append(dgl_graph)\n",
    "    x=graph_feature(nx_graph)\n",
    "    x_list.append(x)"
   ]
  },
  {
   "cell_type": "code",
   "execution_count": 45,
   "id": "baa82fe4",
   "metadata": {},
   "outputs": [
    {
     "data": {
      "text/plain": [
       "Graph(num_nodes=44, num_edges=102,\n",
       "      ndata_schemes={}\n",
       "      edata_schemes={})"
      ]
     },
     "execution_count": 45,
     "metadata": {},
     "output_type": "execute_result"
    }
   ],
   "source": [
    "dgl_graphs[0]"
   ]
  },
  {
   "cell_type": "code",
   "execution_count": 46,
   "id": "ce3d9abf",
   "metadata": {},
   "outputs": [
    {
     "name": "stdout",
     "output_type": "stream",
     "text": [
      "DGL 그래프 임베딩 결과:\n",
      "[[ 4.5905943  -3.6122935  -1.0926416  ...  2.755344    0.59891456\n",
      "  -1.6752058 ]\n",
      " [ 4.48095    -3.87567    -0.55361116 ...  2.2007375   1.2996235\n",
      "  -2.1000762 ]\n",
      " [ 4.3076673  -3.0755842  -0.02551609 ...  2.6384823   0.84400237\n",
      "  -1.7640439 ]\n",
      " ...\n",
      " [ 1.2252467  -1.8800292  -3.5663435  ...  1.1694449  -0.16148996\n",
      "  -1.7350159 ]\n",
      " [ 0.7681937  -0.6528957  -3.6701336  ...  1.1855727  -0.93564814\n",
      "  -1.1676297 ]\n",
      " [-0.88571143 -1.7040963  -2.6858764  ...  0.12997717 -0.63677126\n",
      "  -1.9734459 ]]\n"
     ]
    }
   ],
   "source": [
    "# GAT 모델 하이퍼파라미터 설정\n",
    "in_feats = 21  # 노드 피처의 차원 수\n",
    "hidden_feats = 16  # GAT 레이어의 은닉 유닛 수\n",
    "num_heads = 4  # GAT 레이어의 헤드 수\n",
    "\n",
    "# 모델 초기화\n",
    "model = GATModel(in_feats, hidden_feats, num_heads)\n",
    "\n",
    "# 모델 학습 및 그래프 임베딩 생성\n",
    "\n",
    "with torch.no_grad():\n",
    "    for i, dgl_graph in enumerate(dgl_graphs):\n",
    "        embeddings = model(dgl_graph,x_list[i])\n",
    "        if i == 0:\n",
    "            result_embeddings = embeddings.numpy()\n",
    "        else:\n",
    "            result_embeddings = np.vstack((result_embeddings, embeddings.numpy()))\n",
    "\n",
    "print(\"DGL 그래프 임베딩 결과:\")\n",
    "print(result_embeddings)\n"
   ]
  },
  {
   "cell_type": "code",
   "execution_count": 47,
   "id": "3cec6e29",
   "metadata": {},
   "outputs": [],
   "source": [
    "np.save('C:\\\\Users\\\\ajou\\\\Desktop\\\\Data\\\\dongtan\\\\embedding_32.npy',result_embeddings)"
   ]
  },
  {
   "cell_type": "code",
   "execution_count": 48,
   "id": "819948d2",
   "metadata": {},
   "outputs": [],
   "source": [
    "np.savetxt('C:\\\\Users\\\\ajou\\\\Desktop\\\\Data\\\\dongtan\\\\embedding_32.txt',result_embeddings)"
   ]
  },
  {
   "cell_type": "code",
   "execution_count": 49,
   "id": "bbd609d6",
   "metadata": {},
   "outputs": [
    {
     "data": {
      "text/plain": [
       "(2268288, 64)"
      ]
     },
     "execution_count": 49,
     "metadata": {},
     "output_type": "execute_result"
    }
   ],
   "source": [
    "result_embeddings.shape"
   ]
  },
  {
   "cell_type": "code",
   "execution_count": 50,
   "id": "42cb15d8",
   "metadata": {},
   "outputs": [
    {
     "data": {
      "text/plain": [
       "51552.0"
      ]
     },
     "execution_count": 50,
     "metadata": {},
     "output_type": "execute_result"
    }
   ],
   "source": [
    "2268288/44"
   ]
  },
  {
   "cell_type": "code",
   "execution_count": null,
   "id": "62b86f4c",
   "metadata": {},
   "outputs": [],
   "source": []
  },
  {
   "cell_type": "code",
   "execution_count": 51,
   "id": "6f634ab3",
   "metadata": {},
   "outputs": [],
   "source": [
    "import torch\n",
    "import torch.nn as nn\n",
    "from torch.utils.data import DataLoader, TensorDataset, random_split\n",
    "import numpy as np\n"
   ]
  },
  {
   "cell_type": "code",
   "execution_count": null,
   "id": "6d9bee96",
   "metadata": {},
   "outputs": [],
   "source": []
  },
  {
   "cell_type": "code",
   "execution_count": 52,
   "id": "16932fe7",
   "metadata": {},
   "outputs": [
    {
     "name": "stdout",
     "output_type": "stream",
     "text": [
      "입력 데이터 크기: (2268288, 64)\n",
      "생성된 시퀀스 개수: 2166913\n",
      "입력 시퀀스 크기: (88704, 64)\n",
      "출력 시퀀스 크기: (12672, 64)\n"
     ]
    }
   ],
   "source": [
    "def create_sequences_and_slice(data, input_seq_length, output_seq_length):\n",
    "    sequences = []\n",
    "    for i in range(len(data) - input_seq_length - output_seq_length + 1):\n",
    "        input_seq = data[i:i+input_seq_length]\n",
    "        output_seq = data[i+input_seq_length:i+input_seq_length+output_seq_length]\n",
    "        sequences.append((input_seq, output_seq))\n",
    "    \n",
    "    return sequences\n",
    "\n",
    "# 데이터를 7일치로 자르기\n",
    "input_seq_length = 44 * 12 * 24 * 7  # 입력 시퀀스 길이 (7일치)\n",
    "output_seq_length = 44 * 12 * 24  # 출력 시퀀스 길이 (1일치)\n",
    "\n",
    "\n",
    "# 데이터를 입력 및 출력 시퀀스로 변환하고 자르기\n",
    "sequences = create_sequences_and_slice(result_embeddings, input_seq_length, output_seq_length)\n",
    "\n",
    "# 결과 확인\n",
    "print(f\"입력 데이터 크기: {result_embeddings.shape}\")\n",
    "print(f\"생성된 시퀀스 개수: {len(sequences)}\")\n",
    "print(f\"입력 시퀀스 크기: {sequences[0][0].shape}\")\n",
    "print(f\"출력 시퀀스 크기: {sequences[0][1].shape}\")"
   ]
  },
  {
   "cell_type": "code",
   "execution_count": 53,
   "id": "0cfec415",
   "metadata": {},
   "outputs": [
    {
     "data": {
      "text/plain": [
       "(88704, 64)"
      ]
     },
     "execution_count": 53,
     "metadata": {},
     "output_type": "execute_result"
    }
   ],
   "source": [
    "sequences[0][0].shape"
   ]
  },
  {
   "cell_type": "code",
   "execution_count": null,
   "id": "fba0f405",
   "metadata": {},
   "outputs": [],
   "source": []
  },
  {
   "cell_type": "code",
   "execution_count": 54,
   "id": "23d21f19",
   "metadata": {},
   "outputs": [],
   "source": [
    "# 모델 정의 (하이퍼파라미터에 맞게 수정 필요)\n",
    "class Seq2SeqModel(nn.Module):\n",
    "    def __init__(self, input_size, hidden_size, output_size):\n",
    "        super(Seq2SeqModel, self).__init__()\n",
    "        self.encoder = nn.GRU(input_size, hidden_size, batch_first=True)\n",
    "        self.decoder = nn.GRU(hidden_size, hidden_size, batch_first=True)\n",
    "        self.fc = nn.Linear(hidden_size, output_size)\n",
    "\n",
    "    def forward(self, x):\n",
    "        x, _ = self.encoder(x)\n",
    "        x, _ = self.decoder(x)\n",
    "        output = self.fc(x)\n",
    "        return output"
   ]
  },
  {
   "cell_type": "code",
   "execution_count": 55,
   "id": "e419fe57",
   "metadata": {},
   "outputs": [
    {
     "ename": "NameError",
     "evalue": "name 'output' is not defined",
     "output_type": "error",
     "traceback": [
      "\u001b[1;31m---------------------------------------------------------------------------\u001b[0m",
      "\u001b[1;31mNameError\u001b[0m                                 Traceback (most recent call last)",
      "Cell \u001b[1;32mIn[55], line 1\u001b[0m\n\u001b[1;32m----> 1\u001b[0m output\u001b[39m.\u001b[39mshape\n",
      "\u001b[1;31mNameError\u001b[0m: name 'output' is not defined"
     ]
    }
   ],
   "source": [
    "output.shape"
   ]
  },
  {
   "cell_type": "code",
   "execution_count": null,
   "id": "62cf81e8",
   "metadata": {},
   "outputs": [],
   "source": [
    "# 데이터를 훈련 및 테스트 세트로 분할\n",
    "split_ratio = 0.8  # 훈련 데이터 비율\n",
    "split_index = int(len(sequences) * split_ratio)\n",
    "train_data, test_data = sequences[:split_index], sequences[split_index:]"
   ]
  },
  {
   "cell_type": "code",
   "execution_count": null,
   "id": "16429d8b",
   "metadata": {
    "scrolled": true
   },
   "outputs": [
    {
     "data": {
      "text/plain": [
       "(88704, 256)"
      ]
     },
     "execution_count": 123,
     "metadata": {},
     "output_type": "execute_result"
    }
   ],
   "source": [
    "train_data[0][0].shape"
   ]
  },
  {
   "cell_type": "code",
   "execution_count": null,
   "id": "6a86b880",
   "metadata": {},
   "outputs": [
    {
     "data": {
      "text/plain": [
       "(12672, 256)"
      ]
     },
     "execution_count": 124,
     "metadata": {},
     "output_type": "execute_result"
    }
   ],
   "source": [
    "train_data[0][1].shape"
   ]
  },
  {
   "cell_type": "code",
   "execution_count": null,
   "id": "4c37efb1",
   "metadata": {},
   "outputs": [],
   "source": [
    "# DataLoader를 사용하여 데이터를 미니배치로 로드\n",
    "batch_size = 44\n",
    "train_loader = DataLoader(train_data, batch_size=batch_size, shuffle=True)\n",
    "test_loader = DataLoader(test_data, batch_size=batch_size, shuffle=False)"
   ]
  },
  {
   "cell_type": "code",
   "execution_count": null,
   "id": "b6678034",
   "metadata": {},
   "outputs": [],
   "source": [
    "# 모델 초기화\n",
    "\n",
    "input_size = 256  # 각 시퀀스의 요소당 차원\n",
    "hidden_size = 16  # GRU hidden layer 크기\n",
    "output_size = 256  # 각 시퀀스의 요소당 차원\n",
    "model = Seq2SeqModel(input_size, hidden_size, output_size)\n",
    "\n",
    "#시퀀스의 길이는 데이터로부터 자동으로 유추됨"
   ]
  },
  {
   "cell_type": "code",
   "execution_count": null,
   "id": "80d3d017",
   "metadata": {},
   "outputs": [],
   "source": []
  },
  {
   "cell_type": "code",
   "execution_count": null,
   "id": "0d54e525",
   "metadata": {},
   "outputs": [
    {
     "ename": "RuntimeError",
     "evalue": "[enforce fail at C:\\b\\abs_bao0hdcrdh\\croot\\pytorch_1675190257512\\work\\c10\\core\\impl\\alloc_cpu.cpp:81] data. DefaultCPUAllocator: not enough memory: you tried to allocate 3996647424 bytes.",
     "output_type": "error",
     "traceback": [
      "\u001b[1;31m---------------------------------------------------------------------------\u001b[0m",
      "\u001b[1;31mRuntimeError\u001b[0m                              Traceback (most recent call last)",
      "Cell \u001b[1;32mIn[145], line 16\u001b[0m\n\u001b[0;32m     11\u001b[0m         optimizer\u001b[38;5;241m.\u001b[39mzero_grad()\n\u001b[0;32m     13\u001b[0m \u001b[38;5;66;03m#         batch_x = torch.tensor(batch_x, dtype=torch.float32)\u001b[39;00m\n\u001b[0;32m     14\u001b[0m \u001b[38;5;66;03m#         batch_y = torch.tensor(batch_y, dtype=torch.float32)\u001b[39;00m\n\u001b[1;32m---> 16\u001b[0m         output \u001b[38;5;241m=\u001b[39m \u001b[43mmodel\u001b[49m\u001b[43m(\u001b[49m\u001b[43mbatch_x\u001b[49m\u001b[43m)\u001b[49m\n\u001b[0;32m     17\u001b[0m         loss \u001b[38;5;241m=\u001b[39m criterion(output, batch_y)\n\u001b[0;32m     18\u001b[0m         loss\u001b[38;5;241m.\u001b[39mbackward()\n",
      "File \u001b[1;32m~\\anaconda3\\lib\\site-packages\\torch\\nn\\modules\\module.py:1130\u001b[0m, in \u001b[0;36mModule._call_impl\u001b[1;34m(self, *input, **kwargs)\u001b[0m\n\u001b[0;32m   1126\u001b[0m \u001b[38;5;66;03m# If we don't have any hooks, we want to skip the rest of the logic in\u001b[39;00m\n\u001b[0;32m   1127\u001b[0m \u001b[38;5;66;03m# this function, and just call forward.\u001b[39;00m\n\u001b[0;32m   1128\u001b[0m \u001b[38;5;28;01mif\u001b[39;00m \u001b[38;5;129;01mnot\u001b[39;00m (\u001b[38;5;28mself\u001b[39m\u001b[38;5;241m.\u001b[39m_backward_hooks \u001b[38;5;129;01mor\u001b[39;00m \u001b[38;5;28mself\u001b[39m\u001b[38;5;241m.\u001b[39m_forward_hooks \u001b[38;5;129;01mor\u001b[39;00m \u001b[38;5;28mself\u001b[39m\u001b[38;5;241m.\u001b[39m_forward_pre_hooks \u001b[38;5;129;01mor\u001b[39;00m _global_backward_hooks\n\u001b[0;32m   1129\u001b[0m         \u001b[38;5;129;01mor\u001b[39;00m _global_forward_hooks \u001b[38;5;129;01mor\u001b[39;00m _global_forward_pre_hooks):\n\u001b[1;32m-> 1130\u001b[0m     \u001b[38;5;28;01mreturn\u001b[39;00m forward_call(\u001b[38;5;241m*\u001b[39m\u001b[38;5;28minput\u001b[39m, \u001b[38;5;241m*\u001b[39m\u001b[38;5;241m*\u001b[39mkwargs)\n\u001b[0;32m   1131\u001b[0m \u001b[38;5;66;03m# Do not call functions when jit is used\u001b[39;00m\n\u001b[0;32m   1132\u001b[0m full_backward_hooks, non_full_backward_hooks \u001b[38;5;241m=\u001b[39m [], []\n",
      "Cell \u001b[1;32mIn[83], line 10\u001b[0m, in \u001b[0;36mSeq2SeqModel.forward\u001b[1;34m(self, x)\u001b[0m\n\u001b[0;32m      9\u001b[0m \u001b[38;5;28;01mdef\u001b[39;00m \u001b[38;5;21mforward\u001b[39m(\u001b[38;5;28mself\u001b[39m, x):\n\u001b[1;32m---> 10\u001b[0m     x, _ \u001b[38;5;241m=\u001b[39m \u001b[38;5;28;43mself\u001b[39;49m\u001b[38;5;241;43m.\u001b[39;49m\u001b[43mencoder\u001b[49m\u001b[43m(\u001b[49m\u001b[43mx\u001b[49m\u001b[43m)\u001b[49m\n\u001b[0;32m     11\u001b[0m     x, _ \u001b[38;5;241m=\u001b[39m \u001b[38;5;28mself\u001b[39m\u001b[38;5;241m.\u001b[39mdecoder(x)\n\u001b[0;32m     12\u001b[0m     output \u001b[38;5;241m=\u001b[39m \u001b[38;5;28mself\u001b[39m\u001b[38;5;241m.\u001b[39mfc(x)\n",
      "File \u001b[1;32m~\\anaconda3\\lib\\site-packages\\torch\\nn\\modules\\module.py:1130\u001b[0m, in \u001b[0;36mModule._call_impl\u001b[1;34m(self, *input, **kwargs)\u001b[0m\n\u001b[0;32m   1126\u001b[0m \u001b[38;5;66;03m# If we don't have any hooks, we want to skip the rest of the logic in\u001b[39;00m\n\u001b[0;32m   1127\u001b[0m \u001b[38;5;66;03m# this function, and just call forward.\u001b[39;00m\n\u001b[0;32m   1128\u001b[0m \u001b[38;5;28;01mif\u001b[39;00m \u001b[38;5;129;01mnot\u001b[39;00m (\u001b[38;5;28mself\u001b[39m\u001b[38;5;241m.\u001b[39m_backward_hooks \u001b[38;5;129;01mor\u001b[39;00m \u001b[38;5;28mself\u001b[39m\u001b[38;5;241m.\u001b[39m_forward_hooks \u001b[38;5;129;01mor\u001b[39;00m \u001b[38;5;28mself\u001b[39m\u001b[38;5;241m.\u001b[39m_forward_pre_hooks \u001b[38;5;129;01mor\u001b[39;00m _global_backward_hooks\n\u001b[0;32m   1129\u001b[0m         \u001b[38;5;129;01mor\u001b[39;00m _global_forward_hooks \u001b[38;5;129;01mor\u001b[39;00m _global_forward_pre_hooks):\n\u001b[1;32m-> 1130\u001b[0m     \u001b[38;5;28;01mreturn\u001b[39;00m forward_call(\u001b[38;5;241m*\u001b[39m\u001b[38;5;28minput\u001b[39m, \u001b[38;5;241m*\u001b[39m\u001b[38;5;241m*\u001b[39mkwargs)\n\u001b[0;32m   1131\u001b[0m \u001b[38;5;66;03m# Do not call functions when jit is used\u001b[39;00m\n\u001b[0;32m   1132\u001b[0m full_backward_hooks, non_full_backward_hooks \u001b[38;5;241m=\u001b[39m [], []\n",
      "File \u001b[1;32m~\\anaconda3\\lib\\site-packages\\torch\\nn\\modules\\rnn.py:950\u001b[0m, in \u001b[0;36mGRU.forward\u001b[1;34m(self, input, hx)\u001b[0m\n\u001b[0;32m    948\u001b[0m \u001b[38;5;28mself\u001b[39m\u001b[38;5;241m.\u001b[39mcheck_forward_args(\u001b[38;5;28minput\u001b[39m, hx, batch_sizes)\n\u001b[0;32m    949\u001b[0m \u001b[38;5;28;01mif\u001b[39;00m batch_sizes \u001b[38;5;129;01mis\u001b[39;00m \u001b[38;5;28;01mNone\u001b[39;00m:\n\u001b[1;32m--> 950\u001b[0m     result \u001b[38;5;241m=\u001b[39m \u001b[43m_VF\u001b[49m\u001b[38;5;241;43m.\u001b[39;49m\u001b[43mgru\u001b[49m\u001b[43m(\u001b[49m\u001b[38;5;28;43minput\u001b[39;49m\u001b[43m,\u001b[49m\u001b[43m \u001b[49m\u001b[43mhx\u001b[49m\u001b[43m,\u001b[49m\u001b[43m \u001b[49m\u001b[38;5;28;43mself\u001b[39;49m\u001b[38;5;241;43m.\u001b[39;49m\u001b[43m_flat_weights\u001b[49m\u001b[43m,\u001b[49m\u001b[43m \u001b[49m\u001b[38;5;28;43mself\u001b[39;49m\u001b[38;5;241;43m.\u001b[39;49m\u001b[43mbias\u001b[49m\u001b[43m,\u001b[49m\u001b[43m \u001b[49m\u001b[38;5;28;43mself\u001b[39;49m\u001b[38;5;241;43m.\u001b[39;49m\u001b[43mnum_layers\u001b[49m\u001b[43m,\u001b[49m\n\u001b[0;32m    951\u001b[0m \u001b[43m                     \u001b[49m\u001b[38;5;28;43mself\u001b[39;49m\u001b[38;5;241;43m.\u001b[39;49m\u001b[43mdropout\u001b[49m\u001b[43m,\u001b[49m\u001b[43m \u001b[49m\u001b[38;5;28;43mself\u001b[39;49m\u001b[38;5;241;43m.\u001b[39;49m\u001b[43mtraining\u001b[49m\u001b[43m,\u001b[49m\u001b[43m \u001b[49m\u001b[38;5;28;43mself\u001b[39;49m\u001b[38;5;241;43m.\u001b[39;49m\u001b[43mbidirectional\u001b[49m\u001b[43m,\u001b[49m\u001b[43m \u001b[49m\u001b[38;5;28;43mself\u001b[39;49m\u001b[38;5;241;43m.\u001b[39;49m\u001b[43mbatch_first\u001b[49m\u001b[43m)\u001b[49m\n\u001b[0;32m    952\u001b[0m \u001b[38;5;28;01melse\u001b[39;00m:\n\u001b[0;32m    953\u001b[0m     result \u001b[38;5;241m=\u001b[39m _VF\u001b[38;5;241m.\u001b[39mgru(\u001b[38;5;28minput\u001b[39m, batch_sizes, hx, \u001b[38;5;28mself\u001b[39m\u001b[38;5;241m.\u001b[39m_flat_weights, \u001b[38;5;28mself\u001b[39m\u001b[38;5;241m.\u001b[39mbias,\n\u001b[0;32m    954\u001b[0m                      \u001b[38;5;28mself\u001b[39m\u001b[38;5;241m.\u001b[39mnum_layers, \u001b[38;5;28mself\u001b[39m\u001b[38;5;241m.\u001b[39mdropout, \u001b[38;5;28mself\u001b[39m\u001b[38;5;241m.\u001b[39mtraining, \u001b[38;5;28mself\u001b[39m\u001b[38;5;241m.\u001b[39mbidirectional)\n",
      "\u001b[1;31mRuntimeError\u001b[0m: [enforce fail at C:\\b\\abs_bao0hdcrdh\\croot\\pytorch_1675190257512\\work\\c10\\core\\impl\\alloc_cpu.cpp:81] data. DefaultCPUAllocator: not enough memory: you tried to allocate 3996647424 bytes."
     ]
    }
   ],
   "source": [
    "# 손실 함수 및 최적화 알고리즘 설정\n",
    "criterion = nn.MSELoss()\n",
    "optimizer = torch.optim.Adam(model.parameters(), lr=0.001)\n",
    "\n",
    "# 학습 루프\n",
    "num_epochs = 50\n",
    "for epoch in range(num_epochs):\n",
    "    model.train()\n",
    "    total_loss = 0\n",
    "    for batch_x, batch_y in train_loader:\n",
    "        optimizer.zero_grad()\n",
    "        \n",
    "#         batch_x = torch.tensor(batch_x, dtype=torch.float32)\n",
    "#         batch_y = torch.tensor(batch_y, dtype=torch.float32)\n",
    "        \n",
    "        output = model(batch_x)\n",
    "        loss = criterion(output, batch_y)\n",
    "        loss.backward()\n",
    "        optimizer.step()\n",
    "        \n",
    "        total_loss += loss.item()\n",
    "    \n",
    "    print(f'Epoch [{epoch+1}/{num_epochs}], Loss: {total_loss:.4f}')\n",
    "\n",
    "# 모델 평가 코드 (테스트 데이터에 대해 평가)\n",
    "model.eval()\n",
    "test_loss = 0\n",
    "with torch.no_grad():\n",
    "    for batch_x, batch_y in test_loader:\n",
    "#         batch_x = torch.tensor(batch_x, dtype=torch.float32)\n",
    "#         batch_y = torch.tensor(batch_y, dtype=torch.float32)\n",
    "        \n",
    "        output = model(batch_x)\n",
    "        loss = criterion(output, batch_y)\n",
    "        test_loss += loss.item()\n",
    "\n",
    "print(f'Test Loss: {test_loss:.4f}')\n"
   ]
  },
  {
   "cell_type": "code",
   "execution_count": null,
   "id": "3d44a1ec",
   "metadata": {},
   "outputs": [],
   "source": []
  },
  {
   "cell_type": "code",
   "execution_count": null,
   "id": "dc175cba",
   "metadata": {},
   "outputs": [],
   "source": [
    "#  이건transformer 코드"
   ]
  },
  {
   "cell_type": "code",
   "execution_count": null,
   "id": "8f347b0c",
   "metadata": {},
   "outputs": [],
   "source": [
    "\n",
    "\n",
    "\n",
    "data = result_embeddings  # 가상의 시계열 데이터 생성\n",
    "\n",
    "# 하이퍼파라미터 설정\n",
    "input_seq_length = 24  # 입력 시퀀스 길이\n",
    "output_seq_length = 1  # 출력 시퀀스 길이\n",
    "batch_size = 64\n",
    "num_epochs = 50\n",
    "learning_rate = 0.001\n",
    "\n",
    "# 데이터를 입력 및 출력 시퀀스로 변환\n",
    "def create_sequences(data, input_seq_length, output_seq_length):\n",
    "    sequences = []\n",
    "    for i in range(len(data) - input_seq_length - output_seq_length + 1):\n",
    "        input_seq = data[i:i+input_seq_length]\n",
    "        output_seq = data[i+input_seq_length:i+input_seq_length+output_seq_length]\n",
    "        sequences.append((input_seq, output_seq))\n",
    "    return sequences\n",
    "\n",
    "sequences = create_sequences(data, input_seq_length, output_seq_length)\n",
    "\n",
    "# 데이터를 훈련 및 테스트 세트로 분할\n",
    "train_data, test_data = train_test_split(sequences, test_size=0.2, random_state=42)\n",
    "\n",
    "# DataLoader를 사용하여 데이터를 미니배치로 로드\n",
    "train_loader = DataLoader(train_data, batch_size=batch_size, shuffle=True)\n",
    "test_loader = DataLoader(test_data, batch_size=batch_size, shuffle=False)\n",
    "\n",
    "# Transformer 모델 정의\n",
    "class Transformer(nn.Module):\n",
    "    def __init__(self, input_size, output_size):\n",
    "        super(Transformer, self).__init__()\n",
    "        self.encoder = nn.Transformer(input_size, 64, num_layers=2, num_heads=4)\n",
    "        self.decoder = nn.Linear(64, output_size)\n",
    "\n",
    "    def forward(self, x):\n",
    "        x = self.encoder(x)\n",
    "        x = self.decoder(x)\n",
    "        return x\n",
    "\n",
    "# 모델 초기화\n",
    "model = Transformer(input_seq_length, output_seq_length)\n",
    "criterion = nn.MSELoss()\n",
    "optimizer = optim.Adam(model.parameters(), lr=learning_rate)\n",
    "\n",
    "# 훈련 루프\n",
    "for epoch in range(num_epochs):\n",
    "    model.train()\n",
    "    total_loss = 0\n",
    "    for inputs, targets in train_loader:\n",
    "        optimizer.zero_grad()\n",
    "        inputs = inputs.permute(1, 0, 2)  # 배치 차원을 앞으로 이동\n",
    "        outputs = model(inputs)\n",
    "        loss = criterion(outputs, targets)\n",
    "        loss.backward()\n",
    "        optimizer.step()\n",
    "        total_loss += loss.item()\n",
    "    print(f'Epoch [{epoch+1}/{num_epochs}], Loss: {total_loss:.4f}')\n",
    "\n",
    "# 테스트 루프\n",
    "model.eval()\n",
    "test_loss = 0\n",
    "with torch.no_grad():\n",
    "    for inputs, targets in test_loader:\n",
    "        inputs = inputs.permute(1, 0, 2)\n",
    "        outputs = model(inputs)\n",
    "        loss = criterion(outputs, targets)\n",
    "        test_loss += loss.item()\n",
    "\n",
    "print(f'Test Loss: {test_loss:.4f}')\n",
    "\n",
    "# 모델을 사용하여 (t+12*24) 동안의 시계열 예측 수행\n",
    "input_sequence = data[-input_seq_length:]  # 예측을 위한 입력 시퀀스\n",
    "input_tensor = torch.tensor(input_sequence, dtype=torch.float32).unsqueeze(1).unsqueeze(0)  # 배치 차원 추가\n",
    "\n",
    "model.eval()\n",
    "with torch.no_grad():\n",
    "    for _ in range(12*24):\n",
    "        output = model(input_tensor)\n",
    "        next_time_step = output[-1].item()\n",
    "        input_sequence = np.roll(input_sequence, -1)  # 입력 시퀀스 업데이트\n",
    "        input_sequence[-1] = next_time_step\n",
    "        input_tensor = torch.tensor(input_sequence, dtype=torch.float32).unsqueeze(1).unsqueeze(0)\n",
    "\n",
    "print(\"예측 결과:\", input_sequence)\n"
   ]
  },
  {
   "cell_type": "code",
   "execution_count": null,
   "id": "3f694287",
   "metadata": {},
   "outputs": [],
   "source": []
  },
  {
   "cell_type": "code",
   "execution_count": null,
   "id": "9e481e13",
   "metadata": {},
   "outputs": [],
   "source": []
  },
  {
   "cell_type": "code",
   "execution_count": null,
   "id": "6f2ddccb",
   "metadata": {},
   "outputs": [],
   "source": []
  },
  {
   "cell_type": "code",
   "execution_count": null,
   "id": "0f14a49d",
   "metadata": {},
   "outputs": [],
   "source": []
  },
  {
   "cell_type": "code",
   "execution_count": null,
   "id": "6aa51b7d",
   "metadata": {},
   "outputs": [],
   "source": []
  },
  {
   "cell_type": "code",
   "execution_count": null,
   "id": "982b514c",
   "metadata": {},
   "outputs": [],
   "source": []
  },
  {
   "cell_type": "code",
   "execution_count": null,
   "id": "a304cf0b",
   "metadata": {},
   "outputs": [],
   "source": []
  },
  {
   "cell_type": "code",
   "execution_count": null,
   "id": "ae2512bb",
   "metadata": {},
   "outputs": [],
   "source": []
  },
  {
   "cell_type": "code",
   "execution_count": null,
   "id": "bd6bddf9",
   "metadata": {},
   "outputs": [],
   "source": []
  },
  {
   "cell_type": "code",
   "execution_count": null,
   "id": "0e65d8fa",
   "metadata": {},
   "outputs": [],
   "source": []
  },
  {
   "cell_type": "code",
   "execution_count": null,
   "id": "60a98883",
   "metadata": {},
   "outputs": [],
   "source": []
  }
 ],
 "metadata": {
  "kernelspec": {
   "display_name": "venv1",
   "language": "python",
   "name": "venv1"
  },
  "language_info": {
   "codemirror_mode": {
    "name": "ipython",
    "version": 3
   },
   "file_extension": ".py",
   "mimetype": "text/x-python",
   "name": "python",
   "nbconvert_exporter": "python",
   "pygments_lexer": "ipython3",
   "version": "3.10.9"
  }
 },
 "nbformat": 4,
 "nbformat_minor": 5
}
