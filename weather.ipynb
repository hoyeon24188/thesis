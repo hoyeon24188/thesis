{
 "cells": [
  {
   "cell_type": "code",
   "execution_count": 3,
   "id": "b830e9ee",
   "metadata": {},
   "outputs": [],
   "source": [
    "import pandas as pd"
   ]
  },
  {
   "cell_type": "code",
   "execution_count": 19,
   "id": "1bcbfa79",
   "metadata": {},
   "outputs": [],
   "source": [
    "df1=pd.read_csv('C:\\\\Users\\\\ajou\\\\Desktop\\\\Data\\\\dongtan\\\\HWASUNG\\\\1.csv', encoding='cp949')\n",
    "df2=pd.read_csv('C:\\\\Users\\\\ajou\\\\Desktop\\\\Data\\\\dongtan\\\\HWASUNG\\\\2.csv', encoding='cp949')\n",
    "df3=pd.read_csv('C:\\\\Users\\\\ajou\\\\Desktop\\\\Data\\\\dongtan\\\\HWASUNG\\\\3.csv', encoding='cp949')\n",
    "df4=pd.read_csv('C:\\\\Users\\\\ajou\\\\Desktop\\\\Data\\\\dongtan\\\\HWASUNG\\\\4.csv', encoding='cp949')\n",
    "df5=pd.read_csv('C:\\\\Users\\\\ajou\\\\Desktop\\\\Data\\\\dongtan\\\\HWASUNG\\\\5.csv', encoding='cp949')\n",
    "df6=pd.read_csv('C:\\\\Users\\\\ajou\\\\Desktop\\\\Data\\\\dongtan\\\\HWASUNG\\\\6.csv', encoding='cp949')"
   ]
  },
  {
   "cell_type": "code",
   "execution_count": 20,
   "id": "ee634534",
   "metadata": {},
   "outputs": [],
   "source": [
    "a=pd.concat([df1,df2])\n",
    "b=pd.concat([df3,df4])\n",
    "c=pd.concat([df5,df6])"
   ]
  },
  {
   "cell_type": "code",
   "execution_count": 21,
   "id": "c047c34b",
   "metadata": {},
   "outputs": [],
   "source": [
    "d=pd.concat([a,b])\n",
    "f=pd.concat([d,c])"
   ]
  },
  {
   "cell_type": "code",
   "execution_count": 22,
   "id": "2e41c259",
   "metadata": {},
   "outputs": [],
   "source": [
    "e=f[['일시', '기온(°C)', '1분 강수량(mm)','풍속(m/s)', '습도(%)']]"
   ]
  },
  {
   "cell_type": "code",
   "execution_count": 23,
   "id": "48714d21",
   "metadata": {},
   "outputs": [
    {
     "name": "stdout",
     "output_type": "stream",
     "text": [
      "<class 'pandas.core.frame.DataFrame'>\n",
      "Int64Index: 260633 entries, 0 to 43198\n",
      "Data columns (total 5 columns):\n",
      " #   Column      Non-Null Count   Dtype  \n",
      "---  ------      --------------   -----  \n",
      " 0   일시          260633 non-null  object \n",
      " 1   기온(°C)      259195 non-null  float64\n",
      " 2   1분 강수량(mm)  256303 non-null  float64\n",
      " 3   풍속(m/s)     260606 non-null  float64\n",
      " 4   습도(%)       260633 non-null  float64\n",
      "dtypes: float64(4), object(1)\n",
      "memory usage: 11.9+ MB\n"
     ]
    }
   ],
   "source": [
    "e.info()"
   ]
  },
  {
   "cell_type": "code",
   "execution_count": 24,
   "id": "a0b01f70",
   "metadata": {},
   "outputs": [],
   "source": [
    "e.columns=['time','temperature','rainfall','windspd','humidity']"
   ]
  },
  {
   "cell_type": "code",
   "execution_count": 25,
   "id": "0bbea09b",
   "metadata": {},
   "outputs": [
    {
     "name": "stderr",
     "output_type": "stream",
     "text": [
      "C:\\Users\\ajou\\AppData\\Local\\Temp\\ipykernel_23280\\3860260314.py:1: SettingWithCopyWarning: \n",
      "A value is trying to be set on a copy of a slice from a DataFrame.\n",
      "Try using .loc[row_indexer,col_indexer] = value instead\n",
      "\n",
      "See the caveats in the documentation: https://pandas.pydata.org/pandas-docs/stable/user_guide/indexing.html#returning-a-view-versus-a-copy\n",
      "  e['time']= pd.to_datetime(e['time'])\n"
     ]
    }
   ],
   "source": [
    "e['time']= pd.to_datetime(e['time'])"
   ]
  },
  {
   "cell_type": "code",
   "execution_count": 26,
   "id": "c22b60ce",
   "metadata": {},
   "outputs": [],
   "source": [
    "e.set_index('time', inplace=True)"
   ]
  },
  {
   "cell_type": "code",
   "execution_count": 27,
   "id": "fb5c6bfb",
   "metadata": {},
   "outputs": [],
   "source": [
    "df_5min_avg= e.resample('5T').mean()\n"
   ]
  },
  {
   "cell_type": "code",
   "execution_count": 28,
   "id": "95e326a7",
   "metadata": {},
   "outputs": [],
   "source": [
    "df_5min=df_5min_avg[:51552]"
   ]
  },
  {
   "cell_type": "code",
   "execution_count": 29,
   "id": "a64710ff",
   "metadata": {},
   "outputs": [
    {
     "data": {
      "text/plain": [
       "Index(['temperature', 'rainfall', 'windspd', 'humidity'], dtype='object')"
      ]
     },
     "execution_count": 29,
     "metadata": {},
     "output_type": "execute_result"
    }
   ],
   "source": [
    "df_5min.columns"
   ]
  },
  {
   "cell_type": "code",
   "execution_count": null,
   "id": "75430384",
   "metadata": {},
   "outputs": [],
   "source": []
  },
  {
   "cell_type": "code",
   "execution_count": 30,
   "id": "cf6d722f",
   "metadata": {},
   "outputs": [
    {
     "data": {
      "text/html": [
       "<div>\n",
       "<style scoped>\n",
       "    .dataframe tbody tr th:only-of-type {\n",
       "        vertical-align: middle;\n",
       "    }\n",
       "\n",
       "    .dataframe tbody tr th {\n",
       "        vertical-align: top;\n",
       "    }\n",
       "\n",
       "    .dataframe thead th {\n",
       "        text-align: right;\n",
       "    }\n",
       "</style>\n",
       "<table border=\"1\" class=\"dataframe\">\n",
       "  <thead>\n",
       "    <tr style=\"text-align: right;\">\n",
       "      <th></th>\n",
       "      <th>temperature</th>\n",
       "      <th>rainfall</th>\n",
       "      <th>windspd</th>\n",
       "      <th>humidity</th>\n",
       "    </tr>\n",
       "    <tr>\n",
       "      <th>time</th>\n",
       "      <th></th>\n",
       "      <th></th>\n",
       "      <th></th>\n",
       "      <th></th>\n",
       "    </tr>\n",
       "  </thead>\n",
       "  <tbody>\n",
       "    <tr>\n",
       "      <th>2023-01-01 00:00:00</th>\n",
       "      <td>-3.475</td>\n",
       "      <td>0.0</td>\n",
       "      <td>0.10</td>\n",
       "      <td>85.425</td>\n",
       "    </tr>\n",
       "    <tr>\n",
       "      <th>2023-01-01 00:05:00</th>\n",
       "      <td>-3.560</td>\n",
       "      <td>0.0</td>\n",
       "      <td>0.18</td>\n",
       "      <td>85.800</td>\n",
       "    </tr>\n",
       "    <tr>\n",
       "      <th>2023-01-01 00:10:00</th>\n",
       "      <td>-3.720</td>\n",
       "      <td>0.0</td>\n",
       "      <td>0.28</td>\n",
       "      <td>86.340</td>\n",
       "    </tr>\n",
       "    <tr>\n",
       "      <th>2023-01-01 00:15:00</th>\n",
       "      <td>-3.800</td>\n",
       "      <td>0.0</td>\n",
       "      <td>0.46</td>\n",
       "      <td>87.100</td>\n",
       "    </tr>\n",
       "    <tr>\n",
       "      <th>2023-01-01 00:20:00</th>\n",
       "      <td>-3.820</td>\n",
       "      <td>0.0</td>\n",
       "      <td>0.54</td>\n",
       "      <td>87.360</td>\n",
       "    </tr>\n",
       "    <tr>\n",
       "      <th>...</th>\n",
       "      <td>...</td>\n",
       "      <td>...</td>\n",
       "      <td>...</td>\n",
       "      <td>...</td>\n",
       "    </tr>\n",
       "    <tr>\n",
       "      <th>2023-06-28 23:35:00</th>\n",
       "      <td>24.440</td>\n",
       "      <td>0.0</td>\n",
       "      <td>2.48</td>\n",
       "      <td>93.240</td>\n",
       "    </tr>\n",
       "    <tr>\n",
       "      <th>2023-06-28 23:40:00</th>\n",
       "      <td>24.500</td>\n",
       "      <td>0.0</td>\n",
       "      <td>2.24</td>\n",
       "      <td>93.280</td>\n",
       "    </tr>\n",
       "    <tr>\n",
       "      <th>2023-06-28 23:45:00</th>\n",
       "      <td>24.500</td>\n",
       "      <td>0.0</td>\n",
       "      <td>2.04</td>\n",
       "      <td>93.420</td>\n",
       "    </tr>\n",
       "    <tr>\n",
       "      <th>2023-06-28 23:50:00</th>\n",
       "      <td>24.460</td>\n",
       "      <td>0.0</td>\n",
       "      <td>2.46</td>\n",
       "      <td>93.360</td>\n",
       "    </tr>\n",
       "    <tr>\n",
       "      <th>2023-06-28 23:55:00</th>\n",
       "      <td>24.520</td>\n",
       "      <td>0.0</td>\n",
       "      <td>2.32</td>\n",
       "      <td>93.340</td>\n",
       "    </tr>\n",
       "  </tbody>\n",
       "</table>\n",
       "<p>51552 rows × 4 columns</p>\n",
       "</div>"
      ],
      "text/plain": [
       "                     temperature  rainfall  windspd  humidity\n",
       "time                                                         \n",
       "2023-01-01 00:00:00       -3.475       0.0     0.10    85.425\n",
       "2023-01-01 00:05:00       -3.560       0.0     0.18    85.800\n",
       "2023-01-01 00:10:00       -3.720       0.0     0.28    86.340\n",
       "2023-01-01 00:15:00       -3.800       0.0     0.46    87.100\n",
       "2023-01-01 00:20:00       -3.820       0.0     0.54    87.360\n",
       "...                          ...       ...      ...       ...\n",
       "2023-06-28 23:35:00       24.440       0.0     2.48    93.240\n",
       "2023-06-28 23:40:00       24.500       0.0     2.24    93.280\n",
       "2023-06-28 23:45:00       24.500       0.0     2.04    93.420\n",
       "2023-06-28 23:50:00       24.460       0.0     2.46    93.360\n",
       "2023-06-28 23:55:00       24.520       0.0     2.32    93.340\n",
       "\n",
       "[51552 rows x 4 columns]"
      ]
     },
     "execution_count": 30,
     "metadata": {},
     "output_type": "execute_result"
    }
   ],
   "source": [
    "df_5min"
   ]
  },
  {
   "cell_type": "code",
   "execution_count": 31,
   "id": "5d48652f",
   "metadata": {},
   "outputs": [],
   "source": [
    "df_5min.to_csv('C:\\\\Users\\\\ajou\\\\Desktop\\\\Data\\\\dongtan\\\\weather_hwasung.csv',)"
   ]
  },
  {
   "cell_type": "markdown",
   "id": "4815b78e",
   "metadata": {},
   "source": [
    "# 데이터 비교"
   ]
  },
  {
   "cell_type": "code",
   "execution_count": 32,
   "id": "80f15128",
   "metadata": {},
   "outputs": [],
   "source": [
    "hwa= pd.read_csv('C:\\\\Users\\\\ajou\\\\Desktop\\\\Data\\\\dongtan\\\\weather_hwasung.csv', encoding='cp949')\n",
    "osan= pd.read_csv('C:\\\\Users\\\\ajou\\\\Desktop\\\\Data\\\\dongtan\\\\weather_osan.csv', encoding='cp949')"
   ]
  },
  {
   "cell_type": "code",
   "execution_count": 33,
   "id": "d39d1aaa",
   "metadata": {},
   "outputs": [
    {
     "data": {
      "text/html": [
       "<div>\n",
       "<style scoped>\n",
       "    .dataframe tbody tr th:only-of-type {\n",
       "        vertical-align: middle;\n",
       "    }\n",
       "\n",
       "    .dataframe tbody tr th {\n",
       "        vertical-align: top;\n",
       "    }\n",
       "\n",
       "    .dataframe thead th {\n",
       "        text-align: right;\n",
       "    }\n",
       "</style>\n",
       "<table border=\"1\" class=\"dataframe\">\n",
       "  <thead>\n",
       "    <tr style=\"text-align: right;\">\n",
       "      <th></th>\n",
       "      <th>time</th>\n",
       "      <th>temperature</th>\n",
       "      <th>rainfall</th>\n",
       "      <th>windspd</th>\n",
       "      <th>humidity</th>\n",
       "    </tr>\n",
       "  </thead>\n",
       "  <tbody>\n",
       "    <tr>\n",
       "      <th>0</th>\n",
       "      <td>2023-01-01 00:00:00</td>\n",
       "      <td>-3.475</td>\n",
       "      <td>0.0</td>\n",
       "      <td>0.10</td>\n",
       "      <td>85.425</td>\n",
       "    </tr>\n",
       "    <tr>\n",
       "      <th>1</th>\n",
       "      <td>2023-01-01 00:05:00</td>\n",
       "      <td>-3.560</td>\n",
       "      <td>0.0</td>\n",
       "      <td>0.18</td>\n",
       "      <td>85.800</td>\n",
       "    </tr>\n",
       "    <tr>\n",
       "      <th>2</th>\n",
       "      <td>2023-01-01 00:10:00</td>\n",
       "      <td>-3.720</td>\n",
       "      <td>0.0</td>\n",
       "      <td>0.28</td>\n",
       "      <td>86.340</td>\n",
       "    </tr>\n",
       "    <tr>\n",
       "      <th>3</th>\n",
       "      <td>2023-01-01 00:15:00</td>\n",
       "      <td>-3.800</td>\n",
       "      <td>0.0</td>\n",
       "      <td>0.46</td>\n",
       "      <td>87.100</td>\n",
       "    </tr>\n",
       "    <tr>\n",
       "      <th>4</th>\n",
       "      <td>2023-01-01 00:20:00</td>\n",
       "      <td>-3.820</td>\n",
       "      <td>0.0</td>\n",
       "      <td>0.54</td>\n",
       "      <td>87.360</td>\n",
       "    </tr>\n",
       "  </tbody>\n",
       "</table>\n",
       "</div>"
      ],
      "text/plain": [
       "                  time  temperature  rainfall  windspd  humidity\n",
       "0  2023-01-01 00:00:00       -3.475       0.0     0.10    85.425\n",
       "1  2023-01-01 00:05:00       -3.560       0.0     0.18    85.800\n",
       "2  2023-01-01 00:10:00       -3.720       0.0     0.28    86.340\n",
       "3  2023-01-01 00:15:00       -3.800       0.0     0.46    87.100\n",
       "4  2023-01-01 00:20:00       -3.820       0.0     0.54    87.360"
      ]
     },
     "execution_count": 33,
     "metadata": {},
     "output_type": "execute_result"
    }
   ],
   "source": [
    "hwa.head()"
   ]
  },
  {
   "cell_type": "code",
   "execution_count": 34,
   "id": "94c8c148",
   "metadata": {},
   "outputs": [
    {
     "data": {
      "text/html": [
       "<div>\n",
       "<style scoped>\n",
       "    .dataframe tbody tr th:only-of-type {\n",
       "        vertical-align: middle;\n",
       "    }\n",
       "\n",
       "    .dataframe tbody tr th {\n",
       "        vertical-align: top;\n",
       "    }\n",
       "\n",
       "    .dataframe thead th {\n",
       "        text-align: right;\n",
       "    }\n",
       "</style>\n",
       "<table border=\"1\" class=\"dataframe\">\n",
       "  <thead>\n",
       "    <tr style=\"text-align: right;\">\n",
       "      <th></th>\n",
       "      <th>time</th>\n",
       "      <th>temperature</th>\n",
       "      <th>rainfall</th>\n",
       "      <th>windspd</th>\n",
       "      <th>humidity</th>\n",
       "    </tr>\n",
       "  </thead>\n",
       "  <tbody>\n",
       "    <tr>\n",
       "      <th>0</th>\n",
       "      <td>2023-01-01 00:00:00</td>\n",
       "      <td>-5.35</td>\n",
       "      <td>0.0</td>\n",
       "      <td>0.00</td>\n",
       "      <td>91.475</td>\n",
       "    </tr>\n",
       "    <tr>\n",
       "      <th>1</th>\n",
       "      <td>2023-01-01 00:05:00</td>\n",
       "      <td>-5.34</td>\n",
       "      <td>0.0</td>\n",
       "      <td>0.02</td>\n",
       "      <td>93.060</td>\n",
       "    </tr>\n",
       "    <tr>\n",
       "      <th>2</th>\n",
       "      <td>2023-01-01 00:10:00</td>\n",
       "      <td>-4.96</td>\n",
       "      <td>0.0</td>\n",
       "      <td>0.02</td>\n",
       "      <td>93.000</td>\n",
       "    </tr>\n",
       "    <tr>\n",
       "      <th>3</th>\n",
       "      <td>2023-01-01 00:15:00</td>\n",
       "      <td>-5.44</td>\n",
       "      <td>0.0</td>\n",
       "      <td>0.00</td>\n",
       "      <td>88.960</td>\n",
       "    </tr>\n",
       "    <tr>\n",
       "      <th>4</th>\n",
       "      <td>2023-01-01 00:20:00</td>\n",
       "      <td>-5.68</td>\n",
       "      <td>0.0</td>\n",
       "      <td>0.00</td>\n",
       "      <td>92.720</td>\n",
       "    </tr>\n",
       "  </tbody>\n",
       "</table>\n",
       "</div>"
      ],
      "text/plain": [
       "                  time  temperature  rainfall  windspd  humidity\n",
       "0  2023-01-01 00:00:00        -5.35       0.0     0.00    91.475\n",
       "1  2023-01-01 00:05:00        -5.34       0.0     0.02    93.060\n",
       "2  2023-01-01 00:10:00        -4.96       0.0     0.02    93.000\n",
       "3  2023-01-01 00:15:00        -5.44       0.0     0.00    88.960\n",
       "4  2023-01-01 00:20:00        -5.68       0.0     0.00    92.720"
      ]
     },
     "execution_count": 34,
     "metadata": {},
     "output_type": "execute_result"
    }
   ],
   "source": [
    "osan.head()"
   ]
  },
  {
   "cell_type": "code",
   "execution_count": 49,
   "id": "ebe446d7",
   "metadata": {},
   "outputs": [],
   "source": [
    "import numpy as np\n",
    "from scipy.stats import ks_2samp"
   ]
  },
  {
   "cell_type": "code",
   "execution_count": 57,
   "id": "f57e263f",
   "metadata": {},
   "outputs": [],
   "source": [
    "sample1=hwa.iloc[:,4]\n",
    "sample2=osan.iloc[:,4]"
   ]
  },
  {
   "cell_type": "code",
   "execution_count": 58,
   "id": "9ec21b34",
   "metadata": {},
   "outputs": [
    {
     "name": "stdout",
     "output_type": "stream",
     "text": [
      "KS Statistic: 0.03383333333333333\n",
      "P-value: 0.5482008176789774\n",
      "두 샘플은 동일한 분포를 따릅니다 (fail to reject H0)\n"
     ]
    }
   ],
   "source": [
    "# 두 개의 샘플 생성 (예시 데이터)\n",
    "sample1 = np.random.normal(0, 1, 1000)\n",
    "sample2 = np.random.normal(0, 1, 1200)\n",
    "\n",
    "# KS 검정 수행\n",
    "statistic, p_value = ks_2samp(sample1, sample2)\n",
    "\n",
    "# 결과 출력\n",
    "print(\"KS Statistic:\", statistic)\n",
    "print(\"P-value:\", p_value)\n",
    "\n",
    "# 유의 수준 0.05에서 유의미한지 확인\n",
    "alpha = 0.05\n",
    "if p_value < alpha:\n",
    "    print(\"두 샘플은 다른 분포를 따릅니다 (reject H0)\")\n",
    "else:\n",
    "    print(\"두 샘플은 동일한 분포를 따릅니다 (fail to reject H0)\")"
   ]
  },
  {
   "cell_type": "code",
   "execution_count": 59,
   "id": "7c993cde",
   "metadata": {},
   "outputs": [],
   "source": [
    "#동일한 분포를 따르므로 그냥 화성시꺼 사용함"
   ]
  },
  {
   "cell_type": "markdown",
   "id": "edfccb22",
   "metadata": {},
   "source": [
    "# 링크별로 구축"
   ]
  },
  {
   "cell_type": "code",
   "execution_count": 1,
   "id": "ab2bf674",
   "metadata": {},
   "outputs": [],
   "source": [
    "import pandas as pd"
   ]
  },
  {
   "cell_type": "code",
   "execution_count": 2,
   "id": "8d949217",
   "metadata": {},
   "outputs": [],
   "source": [
    "hwa= pd.read_csv('C:\\\\Users\\\\ajou\\\\Desktop\\\\Data\\\\dongtan\\\\weather_hwasung.csv', encoding='cp949')"
   ]
  },
  {
   "cell_type": "code",
   "execution_count": 3,
   "id": "3dfd137a",
   "metadata": {},
   "outputs": [],
   "source": [
    "df=pd.DataFrame(hwa['time'])"
   ]
  },
  {
   "cell_type": "code",
   "execution_count": 4,
   "id": "a2d29b23",
   "metadata": {},
   "outputs": [],
   "source": [
    "df.set_index('time',inplace=True)"
   ]
  },
  {
   "cell_type": "code",
   "execution_count": 5,
   "id": "2dfe0893",
   "metadata": {},
   "outputs": [],
   "source": [
    "hwa.set_index('time',inplace=True)"
   ]
  },
  {
   "cell_type": "code",
   "execution_count": 6,
   "id": "16f1d524",
   "metadata": {},
   "outputs": [],
   "source": [
    "nodes=[40221,  40222,  40223,  40224,  40231,  40232,  40233,  40234,\n",
    "        40241,  40242,  40243,  40244,  40311,  40312,  40313,  40314,  40321,\n",
    "        40322,  40323,  40324,  40331,  40332,  40333,  40334,  40341,  40342,\n",
    "        40343,  40344,  40351,  40352,  40353,  40354,  40371,  40372,  40373,\n",
    "        40374,  40381,  40382,  40383,  40384,  40391,  40392,  40393,  40394]"
   ]
  },
  {
   "cell_type": "code",
   "execution_count": 7,
   "id": "07c0ccb7",
   "metadata": {},
   "outputs": [],
   "source": [
    "import openpyxl"
   ]
  },
  {
   "cell_type": "code",
   "execution_count": 8,
   "id": "47a9f57b",
   "metadata": {
    "scrolled": true
   },
   "outputs": [],
   "source": [
    "for node in nodes:\n",
    "    df[node]=hwa['temperature']"
   ]
  },
  {
   "cell_type": "code",
   "execution_count": 9,
   "id": "00a370be",
   "metadata": {},
   "outputs": [],
   "source": [
    "df.to_excel('C:\\\\Users\\\\ajou\\\\Desktop\\\\Data\\\\dongtan\\\\weather.xlsx', sheet_name='temp')"
   ]
  },
  {
   "cell_type": "code",
   "execution_count": 10,
   "id": "88eee2c0",
   "metadata": {},
   "outputs": [],
   "source": [
    "for node in nodes:\n",
    "    df[node]=hwa['rainfall']"
   ]
  },
  {
   "cell_type": "code",
   "execution_count": 11,
   "id": "1c3a0420",
   "metadata": {},
   "outputs": [],
   "source": [
    "df.to_excel('C:\\\\Users\\\\ajou\\\\Desktop\\\\Data\\\\dongtan\\\\weather_rain.xlsx')"
   ]
  },
  {
   "cell_type": "code",
   "execution_count": 12,
   "id": "755cbdcb",
   "metadata": {},
   "outputs": [],
   "source": [
    "for node in nodes:\n",
    "    df[node]=hwa['windspd']"
   ]
  },
  {
   "cell_type": "code",
   "execution_count": 13,
   "id": "01ee7674",
   "metadata": {},
   "outputs": [],
   "source": [
    "df.to_excel('C:\\\\Users\\\\ajou\\\\Desktop\\\\Data\\\\dongtan\\\\weather_wind.xlsx')"
   ]
  },
  {
   "cell_type": "code",
   "execution_count": 14,
   "id": "93fccf85",
   "metadata": {},
   "outputs": [],
   "source": [
    "for node in nodes:\n",
    "    df[node]=hwa['humidity']"
   ]
  },
  {
   "cell_type": "code",
   "execution_count": 15,
   "id": "9b92a88b",
   "metadata": {},
   "outputs": [],
   "source": [
    "df.to_excel('C:\\\\Users\\\\ajou\\\\Desktop\\\\Data\\\\dongtan\\\\weather_humi.xlsx')"
   ]
  },
  {
   "cell_type": "code",
   "execution_count": null,
   "id": "4024e121",
   "metadata": {},
   "outputs": [],
   "source": []
  }
 ],
 "metadata": {
  "kernelspec": {
   "display_name": "venv1",
   "language": "python",
   "name": "venv1"
  },
  "language_info": {
   "codemirror_mode": {
    "name": "ipython",
    "version": 3
   },
   "file_extension": ".py",
   "mimetype": "text/x-python",
   "name": "python",
   "nbconvert_exporter": "python",
   "pygments_lexer": "ipython3",
   "version": "3.10.9"
  }
 },
 "nbformat": 4,
 "nbformat_minor": 5
}
