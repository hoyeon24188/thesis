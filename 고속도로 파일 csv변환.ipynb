{
 "cells": [
  {
   "cell_type": "code",
   "execution_count": 1,
   "id": "7e208a44",
   "metadata": {},
   "outputs": [
    {
     "name": "stdout",
     "output_type": "stream",
     "text": [
      "True\n"
     ]
    }
   ],
   "source": [
    "import tensorflow as tf\n",
    "print(tf.test.is_built_with_cuda())"
   ]
  },
  {
   "cell_type": "code",
   "execution_count": 3,
   "id": "a3b30af4",
   "metadata": {},
   "outputs": [],
   "source": [
    "#import os\n",
    "\n",
    "# os.environ[\"CUDA_VISIBLE_DEVICES\"]=\"0\"\n",
    "\n",
    "# 이 코드 밑으로는 다 GPU 활용하게 됨\n",
    "# 혹시 몰라서..."
   ]
  },
  {
   "cell_type": "code",
   "execution_count": 3,
   "id": "9ff51723",
   "metadata": {},
   "outputs": [
    {
     "name": "stdout",
     "output_type": "stream",
     "text": [
      "<KeysViewHDF5 ['df']>\n"
     ]
    }
   ],
   "source": [
    "#metr-la.h5파일 csv파일로 전환함\n",
    "\n",
    "import pandas as pd\n",
    "import h5py\n",
    "\n",
    "#h5 file path\n",
    "filename = 'C:\\\\Users\\\\ajou\\\\Desktop\\\\Data\\\\metr-la.h5'\n",
    "\n",
    "#read h5 file\n",
    "dataset = h5py.File(filename, 'r')\n",
    "\n",
    "#print the first unknown key in the h5 file\n",
    "print(dataset.keys()) #returns df\n",
    "\n",
    "\n",
    "#save the h5 file to csv using the first key df\n",
    "with pd.HDFStore(filename, 'r') as d:\n",
    "    df = d.get('df')\n",
    "    df.to_csv('C:\\\\Users\\\\ajou\\\\Desktop\\\\Data\\\\metr-la.csv')"
   ]
  },
  {
   "cell_type": "code",
   "execution_count": null,
   "id": "f5671e95",
   "metadata": {},
   "outputs": [],
   "source": []
  }
 ],
 "metadata": {
  "kernelspec": {
   "display_name": "venv1",
   "language": "python",
   "name": "venv1"
  },
  "language_info": {
   "codemirror_mode": {
    "name": "ipython",
    "version": 3
   },
   "file_extension": ".py",
   "mimetype": "text/x-python",
   "name": "python",
   "nbconvert_exporter": "python",
   "pygments_lexer": "ipython3",
   "version": "3.10.9"
  }
 },
 "nbformat": 4,
 "nbformat_minor": 5
}
