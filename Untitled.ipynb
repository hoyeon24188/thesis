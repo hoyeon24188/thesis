{
 "cells": [
  {
   "cell_type": "code",
   "execution_count": 1,
   "id": "5a4413de",
   "metadata": {},
   "outputs": [],
   "source": [
    "import numpy as np"
   ]
  },
  {
   "cell_type": "code",
   "execution_count": 2,
   "id": "b7d8a89b",
   "metadata": {},
   "outputs": [
    {
     "data": {
      "text/plain": [
       "array([[-0.3031984 , -0.85305256,  0.5230205 , ...,  0.5716237 ,\n",
       "         0.8824304 , -0.07951215],\n",
       "       [-0.43240646,  0.19646454,  0.01130795, ...,  0.98181987,\n",
       "         0.9930538 , -0.68055934],\n",
       "       [ 0.1470989 , -0.46327144,  0.41881   , ...,  0.55548334,\n",
       "        -0.26488158, -0.00431725],\n",
       "       ...,\n",
       "       [-1.7952495 , -0.50231326,  1.6238933 , ...,  0.28715837,\n",
       "         0.29814035, -0.7946653 ],\n",
       "       [-1.6198714 , -1.1240636 ,  1.1968837 , ..., -0.30688092,\n",
       "        -0.9938347 ,  0.24428722],\n",
       "       [-1.2000523 ,  0.18406135,  1.1532501 , ..., -0.17510536,\n",
       "        -0.16144404, -0.7564486 ]], dtype=float32)"
      ]
     },
     "execution_count": 2,
     "metadata": {},
     "output_type": "execute_result"
    }
   ],
   "source": [
    "np.load('C:\\\\Users\\\\ajou\\\\Desktop\\\\Data\\\\dongtan\\\\embedding.npy')"
   ]
  },
  {
   "cell_type": "code",
   "execution_count": null,
   "id": "d48bb0f3",
   "metadata": {},
   "outputs": [],
   "source": []
  }
 ],
 "metadata": {
  "kernelspec": {
   "display_name": "venv1",
   "language": "python",
   "name": "venv1"
  },
  "language_info": {
   "codemirror_mode": {
    "name": "ipython",
    "version": 3
   },
   "file_extension": ".py",
   "mimetype": "text/x-python",
   "name": "python",
   "nbconvert_exporter": "python",
   "pygments_lexer": "ipython3",
   "version": "3.10.9"
  }
 },
 "nbformat": 4,
 "nbformat_minor": 5
}
