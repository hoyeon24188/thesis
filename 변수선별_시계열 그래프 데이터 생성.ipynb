{
 "cells": [
  {
   "cell_type": "code",
   "execution_count": 1,
   "id": "98bf25b3",
   "metadata": {},
   "outputs": [],
   "source": [
    "import pandas as pd"
   ]
  },
  {
   "cell_type": "code",
   "execution_count": 2,
   "id": "1e03e51b",
   "metadata": {},
   "outputs": [],
   "source": [
    "#https://jalynne-kim.medium.com/%EB%8D%B0%EC%9D%B4%ED%84%B0-%EC%82%AC%EC%9D%B4%EC%96%B8%EC%8A%A4-%EC%A3%BC%EC%84%B1%EB%B6%84-%EB%B6%84%EC%84%9D-pca-principal-component-analysis-%EA%B3%BC-biplot-%EA%B0%9C%EB%85%90%EA%B3%BC-%EC%82%AC%EB%A1%80-%EB%A0%88%EB%93%9C%EC%99%80%EC%9D%B8-%EB%8D%B0%EC%9D%B4%ED%84%B0-437283592031\n",
    "#pda 분석 주성분 해석방법"
   ]
  },
  {
   "cell_type": "code",
   "execution_count": 3,
   "id": "f5f9a984",
   "metadata": {
    "scrolled": true
   },
   "outputs": [
    {
     "ename": "KeyboardInterrupt",
     "evalue": "",
     "output_type": "error",
     "traceback": [
      "\u001b[1;31m---------------------------------------------------------------------------\u001b[0m",
      "\u001b[1;31mKeyboardInterrupt\u001b[0m                         Traceback (most recent call last)",
      "Cell \u001b[1;32mIn[3], line 24\u001b[0m\n\u001b[0;32m     22\u001b[0m vol_right\u001b[38;5;241m=\u001b[39mpd\u001b[38;5;241m.\u001b[39mread_excel(\u001b[38;5;124m'\u001b[39m\u001b[38;5;124mC:\u001b[39m\u001b[38;5;130;01m\\\\\u001b[39;00m\u001b[38;5;124mUsers\u001b[39m\u001b[38;5;130;01m\\\\\u001b[39;00m\u001b[38;5;124majou\u001b[39m\u001b[38;5;130;01m\\\\\u001b[39;00m\u001b[38;5;124mDesktop\u001b[39m\u001b[38;5;130;01m\\\\\u001b[39;00m\u001b[38;5;124mData\u001b[39m\u001b[38;5;130;01m\\\\\u001b[39;00m\u001b[38;5;124mdongtan\u001b[39m\u001b[38;5;130;01m\\\\\u001b[39;00m\u001b[38;5;124mvolume_not0.xlsx\u001b[39m\u001b[38;5;124m'\u001b[39m,sheet_name\u001b[38;5;241m=\u001b[39m\u001b[38;5;124m'\u001b[39m\u001b[38;5;124mvol_right\u001b[39m\u001b[38;5;124m'\u001b[39m)\n\u001b[0;32m     23\u001b[0m vol_uturn\u001b[38;5;241m=\u001b[39mpd\u001b[38;5;241m.\u001b[39mread_excel(\u001b[38;5;124m'\u001b[39m\u001b[38;5;124mC:\u001b[39m\u001b[38;5;130;01m\\\\\u001b[39;00m\u001b[38;5;124mUsers\u001b[39m\u001b[38;5;130;01m\\\\\u001b[39;00m\u001b[38;5;124majou\u001b[39m\u001b[38;5;130;01m\\\\\u001b[39;00m\u001b[38;5;124mDesktop\u001b[39m\u001b[38;5;130;01m\\\\\u001b[39;00m\u001b[38;5;124mData\u001b[39m\u001b[38;5;130;01m\\\\\u001b[39;00m\u001b[38;5;124mdongtan\u001b[39m\u001b[38;5;130;01m\\\\\u001b[39;00m\u001b[38;5;124mvolume_not0.xlsx\u001b[39m\u001b[38;5;124m'\u001b[39m,sheet_name\u001b[38;5;241m=\u001b[39m\u001b[38;5;124m'\u001b[39m\u001b[38;5;124mvol_uturn\u001b[39m\u001b[38;5;124m'\u001b[39m)\n\u001b[1;32m---> 24\u001b[0m vol_veh\u001b[38;5;241m=\u001b[39m\u001b[43mpd\u001b[49m\u001b[38;5;241;43m.\u001b[39;49m\u001b[43mread_excel\u001b[49m\u001b[43m(\u001b[49m\u001b[38;5;124;43m'\u001b[39;49m\u001b[38;5;124;43mC:\u001b[39;49m\u001b[38;5;130;43;01m\\\\\u001b[39;49;00m\u001b[38;5;124;43mUsers\u001b[39;49m\u001b[38;5;130;43;01m\\\\\u001b[39;49;00m\u001b[38;5;124;43majou\u001b[39;49m\u001b[38;5;130;43;01m\\\\\u001b[39;49;00m\u001b[38;5;124;43mDesktop\u001b[39;49m\u001b[38;5;130;43;01m\\\\\u001b[39;49;00m\u001b[38;5;124;43mData\u001b[39;49m\u001b[38;5;130;43;01m\\\\\u001b[39;49;00m\u001b[38;5;124;43mdongtan\u001b[39;49m\u001b[38;5;130;43;01m\\\\\u001b[39;49;00m\u001b[38;5;124;43mvolume_not0.xlsx\u001b[39;49m\u001b[38;5;124;43m'\u001b[39;49m\u001b[43m,\u001b[49m\u001b[43msheet_name\u001b[49m\u001b[38;5;241;43m=\u001b[39;49m\u001b[38;5;124;43m'\u001b[39;49m\u001b[38;5;124;43mvol_veh\u001b[39;49m\u001b[38;5;124;43m'\u001b[39;49m\u001b[43m)\u001b[49m\n\u001b[0;32m     25\u001b[0m vol_bus_s\u001b[38;5;241m=\u001b[39mpd\u001b[38;5;241m.\u001b[39mread_excel(\u001b[38;5;124m'\u001b[39m\u001b[38;5;124mC:\u001b[39m\u001b[38;5;130;01m\\\\\u001b[39;00m\u001b[38;5;124mUsers\u001b[39m\u001b[38;5;130;01m\\\\\u001b[39;00m\u001b[38;5;124majou\u001b[39m\u001b[38;5;130;01m\\\\\u001b[39;00m\u001b[38;5;124mDesktop\u001b[39m\u001b[38;5;130;01m\\\\\u001b[39;00m\u001b[38;5;124mData\u001b[39m\u001b[38;5;130;01m\\\\\u001b[39;00m\u001b[38;5;124mdongtan\u001b[39m\u001b[38;5;130;01m\\\\\u001b[39;00m\u001b[38;5;124mvolume_not0.xlsx\u001b[39m\u001b[38;5;124m'\u001b[39m,sheet_name\u001b[38;5;241m=\u001b[39m\u001b[38;5;124m'\u001b[39m\u001b[38;5;124mvol_bus_s\u001b[39m\u001b[38;5;124m'\u001b[39m)\n\u001b[0;32m     26\u001b[0m vol_bus_b\u001b[38;5;241m=\u001b[39mpd\u001b[38;5;241m.\u001b[39mread_excel(\u001b[38;5;124m'\u001b[39m\u001b[38;5;124mC:\u001b[39m\u001b[38;5;130;01m\\\\\u001b[39;00m\u001b[38;5;124mUsers\u001b[39m\u001b[38;5;130;01m\\\\\u001b[39;00m\u001b[38;5;124majou\u001b[39m\u001b[38;5;130;01m\\\\\u001b[39;00m\u001b[38;5;124mDesktop\u001b[39m\u001b[38;5;130;01m\\\\\u001b[39;00m\u001b[38;5;124mData\u001b[39m\u001b[38;5;130;01m\\\\\u001b[39;00m\u001b[38;5;124mdongtan\u001b[39m\u001b[38;5;130;01m\\\\\u001b[39;00m\u001b[38;5;124mvolume_not0.xlsx\u001b[39m\u001b[38;5;124m'\u001b[39m,sheet_name\u001b[38;5;241m=\u001b[39m\u001b[38;5;124m'\u001b[39m\u001b[38;5;124mvol_bus_b\u001b[39m\u001b[38;5;124m'\u001b[39m)\n",
      "File \u001b[1;32m~\\anaconda3\\lib\\site-packages\\pandas\\util\\_decorators.py:211\u001b[0m, in \u001b[0;36mdeprecate_kwarg.<locals>._deprecate_kwarg.<locals>.wrapper\u001b[1;34m(*args, **kwargs)\u001b[0m\n\u001b[0;32m    209\u001b[0m     \u001b[38;5;28;01melse\u001b[39;00m:\n\u001b[0;32m    210\u001b[0m         kwargs[new_arg_name] \u001b[38;5;241m=\u001b[39m new_arg_value\n\u001b[1;32m--> 211\u001b[0m \u001b[38;5;28;01mreturn\u001b[39;00m func(\u001b[38;5;241m*\u001b[39margs, \u001b[38;5;241m*\u001b[39m\u001b[38;5;241m*\u001b[39mkwargs)\n",
      "File \u001b[1;32m~\\anaconda3\\lib\\site-packages\\pandas\\util\\_decorators.py:331\u001b[0m, in \u001b[0;36mdeprecate_nonkeyword_arguments.<locals>.decorate.<locals>.wrapper\u001b[1;34m(*args, **kwargs)\u001b[0m\n\u001b[0;32m    325\u001b[0m \u001b[38;5;28;01mif\u001b[39;00m \u001b[38;5;28mlen\u001b[39m(args) \u001b[38;5;241m>\u001b[39m num_allow_args:\n\u001b[0;32m    326\u001b[0m     warnings\u001b[38;5;241m.\u001b[39mwarn(\n\u001b[0;32m    327\u001b[0m         msg\u001b[38;5;241m.\u001b[39mformat(arguments\u001b[38;5;241m=\u001b[39m_format_argument_list(allow_args)),\n\u001b[0;32m    328\u001b[0m         \u001b[38;5;167;01mFutureWarning\u001b[39;00m,\n\u001b[0;32m    329\u001b[0m         stacklevel\u001b[38;5;241m=\u001b[39mfind_stack_level(),\n\u001b[0;32m    330\u001b[0m     )\n\u001b[1;32m--> 331\u001b[0m \u001b[38;5;28;01mreturn\u001b[39;00m func(\u001b[38;5;241m*\u001b[39margs, \u001b[38;5;241m*\u001b[39m\u001b[38;5;241m*\u001b[39mkwargs)\n",
      "File \u001b[1;32m~\\anaconda3\\lib\\site-packages\\pandas\\io\\excel\\_base.py:490\u001b[0m, in \u001b[0;36mread_excel\u001b[1;34m(io, sheet_name, header, names, index_col, usecols, squeeze, dtype, engine, converters, true_values, false_values, skiprows, nrows, na_values, keep_default_na, na_filter, verbose, parse_dates, date_parser, thousands, decimal, comment, skipfooter, convert_float, mangle_dupe_cols, storage_options)\u001b[0m\n\u001b[0;32m    484\u001b[0m     \u001b[38;5;28;01mraise\u001b[39;00m \u001b[38;5;167;01mValueError\u001b[39;00m(\n\u001b[0;32m    485\u001b[0m         \u001b[38;5;124m\"\u001b[39m\u001b[38;5;124mEngine should not be specified when passing \u001b[39m\u001b[38;5;124m\"\u001b[39m\n\u001b[0;32m    486\u001b[0m         \u001b[38;5;124m\"\u001b[39m\u001b[38;5;124man ExcelFile - ExcelFile already has the engine set\u001b[39m\u001b[38;5;124m\"\u001b[39m\n\u001b[0;32m    487\u001b[0m     )\n\u001b[0;32m    489\u001b[0m \u001b[38;5;28;01mtry\u001b[39;00m:\n\u001b[1;32m--> 490\u001b[0m     data \u001b[38;5;241m=\u001b[39m \u001b[43mio\u001b[49m\u001b[38;5;241;43m.\u001b[39;49m\u001b[43mparse\u001b[49m\u001b[43m(\u001b[49m\n\u001b[0;32m    491\u001b[0m \u001b[43m        \u001b[49m\u001b[43msheet_name\u001b[49m\u001b[38;5;241;43m=\u001b[39;49m\u001b[43msheet_name\u001b[49m\u001b[43m,\u001b[49m\n\u001b[0;32m    492\u001b[0m \u001b[43m        \u001b[49m\u001b[43mheader\u001b[49m\u001b[38;5;241;43m=\u001b[39;49m\u001b[43mheader\u001b[49m\u001b[43m,\u001b[49m\n\u001b[0;32m    493\u001b[0m \u001b[43m        \u001b[49m\u001b[43mnames\u001b[49m\u001b[38;5;241;43m=\u001b[39;49m\u001b[43mnames\u001b[49m\u001b[43m,\u001b[49m\n\u001b[0;32m    494\u001b[0m \u001b[43m        \u001b[49m\u001b[43mindex_col\u001b[49m\u001b[38;5;241;43m=\u001b[39;49m\u001b[43mindex_col\u001b[49m\u001b[43m,\u001b[49m\n\u001b[0;32m    495\u001b[0m \u001b[43m        \u001b[49m\u001b[43musecols\u001b[49m\u001b[38;5;241;43m=\u001b[39;49m\u001b[43musecols\u001b[49m\u001b[43m,\u001b[49m\n\u001b[0;32m    496\u001b[0m \u001b[43m        \u001b[49m\u001b[43msqueeze\u001b[49m\u001b[38;5;241;43m=\u001b[39;49m\u001b[43msqueeze\u001b[49m\u001b[43m,\u001b[49m\n\u001b[0;32m    497\u001b[0m \u001b[43m        \u001b[49m\u001b[43mdtype\u001b[49m\u001b[38;5;241;43m=\u001b[39;49m\u001b[43mdtype\u001b[49m\u001b[43m,\u001b[49m\n\u001b[0;32m    498\u001b[0m \u001b[43m        \u001b[49m\u001b[43mconverters\u001b[49m\u001b[38;5;241;43m=\u001b[39;49m\u001b[43mconverters\u001b[49m\u001b[43m,\u001b[49m\n\u001b[0;32m    499\u001b[0m \u001b[43m        \u001b[49m\u001b[43mtrue_values\u001b[49m\u001b[38;5;241;43m=\u001b[39;49m\u001b[43mtrue_values\u001b[49m\u001b[43m,\u001b[49m\n\u001b[0;32m    500\u001b[0m \u001b[43m        \u001b[49m\u001b[43mfalse_values\u001b[49m\u001b[38;5;241;43m=\u001b[39;49m\u001b[43mfalse_values\u001b[49m\u001b[43m,\u001b[49m\n\u001b[0;32m    501\u001b[0m \u001b[43m        \u001b[49m\u001b[43mskiprows\u001b[49m\u001b[38;5;241;43m=\u001b[39;49m\u001b[43mskiprows\u001b[49m\u001b[43m,\u001b[49m\n\u001b[0;32m    502\u001b[0m \u001b[43m        \u001b[49m\u001b[43mnrows\u001b[49m\u001b[38;5;241;43m=\u001b[39;49m\u001b[43mnrows\u001b[49m\u001b[43m,\u001b[49m\n\u001b[0;32m    503\u001b[0m \u001b[43m        \u001b[49m\u001b[43mna_values\u001b[49m\u001b[38;5;241;43m=\u001b[39;49m\u001b[43mna_values\u001b[49m\u001b[43m,\u001b[49m\n\u001b[0;32m    504\u001b[0m \u001b[43m        \u001b[49m\u001b[43mkeep_default_na\u001b[49m\u001b[38;5;241;43m=\u001b[39;49m\u001b[43mkeep_default_na\u001b[49m\u001b[43m,\u001b[49m\n\u001b[0;32m    505\u001b[0m \u001b[43m        \u001b[49m\u001b[43mna_filter\u001b[49m\u001b[38;5;241;43m=\u001b[39;49m\u001b[43mna_filter\u001b[49m\u001b[43m,\u001b[49m\n\u001b[0;32m    506\u001b[0m \u001b[43m        \u001b[49m\u001b[43mverbose\u001b[49m\u001b[38;5;241;43m=\u001b[39;49m\u001b[43mverbose\u001b[49m\u001b[43m,\u001b[49m\n\u001b[0;32m    507\u001b[0m \u001b[43m        \u001b[49m\u001b[43mparse_dates\u001b[49m\u001b[38;5;241;43m=\u001b[39;49m\u001b[43mparse_dates\u001b[49m\u001b[43m,\u001b[49m\n\u001b[0;32m    508\u001b[0m \u001b[43m        \u001b[49m\u001b[43mdate_parser\u001b[49m\u001b[38;5;241;43m=\u001b[39;49m\u001b[43mdate_parser\u001b[49m\u001b[43m,\u001b[49m\n\u001b[0;32m    509\u001b[0m \u001b[43m        \u001b[49m\u001b[43mthousands\u001b[49m\u001b[38;5;241;43m=\u001b[39;49m\u001b[43mthousands\u001b[49m\u001b[43m,\u001b[49m\n\u001b[0;32m    510\u001b[0m \u001b[43m        \u001b[49m\u001b[43mdecimal\u001b[49m\u001b[38;5;241;43m=\u001b[39;49m\u001b[43mdecimal\u001b[49m\u001b[43m,\u001b[49m\n\u001b[0;32m    511\u001b[0m \u001b[43m        \u001b[49m\u001b[43mcomment\u001b[49m\u001b[38;5;241;43m=\u001b[39;49m\u001b[43mcomment\u001b[49m\u001b[43m,\u001b[49m\n\u001b[0;32m    512\u001b[0m \u001b[43m        \u001b[49m\u001b[43mskipfooter\u001b[49m\u001b[38;5;241;43m=\u001b[39;49m\u001b[43mskipfooter\u001b[49m\u001b[43m,\u001b[49m\n\u001b[0;32m    513\u001b[0m \u001b[43m        \u001b[49m\u001b[43mconvert_float\u001b[49m\u001b[38;5;241;43m=\u001b[39;49m\u001b[43mconvert_float\u001b[49m\u001b[43m,\u001b[49m\n\u001b[0;32m    514\u001b[0m \u001b[43m        \u001b[49m\u001b[43mmangle_dupe_cols\u001b[49m\u001b[38;5;241;43m=\u001b[39;49m\u001b[43mmangle_dupe_cols\u001b[49m\u001b[43m,\u001b[49m\n\u001b[0;32m    515\u001b[0m \u001b[43m    \u001b[49m\u001b[43m)\u001b[49m\n\u001b[0;32m    516\u001b[0m \u001b[38;5;28;01mfinally\u001b[39;00m:\n\u001b[0;32m    517\u001b[0m     \u001b[38;5;66;03m# make sure to close opened file handles\u001b[39;00m\n\u001b[0;32m    518\u001b[0m     \u001b[38;5;28;01mif\u001b[39;00m should_close:\n",
      "File \u001b[1;32m~\\anaconda3\\lib\\site-packages\\pandas\\io\\excel\\_base.py:1734\u001b[0m, in \u001b[0;36mExcelFile.parse\u001b[1;34m(self, sheet_name, header, names, index_col, usecols, squeeze, converters, true_values, false_values, skiprows, nrows, na_values, parse_dates, date_parser, thousands, comment, skipfooter, convert_float, mangle_dupe_cols, **kwds)\u001b[0m\n\u001b[0;32m   1700\u001b[0m \u001b[38;5;28;01mdef\u001b[39;00m \u001b[38;5;21mparse\u001b[39m(\n\u001b[0;32m   1701\u001b[0m     \u001b[38;5;28mself\u001b[39m,\n\u001b[0;32m   1702\u001b[0m     sheet_name: \u001b[38;5;28mstr\u001b[39m \u001b[38;5;241m|\u001b[39m \u001b[38;5;28mint\u001b[39m \u001b[38;5;241m|\u001b[39m \u001b[38;5;28mlist\u001b[39m[\u001b[38;5;28mint\u001b[39m] \u001b[38;5;241m|\u001b[39m \u001b[38;5;28mlist\u001b[39m[\u001b[38;5;28mstr\u001b[39m] \u001b[38;5;241m|\u001b[39m \u001b[38;5;28;01mNone\u001b[39;00m \u001b[38;5;241m=\u001b[39m \u001b[38;5;241m0\u001b[39m,\n\u001b[1;32m   (...)\u001b[0m\n\u001b[0;32m   1721\u001b[0m     \u001b[38;5;241m*\u001b[39m\u001b[38;5;241m*\u001b[39mkwds,\n\u001b[0;32m   1722\u001b[0m ) \u001b[38;5;241m-\u001b[39m\u001b[38;5;241m>\u001b[39m DataFrame \u001b[38;5;241m|\u001b[39m \u001b[38;5;28mdict\u001b[39m[\u001b[38;5;28mstr\u001b[39m, DataFrame] \u001b[38;5;241m|\u001b[39m \u001b[38;5;28mdict\u001b[39m[\u001b[38;5;28mint\u001b[39m, DataFrame]:\n\u001b[0;32m   1723\u001b[0m     \u001b[38;5;124;03m\"\"\"\u001b[39;00m\n\u001b[0;32m   1724\u001b[0m \u001b[38;5;124;03m    Parse specified sheet(s) into a DataFrame.\u001b[39;00m\n\u001b[0;32m   1725\u001b[0m \n\u001b[1;32m   (...)\u001b[0m\n\u001b[0;32m   1732\u001b[0m \u001b[38;5;124;03m        DataFrame from the passed in Excel file.\u001b[39;00m\n\u001b[0;32m   1733\u001b[0m \u001b[38;5;124;03m    \"\"\"\u001b[39;00m\n\u001b[1;32m-> 1734\u001b[0m     \u001b[38;5;28;01mreturn\u001b[39;00m \u001b[38;5;28mself\u001b[39m\u001b[38;5;241m.\u001b[39m_reader\u001b[38;5;241m.\u001b[39mparse(\n\u001b[0;32m   1735\u001b[0m         sheet_name\u001b[38;5;241m=\u001b[39msheet_name,\n\u001b[0;32m   1736\u001b[0m         header\u001b[38;5;241m=\u001b[39mheader,\n\u001b[0;32m   1737\u001b[0m         names\u001b[38;5;241m=\u001b[39mnames,\n\u001b[0;32m   1738\u001b[0m         index_col\u001b[38;5;241m=\u001b[39mindex_col,\n\u001b[0;32m   1739\u001b[0m         usecols\u001b[38;5;241m=\u001b[39musecols,\n\u001b[0;32m   1740\u001b[0m         squeeze\u001b[38;5;241m=\u001b[39msqueeze,\n\u001b[0;32m   1741\u001b[0m         converters\u001b[38;5;241m=\u001b[39mconverters,\n\u001b[0;32m   1742\u001b[0m         true_values\u001b[38;5;241m=\u001b[39mtrue_values,\n\u001b[0;32m   1743\u001b[0m         false_values\u001b[38;5;241m=\u001b[39mfalse_values,\n\u001b[0;32m   1744\u001b[0m         skiprows\u001b[38;5;241m=\u001b[39mskiprows,\n\u001b[0;32m   1745\u001b[0m         nrows\u001b[38;5;241m=\u001b[39mnrows,\n\u001b[0;32m   1746\u001b[0m         na_values\u001b[38;5;241m=\u001b[39mna_values,\n\u001b[0;32m   1747\u001b[0m         parse_dates\u001b[38;5;241m=\u001b[39mparse_dates,\n\u001b[0;32m   1748\u001b[0m         date_parser\u001b[38;5;241m=\u001b[39mdate_parser,\n\u001b[0;32m   1749\u001b[0m         thousands\u001b[38;5;241m=\u001b[39mthousands,\n\u001b[0;32m   1750\u001b[0m         comment\u001b[38;5;241m=\u001b[39mcomment,\n\u001b[0;32m   1751\u001b[0m         skipfooter\u001b[38;5;241m=\u001b[39mskipfooter,\n\u001b[0;32m   1752\u001b[0m         convert_float\u001b[38;5;241m=\u001b[39mconvert_float,\n\u001b[0;32m   1753\u001b[0m         mangle_dupe_cols\u001b[38;5;241m=\u001b[39mmangle_dupe_cols,\n\u001b[0;32m   1754\u001b[0m         \u001b[38;5;241m*\u001b[39m\u001b[38;5;241m*\u001b[39mkwds,\n\u001b[0;32m   1755\u001b[0m     )\n",
      "File \u001b[1;32m~\\anaconda3\\lib\\site-packages\\pandas\\io\\excel\\_base.py:765\u001b[0m, in \u001b[0;36mBaseExcelReader.parse\u001b[1;34m(self, sheet_name, header, names, index_col, usecols, squeeze, dtype, true_values, false_values, skiprows, nrows, na_values, verbose, parse_dates, date_parser, thousands, decimal, comment, skipfooter, convert_float, mangle_dupe_cols, **kwds)\u001b[0m\n\u001b[0;32m    762\u001b[0m     sheet \u001b[38;5;241m=\u001b[39m \u001b[38;5;28mself\u001b[39m\u001b[38;5;241m.\u001b[39mget_sheet_by_index(asheetname)\n\u001b[0;32m    764\u001b[0m file_rows_needed \u001b[38;5;241m=\u001b[39m \u001b[38;5;28mself\u001b[39m\u001b[38;5;241m.\u001b[39m_calc_rows(header, index_col, skiprows, nrows)\n\u001b[1;32m--> 765\u001b[0m data \u001b[38;5;241m=\u001b[39m \u001b[38;5;28;43mself\u001b[39;49m\u001b[38;5;241;43m.\u001b[39;49m\u001b[43mget_sheet_data\u001b[49m\u001b[43m(\u001b[49m\u001b[43msheet\u001b[49m\u001b[43m,\u001b[49m\u001b[43m \u001b[49m\u001b[43mconvert_float\u001b[49m\u001b[43m,\u001b[49m\u001b[43m \u001b[49m\u001b[43mfile_rows_needed\u001b[49m\u001b[43m)\u001b[49m\n\u001b[0;32m    766\u001b[0m \u001b[38;5;28;01mif\u001b[39;00m \u001b[38;5;28mhasattr\u001b[39m(sheet, \u001b[38;5;124m\"\u001b[39m\u001b[38;5;124mclose\u001b[39m\u001b[38;5;124m\"\u001b[39m):\n\u001b[0;32m    767\u001b[0m     \u001b[38;5;66;03m# pyxlsb opens two TemporaryFiles\u001b[39;00m\n\u001b[0;32m    768\u001b[0m     sheet\u001b[38;5;241m.\u001b[39mclose()\n",
      "File \u001b[1;32m~\\anaconda3\\lib\\site-packages\\pandas\\io\\excel\\_openpyxl.py:615\u001b[0m, in \u001b[0;36mOpenpyxlReader.get_sheet_data\u001b[1;34m(self, sheet, convert_float, file_rows_needed)\u001b[0m\n\u001b[0;32m    613\u001b[0m data: \u001b[38;5;28mlist\u001b[39m[\u001b[38;5;28mlist\u001b[39m[Scalar]] \u001b[38;5;241m=\u001b[39m []\n\u001b[0;32m    614\u001b[0m last_row_with_data \u001b[38;5;241m=\u001b[39m \u001b[38;5;241m-\u001b[39m\u001b[38;5;241m1\u001b[39m\n\u001b[1;32m--> 615\u001b[0m \u001b[38;5;28;01mfor\u001b[39;00m row_number, row \u001b[38;5;129;01min\u001b[39;00m \u001b[38;5;28menumerate\u001b[39m(sheet\u001b[38;5;241m.\u001b[39mrows):\n\u001b[0;32m    616\u001b[0m     converted_row \u001b[38;5;241m=\u001b[39m [\u001b[38;5;28mself\u001b[39m\u001b[38;5;241m.\u001b[39m_convert_cell(cell, convert_float) \u001b[38;5;28;01mfor\u001b[39;00m cell \u001b[38;5;129;01min\u001b[39;00m row]\n\u001b[0;32m    617\u001b[0m     \u001b[38;5;28;01mwhile\u001b[39;00m converted_row \u001b[38;5;129;01mand\u001b[39;00m converted_row[\u001b[38;5;241m-\u001b[39m\u001b[38;5;241m1\u001b[39m] \u001b[38;5;241m==\u001b[39m \u001b[38;5;124m\"\u001b[39m\u001b[38;5;124m\"\u001b[39m:\n\u001b[0;32m    618\u001b[0m         \u001b[38;5;66;03m# trim trailing empty elements\u001b[39;00m\n",
      "File \u001b[1;32m~\\anaconda3\\lib\\site-packages\\openpyxl\\worksheet\\_read_only.py:79\u001b[0m, in \u001b[0;36mReadOnlyWorksheet._cells_by_row\u001b[1;34m(self, min_col, min_row, max_col, max_row, values_only)\u001b[0m\n\u001b[0;32m     75\u001b[0m src \u001b[38;5;241m=\u001b[39m \u001b[38;5;28mself\u001b[39m\u001b[38;5;241m.\u001b[39m_get_source()\n\u001b[0;32m     76\u001b[0m parser \u001b[38;5;241m=\u001b[39m WorkSheetParser(src, \u001b[38;5;28mself\u001b[39m\u001b[38;5;241m.\u001b[39m_shared_strings,\n\u001b[0;32m     77\u001b[0m                          data_only\u001b[38;5;241m=\u001b[39m\u001b[38;5;28mself\u001b[39m\u001b[38;5;241m.\u001b[39mparent\u001b[38;5;241m.\u001b[39mdata_only, epoch\u001b[38;5;241m=\u001b[39m\u001b[38;5;28mself\u001b[39m\u001b[38;5;241m.\u001b[39mparent\u001b[38;5;241m.\u001b[39mepoch,\n\u001b[0;32m     78\u001b[0m                          date_formats\u001b[38;5;241m=\u001b[39m\u001b[38;5;28mself\u001b[39m\u001b[38;5;241m.\u001b[39mparent\u001b[38;5;241m.\u001b[39m_date_formats)\n\u001b[1;32m---> 79\u001b[0m \u001b[38;5;28;01mfor\u001b[39;00m idx, row \u001b[38;5;129;01min\u001b[39;00m parser\u001b[38;5;241m.\u001b[39mparse():\n\u001b[0;32m     80\u001b[0m     \u001b[38;5;28;01mif\u001b[39;00m max_row \u001b[38;5;129;01mis\u001b[39;00m \u001b[38;5;129;01mnot\u001b[39;00m \u001b[38;5;28;01mNone\u001b[39;00m \u001b[38;5;129;01mand\u001b[39;00m idx \u001b[38;5;241m>\u001b[39m max_row:\n\u001b[0;32m     81\u001b[0m         \u001b[38;5;28;01mbreak\u001b[39;00m\n",
      "File \u001b[1;32m~\\anaconda3\\lib\\site-packages\\openpyxl\\worksheet\\_reader.py:144\u001b[0m, in \u001b[0;36mparse\u001b[1;34m()\u001b[0m\n",
      "File \u001b[1;32m~\\anaconda3\\lib\\xml\\etree\\ElementTree.py:1255\u001b[0m, in \u001b[0;36miterparse.<locals>.iterator\u001b[1;34m(source)\u001b[0m\n\u001b[0;32m   1253\u001b[0m \u001b[38;5;28;01myield from\u001b[39;00m pullparser\u001b[38;5;241m.\u001b[39mread_events()\n\u001b[0;32m   1254\u001b[0m \u001b[38;5;66;03m# load event buffer\u001b[39;00m\n\u001b[1;32m-> 1255\u001b[0m data \u001b[38;5;241m=\u001b[39m \u001b[43msource\u001b[49m\u001b[38;5;241;43m.\u001b[39;49m\u001b[43mread\u001b[49m\u001b[43m(\u001b[49m\u001b[38;5;241;43m16\u001b[39;49m\u001b[43m \u001b[49m\u001b[38;5;241;43m*\u001b[39;49m\u001b[43m \u001b[49m\u001b[38;5;241;43m1024\u001b[39;49m\u001b[43m)\u001b[49m\n\u001b[0;32m   1256\u001b[0m \u001b[38;5;28;01mif\u001b[39;00m \u001b[38;5;129;01mnot\u001b[39;00m data:\n\u001b[0;32m   1257\u001b[0m     \u001b[38;5;28;01mbreak\u001b[39;00m\n",
      "File \u001b[1;32m~\\anaconda3\\lib\\zipfile.py:925\u001b[0m, in \u001b[0;36mZipExtFile.read\u001b[1;34m(self, n)\u001b[0m\n\u001b[0;32m    923\u001b[0m \u001b[38;5;28mself\u001b[39m\u001b[38;5;241m.\u001b[39m_offset \u001b[38;5;241m=\u001b[39m \u001b[38;5;241m0\u001b[39m\n\u001b[0;32m    924\u001b[0m \u001b[38;5;28;01mwhile\u001b[39;00m n \u001b[38;5;241m>\u001b[39m \u001b[38;5;241m0\u001b[39m \u001b[38;5;129;01mand\u001b[39;00m \u001b[38;5;129;01mnot\u001b[39;00m \u001b[38;5;28mself\u001b[39m\u001b[38;5;241m.\u001b[39m_eof:\n\u001b[1;32m--> 925\u001b[0m     data \u001b[38;5;241m=\u001b[39m \u001b[38;5;28;43mself\u001b[39;49m\u001b[38;5;241;43m.\u001b[39;49m\u001b[43m_read1\u001b[49m\u001b[43m(\u001b[49m\u001b[43mn\u001b[49m\u001b[43m)\u001b[49m\n\u001b[0;32m    926\u001b[0m     \u001b[38;5;28;01mif\u001b[39;00m n \u001b[38;5;241m<\u001b[39m \u001b[38;5;28mlen\u001b[39m(data):\n\u001b[0;32m    927\u001b[0m         \u001b[38;5;28mself\u001b[39m\u001b[38;5;241m.\u001b[39m_readbuffer \u001b[38;5;241m=\u001b[39m data\n",
      "File \u001b[1;32m~\\anaconda3\\lib\\zipfile.py:1001\u001b[0m, in \u001b[0;36mZipExtFile._read1\u001b[1;34m(self, n)\u001b[0m\n\u001b[0;32m    999\u001b[0m \u001b[38;5;28;01melif\u001b[39;00m \u001b[38;5;28mself\u001b[39m\u001b[38;5;241m.\u001b[39m_compress_type \u001b[38;5;241m==\u001b[39m ZIP_DEFLATED:\n\u001b[0;32m   1000\u001b[0m     n \u001b[38;5;241m=\u001b[39m \u001b[38;5;28mmax\u001b[39m(n, \u001b[38;5;28mself\u001b[39m\u001b[38;5;241m.\u001b[39mMIN_READ_SIZE)\n\u001b[1;32m-> 1001\u001b[0m     data \u001b[38;5;241m=\u001b[39m \u001b[38;5;28;43mself\u001b[39;49m\u001b[38;5;241;43m.\u001b[39;49m\u001b[43m_decompressor\u001b[49m\u001b[38;5;241;43m.\u001b[39;49m\u001b[43mdecompress\u001b[49m\u001b[43m(\u001b[49m\u001b[43mdata\u001b[49m\u001b[43m,\u001b[49m\u001b[43m \u001b[49m\u001b[43mn\u001b[49m\u001b[43m)\u001b[49m\n\u001b[0;32m   1002\u001b[0m     \u001b[38;5;28mself\u001b[39m\u001b[38;5;241m.\u001b[39m_eof \u001b[38;5;241m=\u001b[39m (\u001b[38;5;28mself\u001b[39m\u001b[38;5;241m.\u001b[39m_decompressor\u001b[38;5;241m.\u001b[39meof \u001b[38;5;129;01mor\u001b[39;00m\n\u001b[0;32m   1003\u001b[0m                  \u001b[38;5;28mself\u001b[39m\u001b[38;5;241m.\u001b[39m_compress_left \u001b[38;5;241m<\u001b[39m\u001b[38;5;241m=\u001b[39m \u001b[38;5;241m0\u001b[39m \u001b[38;5;129;01mand\u001b[39;00m\n\u001b[0;32m   1004\u001b[0m                  \u001b[38;5;129;01mnot\u001b[39;00m \u001b[38;5;28mself\u001b[39m\u001b[38;5;241m.\u001b[39m_decompressor\u001b[38;5;241m.\u001b[39munconsumed_tail)\n\u001b[0;32m   1005\u001b[0m     \u001b[38;5;28;01mif\u001b[39;00m \u001b[38;5;28mself\u001b[39m\u001b[38;5;241m.\u001b[39m_eof:\n",
      "\u001b[1;31mKeyboardInterrupt\u001b[0m: "
     ]
    }
   ],
   "source": [
    "spd= pd.read_excel('C:\\\\Users\\\\ajou\\\\Desktop\\\\Data\\\\dongtan\\\\speed_not0.xlsx')\n",
    "spd_ratio= pd.read_excel('C:\\\\Users\\\\ajou\\\\Desktop\\\\Data\\\\dongtan\\\\speed_ratio.xlsx')\n",
    "\n",
    "incident=pd.read_excel('C:\\\\Users\\\\ajou\\\\Desktop\\\\Data\\\\dongtan\\\\incident_new.xlsx')\n",
    "\n",
    "TTI_1=pd.read_excel('C:\\\\Users\\\\ajou\\\\Desktop\\\\Data\\\\dongtan\\\\link_char.xlsx',sheet_name='travel time index')\n",
    "TTI_2=pd.read_excel('C:\\\\Users\\\\ajou\\\\Desktop\\\\Data\\\\dongtan\\\\link_char.xlsx',sheet_name='travel time index_2')\n",
    "#travel time index_1: 최고속도(95%)기준 통과시간-현재속도 기준 통과시간(speed_not0 파일 기준으로 계산)\n",
    "#travel time index_2: 최고속도(95%)/현재속도(speed_not0 파일 기준으로 계산)\n",
    "\n",
    "#green_volume_ratio=pd.read...\n",
    "#green=\n",
    "#queue_ratio=\n",
    "#queue=\n",
    "\n",
    "weather=pd.read_csv('C:\\\\Users\\\\ajou\\\\Desktop\\\\Data\\\\dongtan\\\\weather_hwasung.csv')\n",
    "link_char=pd.read_excel('C:\\\\Users\\\\ajou\\\\Desktop\\\\Data\\\\dongtan\\\\link_char.xlsx')\n",
    "\n",
    "vol_total=pd.read_excel('C:\\\\Users\\\\ajou\\\\Desktop\\\\Data\\\\dongtan\\\\volume_not0.xlsx',sheet_name='vol_total')\n",
    "vol_thr=pd.read_excel('C:\\\\Users\\\\ajou\\\\Desktop\\\\Data\\\\dongtan\\\\volume_not0.xlsx',sheet_name='vol_thr')\n",
    "vol_left=pd.read_excel('C:\\\\Users\\\\ajou\\\\Desktop\\\\Data\\\\dongtan\\\\volume_not0.xlsx',sheet_name='vol_left')\n",
    "vol_right=pd.read_excel('C:\\\\Users\\\\ajou\\\\Desktop\\\\Data\\\\dongtan\\\\volume_not0.xlsx',sheet_name='vol_right')\n",
    "vol_uturn=pd.read_excel('C:\\\\Users\\\\ajou\\\\Desktop\\\\Data\\\\dongtan\\\\volume_not0.xlsx',sheet_name='vol_uturn')\n",
    "vol_veh=pd.read_excel('C:\\\\Users\\\\ajou\\\\Desktop\\\\Data\\\\dongtan\\\\volume_not0.xlsx',sheet_name='vol_veh')\n",
    "vol_bus_s=pd.read_excel('C:\\\\Users\\\\ajou\\\\Desktop\\\\Data\\\\dongtan\\\\volume_not0.xlsx',sheet_name='vol_bus_s')\n",
    "vol_bus_b=pd.read_excel('C:\\\\Users\\\\ajou\\\\Desktop\\\\Data\\\\dongtan\\\\volume_not0.xlsx',sheet_name='vol_bus_b')\n",
    "vol_truck_s=pd.read_excel('C:\\\\Users\\\\ajou\\\\Desktop\\\\Data\\\\dongtan\\\\volume_not0.xlsx',sheet_name='vol_truck_s')\n",
    "vol_truck_b=pd.read_excel('C:\\\\Users\\\\ajou\\\\Desktop\\\\Data\\\\dongtan\\\\volume_not0.xlsx',sheet_name='vol_truck_b')\n",
    "vol_motor=pd.read_excel('C:\\\\Users\\\\ajou\\\\Desktop\\\\Data\\\\dongtan\\\\volume_not0.xlsx',sheet_name='vol_motor')\n",
    "vol_ratio=pd.read_excel('C:\\\\Users\\\\ajou\\\\Desktop\\\\Data\\\\dongtan\\\\volume_not0.xlsx',sheet_name='vol_ratio')\n",
    "# vol_total에서 교통량을 lane으로 나눠줌\n",
    "# 40352 공사중인데 교통량 있어서 lane 수 1로 가정\n"
   ]
  },
  {
   "cell_type": "markdown",
   "id": "b81a8b55",
   "metadata": {},
   "source": [
    "# 결측치 처리&확인"
   ]
  },
  {
   "cell_type": "code",
   "execution_count": null,
   "id": "e6040ca7",
   "metadata": {},
   "outputs": [],
   "source": [
    "#speed는 결측된 시간에서 교통량이 0이라는 것을 확인하여 최고속도(95%)로 대치, 교통량은 빈 셀을 0으로 대치"
   ]
  },
  {
   "cell_type": "code",
   "execution_count": null,
   "id": "73c1a43a",
   "metadata": {},
   "outputs": [],
   "source": [
    "spd[spd.isnull().any(axis=1)]"
   ]
  },
  {
   "cell_type": "code",
   "execution_count": null,
   "id": "ce7341f3",
   "metadata": {},
   "outputs": [],
   "source": [
    "spd_ratio[spd_ratio.isnull().any(axis=1)]"
   ]
  },
  {
   "cell_type": "code",
   "execution_count": null,
   "id": "08ef0eef",
   "metadata": {},
   "outputs": [],
   "source": [
    "incident[incident.isnull().any(axis=1)]"
   ]
  },
  {
   "cell_type": "code",
   "execution_count": null,
   "id": "cfd715ea",
   "metadata": {},
   "outputs": [],
   "source": [
    "TTI_1[TTI_1.isnull().any(axis=1)]"
   ]
  },
  {
   "cell_type": "code",
   "execution_count": null,
   "id": "932ccb66",
   "metadata": {},
   "outputs": [],
   "source": [
    "TTI_2[TTI_2.isnull().any(axis=1)]"
   ]
  },
  {
   "cell_type": "code",
   "execution_count": null,
   "id": "19d0e4b6",
   "metadata": {},
   "outputs": [],
   "source": [
    "weather[weather.isnull().any(axis=1)]"
   ]
  },
  {
   "cell_type": "code",
   "execution_count": null,
   "id": "5b167d25",
   "metadata": {},
   "outputs": [],
   "source": [
    "link_char[link_char.isnull().any(axis=1)]"
   ]
  },
  {
   "cell_type": "code",
   "execution_count": null,
   "id": "b32e1c75",
   "metadata": {},
   "outputs": [],
   "source": [
    "vol_total[vol_total.isnull().any(axis=1)]"
   ]
  },
  {
   "cell_type": "code",
   "execution_count": null,
   "id": "eafee53f",
   "metadata": {},
   "outputs": [],
   "source": [
    "vol_thr[vol_thr.isnull().any(axis=1)]"
   ]
  },
  {
   "cell_type": "code",
   "execution_count": null,
   "id": "6d9ee158",
   "metadata": {},
   "outputs": [],
   "source": [
    "vol_left[vol_left.isnull().any(axis=1)]"
   ]
  },
  {
   "cell_type": "code",
   "execution_count": null,
   "id": "1e260e14",
   "metadata": {},
   "outputs": [],
   "source": [
    "vol_right[vol_right.isnull().any(axis=1)]"
   ]
  },
  {
   "cell_type": "code",
   "execution_count": null,
   "id": "0859e6c9",
   "metadata": {},
   "outputs": [],
   "source": [
    "vol_uturn[vol_uturn.isnull().any(axis=1)]"
   ]
  },
  {
   "cell_type": "code",
   "execution_count": null,
   "id": "43227fc9",
   "metadata": {},
   "outputs": [],
   "source": [
    "vol_veh[vol_veh.isnull().any(axis=1)]"
   ]
  },
  {
   "cell_type": "code",
   "execution_count": null,
   "id": "f91a7b93",
   "metadata": {},
   "outputs": [],
   "source": [
    "vol_bus_s[vol_bus_s.isnull().any(axis=1)]"
   ]
  },
  {
   "cell_type": "code",
   "execution_count": null,
   "id": "44e2132f",
   "metadata": {},
   "outputs": [],
   "source": [
    "vol_bus_b[vol_bus_b.isnull().any(axis=1)]"
   ]
  },
  {
   "cell_type": "code",
   "execution_count": null,
   "id": "157a364f",
   "metadata": {},
   "outputs": [],
   "source": [
    "vol_truck_s[vol_truck_s.isnull().any(axis=1)]"
   ]
  },
  {
   "cell_type": "code",
   "execution_count": null,
   "id": "9868625c",
   "metadata": {
    "scrolled": true
   },
   "outputs": [],
   "source": [
    "vol_truck_b[vol_truck_b.isnull().any(axis=1)]"
   ]
  },
  {
   "cell_type": "code",
   "execution_count": null,
   "id": "8a146a37",
   "metadata": {},
   "outputs": [],
   "source": [
    "vol_motor[vol_motor.isnull().any(axis=1)]"
   ]
  },
  {
   "cell_type": "code",
   "execution_count": null,
   "id": "b78bca0e",
   "metadata": {},
   "outputs": [],
   "source": [
    "vol_ratio[vol_ratio.isnull().any(axis=1)]"
   ]
  },
  {
   "cell_type": "code",
   "execution_count": null,
   "id": "d7d04bdd",
   "metadata": {},
   "outputs": [],
   "source": [
    "#incident는 명목형 변수라서 임베딩 과정 필요"
   ]
  },
  {
   "cell_type": "code",
   "execution_count": null,
   "id": "8cacc68f",
   "metadata": {},
   "outputs": [],
   "source": [
    "data=[spd, spd_ratio, incident, TTI_1, TTI_2, weather, vol_total, vol_thr, vol_left, vol_right, vol_uturn, vol_veh, vol_bus_s,\n",
    "      vol_bus_b, vol_truck_s,vol_truck_b,vol_motor,vol_ratio]\n",
    "#link_char는 뺀다.\n"
   ]
  },
  {
   "cell_type": "code",
   "execution_count": null,
   "id": "de898b50",
   "metadata": {},
   "outputs": [],
   "source": [
    "data_name={'spd': spd, 'spd_ratio':spd_ratio,'incident':incident,'TTI_1':TTI_1, 'TTI_2':TTI_2, 'weather':weather, \n",
    "      'vol_total':vol_total, 'vol_thr':vol_thr, 'vol_left':vol_left, 'vol_right':vol_right, 'vol_uturn':vol_uturn, 'vol_veh':vol_veh, \n",
    "      'vol_bus_s':vol_bus_s,'vol_bus_b':vol_bus_b, 'vol_truck_s':vol_truck_s,'vol_truck_b':vol_truck_b,'vol_motor':vol_motor,'vol_ratio':vol_ratio}\n",
    "#link_char는 뺀다.\n"
   ]
  },
  {
   "cell_type": "code",
   "execution_count": null,
   "id": "1c56dad0",
   "metadata": {},
   "outputs": [],
   "source": [
    "list(data_name.keys())"
   ]
  },
  {
   "cell_type": "code",
   "execution_count": null,
   "id": "28ff1cfa",
   "metadata": {},
   "outputs": [],
   "source": [
    "from sklearn.preprocessing import StandardScaler"
   ]
  },
  {
   "cell_type": "code",
   "execution_count": null,
   "id": "0d6e2974",
   "metadata": {},
   "outputs": [],
   "source": [
    "# 데이터 표준화 - StandardScaler\n",
    "scalers = {}  # 스케일러를 저장할 딕셔너리\n",
    "\n",
    "for i, df in enumerate(data):\n",
    "    scaler = StandardScaler()  # StandardScaler 객체 생성\n",
    "    df.columns = df.columns.astype(str)\n",
    "    df.set_index('time', inplace=True)\n",
    "    scaled_data = scaler.fit_transform(df)  # 데이터 표준화\n",
    "    scalers[f'scaler_{i}'] = scaler  # 스케일러를 딕셔너리에 저장\n",
    "    list(data_name.keys())[i]=scaler.fit_transform(df)\n",
    "\n",
    "    "
   ]
  },
  {
   "cell_type": "code",
   "execution_count": null,
   "id": "ad1bff43",
   "metadata": {
    "scrolled": true
   },
   "outputs": [],
   "source": [
    "#로우 컬럼 수 확인\n",
    "for df in data:\n",
    "    print(df.shape)  #날씨 데이터 제외 다 맞음"
   ]
  },
  {
   "cell_type": "code",
   "execution_count": null,
   "id": "ff38734c",
   "metadata": {},
   "outputs": [],
   "source": []
  },
  {
   "cell_type": "code",
   "execution_count": null,
   "id": "f2391f9a",
   "metadata": {},
   "outputs": [],
   "source": []
  },
  {
   "cell_type": "code",
   "execution_count": null,
   "id": "3e53a22b",
   "metadata": {},
   "outputs": [],
   "source": []
  },
  {
   "cell_type": "code",
   "execution_count": 5,
   "id": "557a9658",
   "metadata": {},
   "outputs": [],
   "source": [
    "columns=spd.columns"
   ]
  },
  {
   "cell_type": "code",
   "execution_count": 6,
   "id": "ff41987d",
   "metadata": {},
   "outputs": [
    {
     "data": {
      "text/plain": [
       "Index(['time',  40221,  40222,  40223,  40224,  40231,  40232,  40233,  40234,\n",
       "        40241,  40242,  40243,  40244,  40311,  40312,  40313,  40314,  40321,\n",
       "        40322,  40323,  40324,  40331,  40332,  40333,  40334,  40341,  40342,\n",
       "        40343,  40344,  40351,  40352,  40353,  40354,  40371,  40372,  40373,\n",
       "        40374,  40381,  40382,  40383,  40384,  40391,  40392,  40393,  40394],\n",
       "      dtype='object')"
      ]
     },
     "execution_count": 6,
     "metadata": {},
     "output_type": "execute_result"
    }
   ],
   "source": [
    "columns"
   ]
  },
  {
   "cell_type": "code",
   "execution_count": 7,
   "id": "e1b9a323",
   "metadata": {},
   "outputs": [],
   "source": [
    "import networkx as nx\n",
    "\n",
    "G=nx.Graph() #상-하 링크 상호간 영향을 주기 때문에 방향성 없는 그래프로 만듦"
   ]
  },
  {
   "cell_type": "code",
   "execution_count": 8,
   "id": "13150e31",
   "metadata": {},
   "outputs": [],
   "source": [
    "for link in columns:\n",
    "    G.add_node(link)\n",
    "#노드가 검지기가 됨"
   ]
  },
  {
   "cell_type": "code",
   "execution_count": 9,
   "id": "11cfe714",
   "metadata": {},
   "outputs": [],
   "source": [
    "for link in columns:\n",
    "    G.add_edge(link,link)\n",
    "    \n",
    "#self loop를 갖도록 함"
   ]
  },
  {
   "cell_type": "code",
   "execution_count": 10,
   "id": "91a3876d",
   "metadata": {},
   "outputs": [],
   "source": [
    "axis1=[40353,40343,40333,40323,40313]\n",
    "axis2=[40351,40341,40331,40321,40311]\n",
    "\n",
    "axis3=[40352,40372,40382,40233,40243]\n",
    "axis4=[40354,40374,40384,40231,40241]\n",
    "\n",
    "axis5=[40222,40244,40314]\n",
    "axis6=[40312,40242,40224]\n",
    "\n",
    "axis7=[40332,40391,40371]\n",
    "axis8=[40373,40393,40334]\n",
    "\n",
    "axis9=[40223,40234,40394,40344]\n",
    "axis10=[40392,40232,40221]"
   ]
  },
  {
   "cell_type": "code",
   "execution_count": 11,
   "id": "6d21fb4c",
   "metadata": {},
   "outputs": [],
   "source": [
    "axes = [axis1, axis2, axis3, axis4, axis5, axis6, axis7, axis8, axis9, axis10]"
   ]
  },
  {
   "cell_type": "code",
   "execution_count": 12,
   "id": "8f6349b9",
   "metadata": {
    "scrolled": true
   },
   "outputs": [
    {
     "name": "stdout",
     "output_type": "stream",
     "text": [
      "40353 40343\n",
      "505.554114247263\n",
      "40343 40333\n",
      "366.994239981224\n",
      "40333 40323\n",
      "503.06999302009496\n",
      "40323 40313\n",
      "280.720207209614\n",
      "40351 40341\n",
      "366.88872706025\n",
      "40341 40331\n",
      "502.80329036098294\n",
      "40331 40321\n",
      "280.80950734899204\n",
      "40321 40311\n",
      "452.981479985863\n",
      "40352 40372\n",
      "413.12215520928\n",
      "40372 40382\n",
      "359.64154135804\n",
      "40382 40233\n",
      "578.7700773932829\n",
      "40233 40243\n",
      "565.494308665743\n",
      "40354 40374\n",
      "360.921489117235\n",
      "40374 40384\n",
      "697.532688614321\n",
      "40384 40231\n",
      "565.9957165589\n",
      "40231 40241\n",
      "474.664842996139\n",
      "40222 40244\n",
      "580.544892492954\n",
      "40244 40314\n",
      "1701.7183757707\n",
      "40312 40242\n",
      "1707.295237286133\n",
      "40242 40224\n",
      "588.350807551668\n",
      "40332 40391\n",
      "610.016636617877\n",
      "40391 40371\n",
      "559.856498109622\n",
      "40373 40393\n",
      "557.756093103493\n",
      "40393 40334\n",
      "593.982125660618\n",
      "40223 40234\n",
      "700.2195223457759\n",
      "40234 40394\n",
      "876.30761976857\n",
      "40394 40344\n",
      "414.548982027993\n",
      "40392 40232\n",
      "883.438435032223\n",
      "40232 40221\n",
      "685.749039713941\n"
     ]
    }
   ],
   "source": [
    "for axis in axes:\n",
    "    for j in range(len(axis)):\n",
    "        try:\n",
    "            G.add_edge(axis[j],axis[j+1], weight=1/(link_char[axis[j+1]].iloc[0]))\n",
    "            print(axis[j],axis[j+1])           #인접한 검지기만 엣지로 연결\n",
    "            print(link_char[axis[j+1]].iloc[0]) # 1/링크 거리를 인접행렬의 가중치로(1차 시도.. 향후 edge랑 가중치 다양하게 구성해보기) \n",
    "            \n",
    "        except IndexError:\n",
    "            break\n",
    "            "
   ]
  },
  {
   "cell_type": "code",
   "execution_count": 13,
   "id": "b2832289",
   "metadata": {
    "scrolled": true
   },
   "outputs": [
    {
     "name": "stderr",
     "output_type": "stream",
     "text": [
      "C:\\Users\\ajou\\AppData\\Local\\Temp\\ipykernel_12372\\4138473497.py:1: FutureWarning: adjacency_matrix will return a scipy.sparse array instead of a matrix in Networkx 3.0.\n",
      "  adj_matrix=nx.adjacency_matrix(G)\n"
     ]
    }
   ],
   "source": [
    "adj_matrix=nx.adjacency_matrix(G)\n",
    "\n",
    "#에러 발생 시 scipy1.8.0, networkx 2.8로 버전 맞추고 커널 껐다가 다시 키면 됨"
   ]
  },
  {
   "cell_type": "code",
   "execution_count": 14,
   "id": "975f714f",
   "metadata": {
    "scrolled": true
   },
   "outputs": [
    {
     "name": "stdout",
     "output_type": "stream",
     "text": [
      "[[1. 0. 0. ... 0. 0. 0.]\n",
      " [0. 1. 0. ... 0. 0. 0.]\n",
      " [0. 0. 1. ... 0. 0. 0.]\n",
      " ...\n",
      " [0. 0. 0. ... 1. 0. 0.]\n",
      " [0. 0. 0. ... 0. 1. 0.]\n",
      " [0. 0. 0. ... 0. 0. 1.]]\n"
     ]
    }
   ],
   "source": [
    "print(adj_matrix.toarray())"
   ]
  },
  {
   "cell_type": "code",
   "execution_count": 18,
   "id": "35012ef1",
   "metadata": {},
   "outputs": [],
   "source": [
    "G.nodes[40353]['feature1']=15"
   ]
  },
  {
   "cell_type": "code",
   "execution_count": 19,
   "id": "5eb9feb7",
   "metadata": {},
   "outputs": [
    {
     "name": "stdout",
     "output_type": "stream",
     "text": [
      "15\n"
     ]
    }
   ],
   "source": [
    "print(G.nodes[40353]['feature1'])"
   ]
  },
  {
   "cell_type": "code",
   "execution_count": null,
   "id": "93e5ef18",
   "metadata": {},
   "outputs": [],
   "source": []
  },
  {
   "cell_type": "code",
   "execution_count": null,
   "id": "48b0dbe3",
   "metadata": {},
   "outputs": [],
   "source": []
  },
  {
   "cell_type": "code",
   "execution_count": 15,
   "id": "60df018d",
   "metadata": {},
   "outputs": [],
   "source": [
    "# 시계열 그래프 데이터 생성\n",
    "# (노드, 엣지, 시간대 정보 등)"
   ]
  },
  {
   "cell_type": "code",
   "execution_count": null,
   "id": "68268b7f",
   "metadata": {},
   "outputs": [],
   "source": [
    "# 그래프 초기화\n",
    "time_series_graphs = []\n",
    "\n",
    "for t in range(time_steps):\n",
    "    G = nx.Graph()\n",
    "    G.add_nodes_from(nodes)\n",
    "    \n",
    "    # 엣지 추가 (임의로 생성)\n",
    "    for node1 in nodes:\n",
    "        for node2 in nodes:\n",
    "            if node1 != node2 and np.random.rand() < 0.2:  # 랜덤한 확률로 엣지 생성\n",
    "                G.add_edge(node1, node2)\n",
    "                \n",
    "    time_series_graphs.append(G)\n",
    "\n",
    "# 시계열 그래프 데이터 확인\n",
    "for t, G in enumerate(time_series_graphs):\n",
    "    print(f\"Time step {t+1}: Nodes: {G.nodes()}, Edges: {G.edges()}\")"
   ]
  },
  {
   "cell_type": "code",
   "execution_count": null,
   "id": "4dd961f5",
   "metadata": {},
   "outputs": [],
   "source": []
  },
  {
   "cell_type": "code",
   "execution_count": null,
   "id": "27594547",
   "metadata": {},
   "outputs": [],
   "source": [
    "import dgl\n",
    "import torch\n",
    "import torch.nn as nn\n",
    "import dgl.function as fn\n",
    "from dgl.nn.pytorch import GATConv, TransformerEncoder, TransformerDecoder\n",
    "\n",
    "# 시계열 그래프 데이터 생성\n",
    "# (노드, 엣지, 시간대 정보 등)\n",
    "\n",
    "# GAT 모델 정의\n",
    "class GATModel(nn.Module):\n",
    "    def __init__(self, in_feats, hidden_feats, num_heads, num_layers):\n",
    "        super(GATModel, self).__init__()\n",
    "        self.convs = nn.ModuleList()\n",
    "        self.convs.append(GATConv(in_feats, hidden_feats, num_heads))\n",
    "        for _ in range(1, num_layers):\n",
    "            self.convs.append(GATConv(hidden_feats * num_heads, hidden_feats, num_heads))\n",
    "        \n",
    "    def forward(self, g, x):\n",
    "        for conv in self.convs:\n",
    "            x = conv(g, x).flatten(1)\n",
    "        return x\n",
    "\n",
    "# Transformer 모델 정의\n",
    "class TransformerTimeSeries(nn.Module):\n",
    "    def __init__(self, input_size, d_model, nhead, num_encoder_layers, num_decoder_layers):\n",
    "        super(TransformerTimeSeries, self).__init__()\n",
    "        self.encoder = TransformerEncoder(\n",
    "            d_model=d_model,\n",
    "            nhead=nhead,\n",
    "            num_layers=num_encoder_layers\n",
    "        )\n",
    "        self.decoder = TransformerDecoder(\n",
    "            d_model=d_model,\n",
    "            nhead=nhead,\n",
    "            num_layers=num_decoder_layers\n",
    "        )\n",
    "        \n",
    "    def forward(self, src, tgt):\n",
    "        # src: 시계열 임베딩, tgt: 이전 시점의 예측값\n",
    "        memory = self.encoder(src)\n",
    "        output = self.decoder(tgt, memory)\n",
    "        return output\n",
    "\n",
    "# GAT 모델 학습 및 임베딩 생성\n",
    "gat_model = GATModel(input_size, hidden_size, num_heads, num_layers)\n",
    "gat_emb = gat_model(graph, node_features)\n",
    "\n",
    "# Transformer 모델 학습 및 예측\n",
    "transformer_model = TransformerTimeSeries(input_size, d_model, nhead, num_encoder_layers, num_decoder_layers)\n",
    "predicted_values = transformer_model(gat_emb, previous_predictions)"
   ]
  }
 ],
 "metadata": {
  "kernelspec": {
   "display_name": "venv1",
   "language": "python",
   "name": "venv1"
  },
  "language_info": {
   "codemirror_mode": {
    "name": "ipython",
    "version": 3
   },
   "file_extension": ".py",
   "mimetype": "text/x-python",
   "name": "python",
   "nbconvert_exporter": "python",
   "pygments_lexer": "ipython3",
   "version": "3.10.9"
  }
 },
 "nbformat": 4,
 "nbformat_minor": 5
}
